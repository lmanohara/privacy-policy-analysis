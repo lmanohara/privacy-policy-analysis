{
  "nbformat": 4,
  "nbformat_minor": 0,
  "metadata": {
    "kernelspec": {
      "display_name": "Python 3",
      "language": "python",
      "name": "python3"
    },
    "language_info": {
      "codemirror_mode": {
        "name": "ipython",
        "version": 3
      },
      "file_extension": ".py",
      "mimetype": "text/x-python",
      "name": "python",
      "nbconvert_exporter": "python",
      "pygments_lexer": "ipython3",
      "version": "3.6.8"
    },
    "colab": {
      "name": "universal-sentence-encocder-semantic-similarity.ipynb",
      "provenance": [],
      "collapsed_sections": [],
      "toc_visible": true
    }
  },
  "cells": [
    {
      "cell_type": "markdown",
      "metadata": {
        "id": "GRp5Fc16hK_Q"
      },
      "source": [
        "# TL;DR\n",
        "This notebook demonstrates how powerful sentence embeddings from Universal Sentence Encoder are.  \n",
        "These sentence representations can be used in varities of NLP tasks."
      ]
    },
    {
      "cell_type": "code",
      "metadata": {
        "id": "0swKNFoohK_a"
      },
      "source": [
        "import numpy as np\n",
        "import tensorflow as tf\n",
        "import tensorflow_hub as hub\n",
        "import nltk\n",
        "\n",
        "import re\n",
        "import pandas as pd\n",
        "import json"
      ],
      "execution_count": null,
      "outputs": []
    },
    {
      "cell_type": "code",
      "metadata": {
        "id": "Q-t1tNSqCkPH",
        "colab": {
          "base_uri": "https://localhost:8080/",
          "height": 34
        },
        "outputId": "3e24c80d-944a-4b5f-8b40-2d4d71aee956"
      },
      "source": [
        "from google.colab import drive\n",
        "drive.mount('/content/drive/')"
      ],
      "execution_count": null,
      "outputs": [
        {
          "output_type": "stream",
          "text": [
            "Drive already mounted at /content/drive/; to attempt to forcibly remount, call drive.mount(\"/content/drive/\", force_remount=True).\n"
          ],
          "name": "stdout"
        }
      ]
    },
    {
      "cell_type": "markdown",
      "metadata": {
        "id": "86vn5vNChK_s"
      },
      "source": [
        "## Universal Sentence Encoder\n",
        "It is the model for encoding sentences into embedding vectors that specifically target transfer learning to other NLP tasks. The model is efficient and result in accurate performance on diverse transfer tasks.  \n",
        "\n",
        "**References**  \n",
        "- [arxiv](https://arxiv.org/abs/1803.11175)\n",
        "- [tensorflow hub](https://tfhub.dev/google/universal-sentence-encoder-large/3)\n",
        "- [colab notebook](https://colab.research.google.com/github/tensorflow/hub/blob/master/examples/colab/semantic_similarity_with_tf_hub_universal_encoder.ipynb)\n",
        "- [my personal usecase](https://github.com/NISH1001/lyrics2vec/blob/master/lyrics2vec.ipynb)\n"
      ]
    },
    {
      "cell_type": "markdown",
      "metadata": {
        "id": "GwHzpEZ2hK_w"
      },
      "source": [
        "### Load Embedding Tensor"
      ]
    },
    {
      "cell_type": "code",
      "metadata": {
        "id": "Hyx5ExWFhK_0"
      },
      "source": [
        "# https://github.com/NISH1001/machine-learning-into-the-void/blob/master/nlp/universal-sentence-encocder-semantic-similarity.ipynb\n",
        "# tensroflow hub module for Universal sentence Encoder\n",
        "module_url = \"https://tfhub.dev/google/universal-sentence-encoder-large/3\" #@param [\"https://tfhub.dev/google/universal-sentence-encoder/2\", \"https://tfhub.dev/google/universal-sentence-encoder-large/3\"]"
      ],
      "execution_count": null,
      "outputs": []
    },
    {
      "cell_type": "code",
      "metadata": {
        "id": "u8hMpPk-hLAB"
      },
      "source": [
        "embed = hub.Module(module_url)"
      ],
      "execution_count": null,
      "outputs": []
    },
    {
      "cell_type": "markdown",
      "metadata": {
        "id": "3N3iMx-khLAM"
      },
      "source": [
        "## Feature Extractor\n",
        "\n",
        "This is just a simple function to wrap tensorflow call.\n"
      ]
    },
    {
      "cell_type": "code",
      "metadata": {
        "id": "knnECGyihLAP"
      },
      "source": [
        "def get_features(texts):\n",
        "    if type(texts) is str:\n",
        "        texts = [texts]\n",
        "    with tf.Session() as sess:\n",
        "        sess.run([tf.global_variables_initializer(), tf.tables_initializer()])\n",
        "        return sess.run(embed(texts))\n",
        "    "
      ],
      "execution_count": null,
      "outputs": []
    },
    {
      "cell_type": "markdown",
      "metadata": {
        "id": "O92E5d93hLAW"
      },
      "source": [
        "## Preprocess Textual Mess"
      ]
    },
    {
      "cell_type": "code",
      "metadata": {
        "id": "dyYPx-UwhLAY",
        "colab": {
          "base_uri": "https://localhost:8080/",
          "height": 34
        },
        "outputId": "9b1c3d38-de9c-43aa-89e8-884266bf7df9"
      },
      "source": [
        "def remove_stopwords(stop_words, tokens):\n",
        "    res = []\n",
        "    for token in tokens:\n",
        "        if not token in stop_words:\n",
        "            res.append(token)\n",
        "    return res\n",
        "\n",
        "def process_text(text):\n",
        "    text = text.encode('ascii', errors='ignore').decode()\n",
        "    text = text.lower()\n",
        "    text = re.sub(r'http\\S+', ' ', text)\n",
        "    text = re.sub(r'#+', ' ', text )\n",
        "    text = re.sub(r'@[A-Za-z0-9]+', ' ', text)\n",
        "    text = re.sub(r\"([A-Za-z]+)'s\", r\"\\1 is\", text)\n",
        "    #text = re.sub(r\"\\'s\", \" \", text)\n",
        "    text = re.sub(r\"\\'ve\", \" have \", text)\n",
        "    text = re.sub(r\"won't\", \"will not \", text)\n",
        "    text = re.sub(r\"isn't\", \"is not \", text)\n",
        "    text = re.sub(r\"can't\", \"can not \", text)\n",
        "    text = re.sub(r\"n't\", \" not \", text)\n",
        "    text = re.sub(r\"i'm\", \"i am \", text)\n",
        "    text = re.sub(r\"\\'re\", \" are \", text)\n",
        "    text = re.sub(r\"\\'d\", \" would \", text)\n",
        "    text = re.sub(r\"\\'ll\", \" will \", text)\n",
        "    text = re.sub('\\W', ' ', text)\n",
        "    text = re.sub(r'\\d+', ' ', text)\n",
        "    text = re.sub('\\s+', ' ', text)\n",
        "    text = text.strip()\n",
        "    return text\n",
        "\n",
        "def lemmatize(tokens):\n",
        "    lemmatizer = nltk.stem.WordNetLemmatizer()\n",
        "    lemma_list = []\n",
        "    for token in tokens:\n",
        "        lemma = lemmatizer.lemmatize(token, 'v')\n",
        "        if lemma == token:\n",
        "            lemma = lemmatizer.lemmatize(token)\n",
        "        lemma_list.append(lemma)\n",
        "    # return [ lemmatizer.lemmatize(token, 'v') for token in tokens ]\n",
        "    return lemma_list\n",
        "\n",
        "\n",
        "def process_all(text):\n",
        "    text = process_text(text)\n",
        "    return ' '.join(remove_stopwords(stop_words, text.split()))\n",
        "\n",
        "process_text(\"Hello! Who are you?\")"
      ],
      "execution_count": null,
      "outputs": [
        {
          "output_type": "execute_result",
          "data": {
            "text/plain": [
              "'hello who are you'"
            ]
          },
          "metadata": {
            "tags": []
          },
          "execution_count": 10
        }
      ]
    },
    {
      "cell_type": "markdown",
      "metadata": {
        "id": "bsyBo454hLAe"
      },
      "source": [
        "## Load Data\n",
        "Here, I am using some dummy texts of mine.  \n",
        "Most of the data is taken from [here](https://github.com/NISH1001/rnn-for-text/blob/master/data/input.txt)"
      ]
    },
    {
      "cell_type": "code",
      "metadata": {
        "id": "xK-xyIHShLAf"
      },
      "source": [
        "df = pd.read_csv('/content/drive/My Drive/research_project/nlp_privacy_policy_analyze/data/Annotated_privacy_policy_segments_100.csv', encoding='utf-8')\n",
        "filtredData = df[df['annotated_class'] != 'OTHER']\n",
        "data = filtredData['statement']\n",
        "data"
      ],
      "execution_count": null,
      "outputs": []
    },
    {
      "cell_type": "markdown",
      "metadata": {
        "id": "TBO0BB-ahLAk"
      },
      "source": [
        "## Preprocess Data"
      ]
    },
    {
      "cell_type": "code",
      "metadata": {
        "id": "fxZ20cGihLAl"
      },
      "source": [
        "data_processed = list(map(process_text, data))\n",
        "len(data_processed)\n",
        "data_processed"
      ],
      "execution_count": null,
      "outputs": []
    },
    {
      "cell_type": "markdown",
      "metadata": {
        "id": "OLi7FFa2hLAp"
      },
      "source": [
        "#### Peek Data"
      ]
    },
    {
      "cell_type": "code",
      "metadata": {
        "id": "afhVnXyPhLAr"
      },
      "source": [
        "# peek \n",
        "[d[:100] for d in data_processed ]"
      ],
      "execution_count": null,
      "outputs": []
    },
    {
      "cell_type": "markdown",
      "metadata": {
        "id": "jql-aeUGhLAv"
      },
      "source": [
        "## Create Sentence Embedding\n",
        "Here, we use Universal Sentence Encoder to featurize each text.  \n",
        "This will create some type of representation of text in latent space.  \n",
        "The length of each vector is 512."
      ]
    },
    {
      "cell_type": "code",
      "metadata": {
        "id": "8oLdTWZ5hLAw",
        "colab": {
          "base_uri": "https://localhost:8080/",
          "height": 51
        },
        "outputId": "c30fd1a1-3104-4187-d0d5-3a4c6bc48ec0"
      },
      "source": [
        "BASE_VECTORS = get_features(data)"
      ],
      "execution_count": null,
      "outputs": [
        {
          "output_type": "stream",
          "text": [
            "INFO:tensorflow:Saver not created because there are no variables in the graph to restore\n"
          ],
          "name": "stdout"
        },
        {
          "output_type": "stream",
          "text": [
            "INFO:tensorflow:Saver not created because there are no variables in the graph to restore\n"
          ],
          "name": "stderr"
        }
      ]
    },
    {
      "cell_type": "code",
      "metadata": {
        "id": "zP9V8pULhLAz",
        "colab": {
          "base_uri": "https://localhost:8080/",
          "height": 34
        },
        "outputId": "47f3eacb-a8f9-4b61-a0e7-46be353cace7"
      },
      "source": [
        "BASE_VECTORS.shape"
      ],
      "execution_count": null,
      "outputs": [
        {
          "output_type": "execute_result",
          "data": {
            "text/plain": [
              "(53, 512)"
            ]
          },
          "metadata": {
            "tags": []
          },
          "execution_count": 15
        }
      ]
    },
    {
      "cell_type": "markdown",
      "metadata": {
        "id": "XITxHq-lhLA2"
      },
      "source": [
        "## Define Similarity Metric\n",
        "We use cosine similarity to find simiarity between two vectors."
      ]
    },
    {
      "cell_type": "code",
      "metadata": {
        "id": "WRqvGBMDhLA3"
      },
      "source": [
        "def cosine_similarity(v1, v2):\n",
        "    mag1 = np.linalg.norm(v1)\n",
        "    mag2 = np.linalg.norm(v2)\n",
        "    if (not mag1) or (not mag2):\n",
        "        return 0\n",
        "    return np.dot(v1, v2) / (mag1 * mag2)"
      ],
      "execution_count": null,
      "outputs": []
    },
    {
      "cell_type": "code",
      "metadata": {
        "id": "qLI8hCfwhLA6"
      },
      "source": [
        "def test_similiarity(text1, text2):\n",
        "    vec1 = get_features(text1)[0]\n",
        "    vec2 = get_features(text2)[0]\n",
        "    print(vec1.shape)\n",
        "    return cosine_similarity(vec1, vec2)"
      ],
      "execution_count": null,
      "outputs": []
    },
    {
      "cell_type": "markdown",
      "metadata": {
        "id": "lAM18wX-hLBH"
      },
      "source": [
        "## Semantic Matching/Search\n",
        "Use the data we defined earlier"
      ]
    },
    {
      "cell_type": "code",
      "metadata": {
        "id": "s5rAWZuIhLBI"
      },
      "source": [
        "def semantic_search(query, data, vectors):\n",
        "    query = process_text(query)\n",
        "    print(\"Extracting features...\")\n",
        "    query_vec = get_features(query)[0].ravel()\n",
        "    res = []\n",
        "    for i, d in enumerate(data):\n",
        "        qvec = vectors[i].ravel()\n",
        "        sim = cosine_similarity(query_vec, qvec)\n",
        "        res.append((sim, d[:100], i))\n",
        "    return sorted(res, key=lambda x : x[0], reverse=True)\n",
        "\n",
        "def semantic_search_requirements(query, data, vectors):\n",
        "    query = process_text(query)\n",
        "    print(\"Extracting features...\")\n",
        "    query_vec = get_features(query)[0].ravel()\n",
        "    res = []\n",
        "    for i, row in data.iterrows():\n",
        "        qvec = vectors[i].ravel()\n",
        "        sim = cosine_similarity(query_vec, qvec)\n",
        "        if(sim >= 0.5):\n",
        "          res.append((sim, row['clean_sentence'], row['annotated_class'], i))\n",
        "    return sorted(res, key=lambda x : x[0], reverse=True)"
      ],
      "execution_count": null,
      "outputs": []
    },
    {
      "cell_type": "markdown",
      "metadata": {
        "id": "e_WkRlPVhLBL"
      },
      "source": [
        "#### Query 1"
      ]
    },
    {
      "cell_type": "code",
      "metadata": {
        "id": "o5Xz2axKF7iJ"
      },
      "source": [
        "for i, row in filtredData.iterrows():\n",
        "  filtredData.at[i, 'clean_sentence'] = process_text(row['statement'])\n",
        "\n",
        "filtredData.reset_index(drop=True, inplace=True)"
      ],
      "execution_count": null,
      "outputs": []
    },
    {
      "cell_type": "code",
      "metadata": {
        "id": "3RfptzjehLBM",
        "colab": {
          "base_uri": "https://localhost:8080/",
          "height": 1000
        },
        "outputId": "3b31a3e8-50c1-4660-9f51-927224735f0b"
      },
      "source": [
        "df_requirements = pd.read_csv('/content/drive/My Drive/research_project/nlp_privacy_policy_analyze/data/processed_privacy_policy_segments_sample_100_3.csv', encoding='utf-8')\n",
        "print(df_requirements)\n",
        "semantic_results = []\n",
        "for i, row in df_requirements.iterrows():\n",
        "  sentence = row['statement']\n",
        "  if(pd.notna(sentence) and sentence.strip() != \"\"):\n",
        "    print(row['statement'])\n",
        "    result = semantic_search_requirements(row['statement'], filtredData, BASE_VECTORS)\n",
        "    print(result)\n",
        "    df_requirements.at[i, 'semantic_similarity'] = str(result)\n",
        "    if result:\n",
        "      df_requirements.at[i, 'sim_class'] = str(result[0][2])\n",
        "  # semantic_results.append([df_requirements['id'][i], df_requirements['requirement'][i], result])\n",
        "#result_df = pd.DataFrame(semantic_results)\n",
        "\n",
        "df_requirements.to_csv('/content/drive/My Drive/research_project/nlp_privacy_policy_analyze/data/semenatic_sim_privacy_policy_segments_sample_100_3.csv', sep=',')"
      ],
      "execution_count": null,
      "outputs": [
        {
          "output_type": "stream",
          "text": [
            "    Unnamed: 0 segment_id                                          statement\n",
            "0         8463  1713,1,12  Reviewing, Updating or Deleting Certain Inform...\n",
            "1        15784     70,4,1  We may share anonymous or aggregated informati...\n",
            "2         6340  1582,60,3  After you close your account or remove a payme...\n",
            "3         2702  1206,10,2  Currently enrolled (or recently enrolled stude...\n",
            "4         6370  1582,65,1  This is designed to verify the validity of the...\n",
            "..         ...        ...                                                ...\n",
            "95        8490   1713,5,3                                 User Registration.\n",
            "96       10106    228,9,4                                 Kinja Terms of Use\n",
            "97       16417    777,0,2                               Jefferson Lab Home |\n",
            "98       11015    331,1,4                     OUR COMMITMENTS TO YOUR FAMILY\n",
            "99        7764   1683,6,2  The CIN gathered by MediaNews generally includ...\n",
            "\n",
            "[100 rows x 3 columns]\n",
            "Reviewing, Updating or Deleting Certain Information.\n",
            "Extracting features...\n",
            "INFO:tensorflow:Saver not created because there are no variables in the graph to restore\n"
          ],
          "name": "stdout"
        },
        {
          "output_type": "stream",
          "text": [
            "INFO:tensorflow:Saver not created because there are no variables in the graph to restore\n"
          ],
          "name": "stderr"
        },
        {
          "output_type": "stream",
          "text": [
            "[(0.6721156, 'when you update information your old information is replaced by your new information', 'PUC', 41), (0.5641863, 'if we modify our privacy policy on how we handle your personal information we will post the revised information here with a revised effective date at the top of this privacy policy', 'POC', 3), (0.54654694, 'we may also combine your information with other information in a way that it is no longer associated with you and share that aggregated information', 'POPR', 20), (0.5145928, 'if you wish to review or delete any profile information that you have provided us regarding a child or ask that we stop using such information you may do so at any time through the settings area of your account or by contacting us using the information below', 'POC', 0)]\n",
            "We may share anonymous or aggregated information about you in a way that does not identify you personally as we deem appropriate.\n",
            "Extracting features...\n",
            "INFO:tensorflow:Saver not created because there are no variables in the graph to restore\n"
          ],
          "name": "stdout"
        },
        {
          "output_type": "stream",
          "text": [
            "INFO:tensorflow:Saver not created because there are no variables in the graph to restore\n"
          ],
          "name": "stderr"
        },
        {
          "output_type": "stream",
          "text": [
            "[(0.8714486, 'we may aggregate and or anonymize information collected by the services or via other means so that the information does not identify you', 'POPR', 26), (0.8310849, 'any personal information you submit in the course of interacting in these public activities can be read collected or used by other users', 'PUC', 36), (0.8176422, 'we will provide you the personal information requested if it is reasonably available unless it infringes on the privacy of other individuals and subject to reasonable limitations provided by law and internal procedures', 'POC', 10), (0.8165665, 'we may also combine your information with other information in a way that it is no longer associated with you and share that aggregated information', 'POPR', 20), (0.77260125, 'if you authorize such a connection you permit us to share or publish information about your activity on our services with that social network and its users and to access certain of your social network information as disclosed by you at the time you consent to the connection', 'PUC', 35), (0.7541335, 'if we modify our privacy policy on how we handle your personal information we will post the revised information here with a revised effective date at the top of this privacy policy', 'POC', 3), (0.73589796, 'to protect your privacy and security we will also take reasonable steps to verify your identity before granting access or making corrections', 'POC', 9), (0.733475, 'by visiting the site whether as a registered user or otherwise you acknowledge understand and hereby agree that you are giving us your consent to track your activities and your use of the site through these tracking technologies and that we may use tracking technologies in the emails we send to you', 'PUC', 33), (0.7008282, 'this website incorporates reasonable safeguards to protect the security integrity completeness accuracy and privacy of the personal information that we may collect and we have put into place reasonable precautions to protect such information from loss misuse and alteration', 'POPR', 19), (0.69200706, 'your use of our sites and services following any such change constitutes your agreement that allinformation collected from or about you through our sites and services after the revised privacy policy is posted will besubject to the terms of the revised privacy policy', 'PUC', 39), (0.67143655, 'to do so we collect and share additional personal information like credit information so such third parties can provide the product or service you request', 'POPR', 14), (0.6619484, 'we may collect certain information about your computer or other device that you use to access the sites including ip address geolocation information unique device identifiers browser type browser language and other transactional information', 'POPR', 30), (0.64999974, 'if you ask us to share your personal information with a third party for its marketing purposes we will only share information in connection with that specific promotion since we do not share information with any third party other than our service providers on an ongoing basis', 'POC', 1), (0.6306035, 'keep in mind that any information that you choose to post to blogs discussion forums or other community or social networking services that we offer can be seen collected and used by anyone who has access to the applicable service', 'PUPR', 46), (0.6231062, 'in order to serve offers and advertisements that may be interest to our users we may display targeted advertisements on the services based on personal information provided by our users including zip code and profile', 'POPR', 13), (0.61732644, 'depending on your account settings multisite ids may also provide other information to us', 'PUPR', 45), (0.61114806, 'if you wish to review or delete any profile information that you have provided us regarding a child or ask that we stop using such information you may do so at any time through the settings area of your account or by contacting us using the information below', 'POC', 0), (0.59406006, 'your information is stored in an encrypted environment', 'PUPR', 47), (0.58769953, 'if you choose to submit an application to us for pre approved credit we will request that you provide personally identifiable information such as name address telephone number social security number date of birth employment information and gross monthly income', 'PUPR', 42), (0.582527, 'we will not disclose cardholder data to any third party except to facilitate and complete transactions submitted to us by merchants or otherwise in the course of providing services to our merchants or to comply with federal state and local laws or the rules and regulations of the respective card organizations or other payment entities e g', 'POC', 8), (0.5704647, 'our servers automatically record information that your browser sends whenever you visit the site s', 'POPR', 28), (0.5699274, 'we may merge this with other data we collect about you from third parties to assist us in our ability to provide the services including without limitation to advertise and provide content to you', 'POPR', 18), (0.56662846, 'however you may not without the prior written permission of medianews group inc medianews group interactive inc or medianews group affiliates frame any of the content of the sites or incorporate into another website any material from the sites', 'PUPR', 50), (0.5646965, 'notmc and its agents use cookies so that we can improve your online experience for example by remembering you when you come back to visit the websites and making the content you see more relevant to you', 'POPR', 23), (0.54888016, 'if medianews believes such information is untrue inaccurate not current or incomplete medianews has the right to suspend or terminate your account and refuse any and all current or future use of the sites by you', 'POPR', 16), (0.5394874, 'if you are a member of an online service you may use that service is account and privacy settings to personalize the collection use and or display of your data via that service', 'PUPR', 52), (0.52602214, 'if the changes represent a material departure from our current practice with respect to the use of children is personal information the changes will be posted on this page thirty days prior to taking effect and will not affect children is personal information previously collected', 'POC', 7), (0.5230115, 'user registration with medianews web sites is completed and membership activated upon clicking a link e mailed to the address provided in registration', 'POC', 4), (0.5203797, 'in these cases we require validation of credit card information already on file with us and we will then e mail the master account holder to give notice that we have received such consent', 'POC', 6), (0.51469445, 'imdb also displays personalized third party advertising based on personal information about users such as information you submit to us about movies you own or have watched', 'POPR', 22), (0.51120347, 'to prevent unauthorized electronic access to personal information the company maintains information collected online behind a firewall protected server and uses ssl encryption for purchases made through our online store', 'POC', 5), (0.51072896, 'web logging which enables us to collect the standard information your browser or application sends to every web site you visit such as your ip address browser type and language and the url of the site you came from as well as the pages you visit and the links you click while using our sites and services', 'POPR', 29), (0.5078296, 'we use your ip address to help diagnose problems with our server and to administer our web site', 'POPR', 15), (0.5012074, 'because we serve advertisements on our own web sites as well as those of our advertising and publisher partners we are able to compile information over time about the types of pages you visit on microsoft and other sites content and ads you or others who are using your computer visited or viewed', 'POPR', 12)]\n",
            "After you close your account or remove a payment instrument, however, Microsoft may retain your payment instrument data for as long as reasonably necessary to complete your existing transaction, to comply with Microsoft's legal and reporting requirements, and for the detection and prevention of fraud.\n",
            "Extracting features...\n",
            "INFO:tensorflow:Saver not created because there are no variables in the graph to restore\n"
          ],
          "name": "stdout"
        },
        {
          "output_type": "stream",
          "text": [
            "INFO:tensorflow:Saver not created because there are no variables in the graph to restore\n"
          ],
          "name": "stderr"
        },
        {
          "output_type": "stream",
          "text": [
            "[(0.7331001, 'in these cases we require validation of credit card information already on file with us and we will then e mail the master account holder to give notice that we have received such consent', 'POC', 6), (0.64749455, 'this information will only be shared with third parties who perform tasks required to complete the purchase transaction', 'PUC', 40), (0.62669563, 'to do so we collect and share additional personal information like credit information so such third parties can provide the product or service you request', 'POPR', 14), (0.5996776, 'we will not disclose cardholder data to any third party except to facilitate and complete transactions submitted to us by merchants or otherwise in the course of providing services to our merchants or to comply with federal state and local laws or the rules and regulations of the respective card organizations or other payment entities e g', 'POC', 8), (0.5953619, 'to prevent unauthorized electronic access to personal information the company maintains information collected online behind a firewall protected server and uses ssl encryption for purchases made through our online store', 'POC', 5), (0.57480204, 'if you choose to submit an application to us for pre approved credit we will request that you provide personally identifiable information such as name address telephone number social security number date of birth employment information and gross monthly income', 'PUPR', 42), (0.5625364, 'to protect your privacy and security we will also take reasonable steps to verify your identity before granting access or making corrections', 'POC', 9), (0.5479092, 'user registration with medianews web sites is completed and membership activated upon clicking a link e mailed to the address provided in registration', 'POC', 4), (0.5472273, 'if medianews believes such information is untrue inaccurate not current or incomplete medianews has the right to suspend or terminate your account and refuse any and all current or future use of the sites by you', 'POPR', 16), (0.5158615, 'if you authorize such a connection you permit us to share or publish information about your activity on our services with that social network and its users and to access certain of your social network information as disclosed by you at the time you consent to the connection', 'PUC', 35), (0.51482993, 'your information is stored in an encrypted environment', 'PUPR', 47), (0.5050425, 'this website incorporates reasonable safeguards to protect the security integrity completeness accuracy and privacy of the personal information that we may collect and we have put into place reasonable precautions to protect such information from loss misuse and alteration', 'POPR', 19)]\n",
            "Currently enrolled (or recently enrolled students) credit students can correct their Student Information Profile and email address online through eConnect.\n",
            "Extracting features...\n",
            "INFO:tensorflow:Saver not created because there are no variables in the graph to restore\n"
          ],
          "name": "stdout"
        },
        {
          "output_type": "stream",
          "text": [
            "INFO:tensorflow:Saver not created because there are no variables in the graph to restore\n"
          ],
          "name": "stderr"
        },
        {
          "output_type": "stream",
          "text": [
            "[(0.7002345, 'if you choose to submit an application to us for pre approved credit we will request that you provide personally identifiable information such as name address telephone number social security number date of birth employment information and gross monthly income', 'PUPR', 42), (0.63177854, 'user registration with medianews web sites is completed and membership activated upon clicking a link e mailed to the address provided in registration', 'POC', 4), (0.58128726, 'in these cases we require validation of credit card information already on file with us and we will then e mail the master account holder to give notice that we have received such consent', 'POC', 6), (0.5277176, 'depending on your account settings multisite ids may also provide other information to us', 'PUPR', 45), (0.5245664, 'to do so we collect and share additional personal information like credit information so such third parties can provide the product or service you request', 'POPR', 14), (0.5170852, 'the website also provides information for healthcare professionals and offers opportunities for volunteering in food allergy research education fundraising events', 'POPR', 27), (0.5106723, 'any personal information you submit in the course of interacting in these public activities can be read collected or used by other users', 'PUC', 36), (0.5079745, 'to use certain features of the sites you will need a username and password which you will receive through the site is registration process', 'PUC', 31)]\n",
            "This is designed to verify the validity of the email address and help prevent email addresses from being used without the permission of their owners.\n",
            "Extracting features...\n",
            "INFO:tensorflow:Saver not created because there are no variables in the graph to restore\n"
          ],
          "name": "stdout"
        },
        {
          "output_type": "stream",
          "text": [
            "INFO:tensorflow:Saver not created because there are no variables in the graph to restore\n"
          ],
          "name": "stderr"
        },
        {
          "output_type": "stream",
          "text": [
            "[(0.7397558, 'user registration with medianews web sites is completed and membership activated upon clicking a link e mailed to the address provided in registration', 'POC', 4), (0.7376905, 'to do so we collect and share additional personal information like credit information so such third parties can provide the product or service you request', 'POPR', 14), (0.7204893, 'by visiting the site whether as a registered user or otherwise you acknowledge understand and hereby agree that you are giving us your consent to track your activities and your use of the site through these tracking technologies and that we may use tracking technologies in the emails we send to you', 'PUC', 33), (0.70763206, 'this website incorporates reasonable safeguards to protect the security integrity completeness accuracy and privacy of the personal information that we may collect and we have put into place reasonable precautions to protect such information from loss misuse and alteration', 'POPR', 19), (0.6965222, 'in these cases we require validation of credit card information already on file with us and we will then e mail the master account holder to give notice that we have received such consent', 'POC', 6), (0.6895452, 'any personal information you submit in the course of interacting in these public activities can be read collected or used by other users', 'PUC', 36), (0.6854645, 'we may aggregate and or anonymize information collected by the services or via other means so that the information does not identify you', 'POPR', 26), (0.6755001, 'if you authorize such a connection you permit us to share or publish information about your activity on our services with that social network and its users and to access certain of your social network information as disclosed by you at the time you consent to the connection', 'PUC', 35), (0.6688256, 'to protect your privacy and security we will also take reasonable steps to verify your identity before granting access or making corrections', 'POC', 9), (0.6647322, 'to use certain features of the sites you will need a username and password which you will receive through the site is registration process', 'PUC', 31), (0.6643883, 'to prevent unauthorized electronic access to personal information the company maintains information collected online behind a firewall protected server and uses ssl encryption for purchases made through our online store', 'POC', 5), (0.66243356, 'depending on your account settings multisite ids may also provide other information to us', 'PUPR', 45), (0.6624138, 'our servers automatically record information that your browser sends whenever you visit the site s', 'POPR', 28), (0.6622379, 'web logging which enables us to collect the standard information your browser or application sends to every web site you visit such as your ip address browser type and language and the url of the site you came from as well as the pages you visit and the links you click while using our sites and services', 'POPR', 29), (0.6514247, 'we will provide you the personal information requested if it is reasonably available unless it infringes on the privacy of other individuals and subject to reasonable limitations provided by law and internal procedures', 'POC', 10), (0.64118624, 'your information is stored in an encrypted environment', 'PUPR', 47), (0.6405754, 'we may collect certain information about your computer or other device that you use to access the sites including ip address geolocation information unique device identifiers browser type browser language and other transactional information', 'POPR', 30), (0.63600594, 'your use of our sites and services following any such change constitutes your agreement that allinformation collected from or about you through our sites and services after the revised privacy policy is posted will besubject to the terms of the revised privacy policy', 'PUC', 39), (0.63043815, 'we use your ip address to help diagnose problems with our server and to administer our web site', 'POPR', 15), (0.6204459, 'this information will only be shared with third parties who perform tasks required to complete the purchase transaction', 'PUC', 40), (0.6159512, 'if we modify our privacy policy on how we handle your personal information we will post the revised information here with a revised effective date at the top of this privacy policy', 'POC', 3), (0.610174, 'doing this allows the advertising network to recognize your computer each time they send you an advertisement in order to measure the effectiveness of their ads and to personalize advertising content', 'PUC', 32), (0.60335183, 'we will not disclose cardholder data to any third party except to facilitate and complete transactions submitted to us by merchants or otherwise in the course of providing services to our merchants or to comply with federal state and local laws or the rules and regulations of the respective card organizations or other payment entities e g', 'POC', 8), (0.593298, 'if medianews believes such information is untrue inaccurate not current or incomplete medianews has the right to suspend or terminate your account and refuse any and all current or future use of the sites by you', 'POPR', 16), (0.5918299, 'we may also combine your information with other information in a way that it is no longer associated with you and share that aggregated information', 'POPR', 20), (0.5836947, 'if you choose to submit an application to us for pre approved credit we will request that you provide personally identifiable information such as name address telephone number social security number date of birth employment information and gross monthly income', 'PUPR', 42), (0.57568955, 'when you register your caribou gift card on the site we ask for your name email address phone number and mailing address', 'PUC', 37), (0.5750976, 'in order to serve offers and advertisements that may be interest to our users we may display targeted advertisements on the services based on personal information provided by our users including zip code and profile', 'POPR', 13), (0.5711606, 'if you are a member of an online service you may use that service is account and privacy settings to personalize the collection use and or display of your data via that service', 'PUPR', 52), (0.5627982, 'however you may not without the prior written permission of medianews group inc medianews group interactive inc or medianews group affiliates frame any of the content of the sites or incorporate into another website any material from the sites', 'PUPR', 50), (0.56252795, 'notmc and its agents use cookies so that we can improve your online experience for example by remembering you when you come back to visit the websites and making the content you see more relevant to you', 'POPR', 23), (0.55880296, 'because we serve advertisements on our own web sites as well as those of our advertising and publisher partners we are able to compile information over time about the types of pages you visit on microsoft and other sites content and ads you or others who are using your computer visited or viewed', 'POPR', 12), (0.54962057, 'if you ask us to share your personal information with a third party for its marketing purposes we will only share information in connection with that specific promotion since we do not share information with any third party other than our service providers on an ongoing basis', 'POC', 1), (0.5417122, 'imdb also displays personalized third party advertising based on personal information about users such as information you submit to us about movies you own or have watched', 'POPR', 22), (0.5234165, 'nevertheless you are able to control how and whether cookies will be accepted by your web browser or device', 'PUPR', 51), (0.522801, 'however no data transmission over the internet or with respect to our mobile services over cellular phone networks can be guaranteed to be secure', 'POC', 2), (0.51510924, 'when you update information your old information is replaced by your new information', 'PUC', 41), (0.5100915, 'cookies kinja or third parties may use cookies web beacons html local storage java script and other similar technologies to help us understand how you use the services and help us provide the services and advertising to you', 'POPR', 24), (0.50631076, 'you can use your browser settings to remove or block cookies on your computer', 'PUPR', 44)]\n",
            "MediaNews Group and MediaNews Group affiliates are the operators collecting information at this web site.\n",
            "Extracting features...\n",
            "INFO:tensorflow:Saver not created because there are no variables in the graph to restore\n"
          ],
          "name": "stdout"
        },
        {
          "output_type": "stream",
          "text": [
            "INFO:tensorflow:Saver not created because there are no variables in the graph to restore\n"
          ],
          "name": "stderr"
        },
        {
          "output_type": "stream",
          "text": [
            "[(0.6378457, 'user registration with medianews web sites is completed and membership activated upon clicking a link e mailed to the address provided in registration', 'POC', 4), (0.61252934, 'in order to serve offers and advertisements that may be interest to our users we may display targeted advertisements on the services based on personal information provided by our users including zip code and profile', 'POPR', 13), (0.60649055, 'depending on your account settings multisite ids may also provide other information to us', 'PUPR', 45), (0.6046027, 'we perform statistical demographic and marketing analyses of users of the nyt services and their subscribing and purchasing patterns for product development purposes and to generally inform advertisers about the nature of our subscriber base', 'POPR', 17), (0.60328895, 'we may aggregate and or anonymize information collected by the services or via other means so that the information does not identify you', 'POPR', 26), (0.5878912, 'to prevent unauthorized electronic access to personal information the company maintains information collected online behind a firewall protected server and uses ssl encryption for purchases made through our online store', 'POC', 5), (0.58110535, 'we use the third party service provider dr globaltech inc as our online official re seller and for certain in game sales functions', 'POPR', 21), (0.576842, 'the website also provides information for healthcare professionals and offers opportunities for volunteering in food allergy research education fundraising events', 'POPR', 27), (0.5721813, 'to do so we collect and share additional personal information like credit information so such third parties can provide the product or service you request', 'POPR', 14), (0.57059604, 'if you ask us to share your personal information with a third party for its marketing purposes we will only share information in connection with that specific promotion since we do not share information with any third party other than our service providers on an ongoing basis', 'POC', 1), (0.55433494, 'we may collect certain information about your computer or other device that you use to access the sites including ip address geolocation information unique device identifiers browser type browser language and other transactional information', 'POPR', 30), (0.5527413, 'web logging which enables us to collect the standard information your browser or application sends to every web site you visit such as your ip address browser type and language and the url of the site you came from as well as the pages you visit and the links you click while using our sites and services', 'POPR', 29), (0.55076694, 'we may merge this with other data we collect about you from third parties to assist us in our ability to provide the services including without limitation to advertise and provide content to you', 'POPR', 18), (0.5445185, 'because we serve advertisements on our own web sites as well as those of our advertising and publisher partners we are able to compile information over time about the types of pages you visit on microsoft and other sites content and ads you or others who are using your computer visited or viewed', 'POPR', 12), (0.5422146, 'any personal information you submit in the course of interacting in these public activities can be read collected or used by other users', 'PUC', 36), (0.5403164, 'this website incorporates reasonable safeguards to protect the security integrity completeness accuracy and privacy of the personal information that we may collect and we have put into place reasonable precautions to protect such information from loss misuse and alteration', 'POPR', 19), (0.5384811, 'to use certain features of the sites you will need a username and password which you will receive through the site is registration process', 'PUC', 31), (0.53551906, 'we use your ip address to help diagnose problems with our server and to administer our web site', 'POPR', 15), (0.5322545, 'however you may not without the prior written permission of medianews group inc medianews group interactive inc or medianews group affiliates frame any of the content of the sites or incorporate into another website any material from the sites', 'PUPR', 50), (0.52695423, 'notmc and its agents use cookies so that we can improve your online experience for example by remembering you when you come back to visit the websites and making the content you see more relevant to you', 'POPR', 23), (0.52599, 'keep in mind that any information that you choose to post to blogs discussion forums or other community or social networking services that we offer can be seen collected and used by anyone who has access to the applicable service', 'PUPR', 46), (0.52430224, 'we may also work with other companies that advertise on microsoft sites to place web beacons on their sites or in their advertisements to let us develop statistics on how often clicking on an advertisement on a microsoft site results in a purchase or other action on the advertiser is site', 'POPR', 25), (0.5171012, 'our servers automatically record information that your browser sends whenever you visit the site s', 'POPR', 28), (0.5154985, 'by visiting the site whether as a registered user or otherwise you acknowledge understand and hereby agree that you are giving us your consent to track your activities and your use of the site through these tracking technologies and that we may use tracking technologies in the emails we send to you', 'PUC', 33), (0.5144623, 'this information will only be shared with third parties who perform tasks required to complete the purchase transaction', 'PUC', 40), (0.5057615, 'if you authorize such a connection you permit us to share or publish information about your activity on our services with that social network and its users and to access certain of your social network information as disclosed by you at the time you consent to the connection', 'PUC', 35)]\n",
            "Changes to this Privacy Policy\n",
            "Extracting features...\n",
            "INFO:tensorflow:Saver not created because there are no variables in the graph to restore\n"
          ],
          "name": "stdout"
        },
        {
          "output_type": "stream",
          "text": [
            "INFO:tensorflow:Saver not created because there are no variables in the graph to restore\n"
          ],
          "name": "stderr"
        },
        {
          "output_type": "stream",
          "text": [
            "[(0.6878993, 'your use of our sites and services following any such change constitutes your agreement that allinformation collected from or about you through our sites and services after the revised privacy policy is posted will besubject to the terms of the revised privacy policy', 'PUC', 39), (0.6714203, 'if the changes represent a material departure from our current practice with respect to the use of children is personal information the changes will be posted on this page thirty days prior to taking effect and will not affect children is personal information previously collected', 'POC', 7), (0.6614612, 'if we modify our privacy policy on how we handle your personal information we will post the revised information here with a revised effective date at the top of this privacy policy', 'POC', 3), (0.6597666, 'to protect your privacy and security we will also take reasonable steps to verify your identity before granting access or making corrections', 'POC', 9), (0.6452736, 'this website incorporates reasonable safeguards to protect the security integrity completeness accuracy and privacy of the personal information that we may collect and we have put into place reasonable precautions to protect such information from loss misuse and alteration', 'POPR', 19), (0.6206266, 'we may aggregate and or anonymize information collected by the services or via other means so that the information does not identify you', 'POPR', 26), (0.60999745, 'we will provide you the personal information requested if it is reasonably available unless it infringes on the privacy of other individuals and subject to reasonable limitations provided by law and internal procedures', 'POC', 10), (0.60409594, 'if you authorize such a connection you permit us to share or publish information about your activity on our services with that social network and its users and to access certain of your social network information as disclosed by you at the time you consent to the connection', 'PUC', 35), (0.59528476, 'we may also combine your information with other information in a way that it is no longer associated with you and share that aggregated information', 'POPR', 20), (0.58111733, 'by visiting the site whether as a registered user or otherwise you acknowledge understand and hereby agree that you are giving us your consent to track your activities and your use of the site through these tracking technologies and that we may use tracking technologies in the emails we send to you', 'PUC', 33), (0.5546795, 'any personal information you submit in the course of interacting in these public activities can be read collected or used by other users', 'PUC', 36), (0.54055065, 'your information is stored in an encrypted environment', 'PUPR', 47), (0.53539646, 'to prevent unauthorized electronic access to personal information the company maintains information collected online behind a firewall protected server and uses ssl encryption for purchases made through our online store', 'POC', 5), (0.52310646, 'we may collect certain information about your computer or other device that you use to access the sites including ip address geolocation information unique device identifiers browser type browser language and other transactional information', 'POPR', 30), (0.51865166, 'when you update information your old information is replaced by your new information', 'PUC', 41), (0.51521975, 'to do so we collect and share additional personal information like credit information so such third parties can provide the product or service you request', 'POPR', 14), (0.5144256, 'user registration with medianews web sites is completed and membership activated upon clicking a link e mailed to the address provided in registration', 'POC', 4), (0.51389366, 'our servers automatically record information that your browser sends whenever you visit the site s', 'POPR', 28), (0.50243306, 'if you are a member of an online service you may use that service is account and privacy settings to personalize the collection use and or display of your data via that service', 'PUPR', 52)]\n",
            "This information may not be copied or redistributed.\n",
            "Extracting features...\n",
            "INFO:tensorflow:Saver not created because there are no variables in the graph to restore\n"
          ],
          "name": "stdout"
        },
        {
          "output_type": "stream",
          "text": [
            "INFO:tensorflow:Saver not created because there are no variables in the graph to restore\n"
          ],
          "name": "stderr"
        },
        {
          "output_type": "stream",
          "text": [
            "[(0.5709093, 'we may also combine your information with other information in a way that it is no longer associated with you and share that aggregated information', 'POPR', 20), (0.5416481, 'any personal information you submit in the course of interacting in these public activities can be read collected or used by other users', 'PUC', 36), (0.54030627, 'we may aggregate and or anonymize information collected by the services or via other means so that the information does not identify you', 'POPR', 26), (0.5242064, 'we will provide you the personal information requested if it is reasonably available unless it infringes on the privacy of other individuals and subject to reasonable limitations provided by law and internal procedures', 'POC', 10), (0.5119294, 'if we modify our privacy policy on how we handle your personal information we will post the revised information here with a revised effective date at the top of this privacy policy', 'POC', 3), (0.50754017, 'this information will only be shared with third parties who perform tasks required to complete the purchase transaction', 'PUC', 40)]\n",
            "Science Website, the information you previously provided can be retrieved, so you can easily use the features that you customized.\n",
            "Extracting features...\n",
            "INFO:tensorflow:Saver not created because there are no variables in the graph to restore\n"
          ],
          "name": "stdout"
        },
        {
          "output_type": "stream",
          "text": [
            "INFO:tensorflow:Saver not created because there are no variables in the graph to restore\n"
          ],
          "name": "stderr"
        },
        {
          "output_type": "stream",
          "text": [
            "[(0.5595418, 'to use certain features of the sites you will need a username and password which you will receive through the site is registration process', 'PUC', 31), (0.5534666, 'the website also provides information for healthcare professionals and offers opportunities for volunteering in food allergy research education fundraising events', 'POPR', 27), (0.53560245, 'user registration with medianews web sites is completed and membership activated upon clicking a link e mailed to the address provided in registration', 'POC', 4), (0.53320706, 'web logging which enables us to collect the standard information your browser or application sends to every web site you visit such as your ip address browser type and language and the url of the site you came from as well as the pages you visit and the links you click while using our sites and services', 'POPR', 29)]\n",
            "We work with third party ad networks and allow such third party ad networks to target and serve video advertising and to use cookies on our Site to collect non-personally identifiable data for use in connection with the delivery of such video advertising.\n",
            "Extracting features...\n",
            "INFO:tensorflow:Saver not created because there are no variables in the graph to restore\n"
          ],
          "name": "stdout"
        },
        {
          "output_type": "stream",
          "text": [
            "INFO:tensorflow:Saver not created because there are no variables in the graph to restore\n"
          ],
          "name": "stderr"
        },
        {
          "output_type": "stream",
          "text": [
            "[(0.809073, 'because we serve advertisements on our own web sites as well as those of our advertising and publisher partners we are able to compile information over time about the types of pages you visit on microsoft and other sites content and ads you or others who are using your computer visited or viewed', 'POPR', 12), (0.7875118, 'we may also work with other companies that advertise on microsoft sites to place web beacons on their sites or in their advertisements to let us develop statistics on how often clicking on an advertisement on a microsoft site results in a purchase or other action on the advertiser is site', 'POPR', 25), (0.770515, 'in order to serve offers and advertisements that may be interest to our users we may display targeted advertisements on the services based on personal information provided by our users including zip code and profile', 'POPR', 13), (0.7447057, 'cookies kinja or third parties may use cookies web beacons html local storage java script and other similar technologies to help us understand how you use the services and help us provide the services and advertising to you', 'POPR', 24), (0.7405121, 'doing this allows the advertising network to recognize your computer each time they send you an advertisement in order to measure the effectiveness of their ads and to personalize advertising content', 'PUC', 32), (0.7159188, 'we perform statistical demographic and marketing analyses of users of the nyt services and their subscribing and purchasing patterns for product development purposes and to generally inform advertisers about the nature of our subscriber base', 'POPR', 17), (0.697102, 'our servers automatically record information that your browser sends whenever you visit the site s', 'POPR', 28), (0.69246894, 'we may merge this with other data we collect about you from third parties to assist us in our ability to provide the services including without limitation to advertise and provide content to you', 'POPR', 18), (0.68331337, 'web logging which enables us to collect the standard information your browser or application sends to every web site you visit such as your ip address browser type and language and the url of the site you came from as well as the pages you visit and the links you click while using our sites and services', 'POPR', 29), (0.6674791, 'notmc and its agents use cookies so that we can improve your online experience for example by remembering you when you come back to visit the websites and making the content you see more relevant to you', 'POPR', 23), (0.65311444, 'to do so we collect and share additional personal information like credit information so such third parties can provide the product or service you request', 'POPR', 14), (0.627527, 'we use your ip address to help diagnose problems with our server and to administer our web site', 'POPR', 15), (0.62537354, 'to prevent unauthorized electronic access to personal information the company maintains information collected online behind a firewall protected server and uses ssl encryption for purchases made through our online store', 'POC', 5), (0.6245639, 'your use of our sites and services following any such change constitutes your agreement that allinformation collected from or about you through our sites and services after the revised privacy policy is posted will besubject to the terms of the revised privacy policy', 'PUC', 39), (0.6175662, 'if you ask us to share your personal information with a third party for its marketing purposes we will only share information in connection with that specific promotion since we do not share information with any third party other than our service providers on an ongoing basis', 'POC', 1), (0.6170881, 'we may collect certain information about your computer or other device that you use to access the sites including ip address geolocation information unique device identifiers browser type browser language and other transactional information', 'POPR', 30), (0.6167042, 'by visiting the site whether as a registered user or otherwise you acknowledge understand and hereby agree that you are giving us your consent to track your activities and your use of the site through these tracking technologies and that we may use tracking technologies in the emails we send to you', 'PUC', 33), (0.6128498, 'imdb also displays personalized third party advertising based on personal information about users such as information you submit to us about movies you own or have watched', 'POPR', 22), (0.6089481, 'however you may not without the prior written permission of medianews group inc medianews group interactive inc or medianews group affiliates frame any of the content of the sites or incorporate into another website any material from the sites', 'PUPR', 50), (0.59547174, 'you may also prevent flash cookies from being placed by adjusting your preferences in the macromedia website privacy settings panel at', 'PUPR', 49), (0.5822996, 'we use the third party service provider dr globaltech inc as our online official re seller and for certain in game sales functions', 'POPR', 21), (0.57822603, 'user registration with medianews web sites is completed and membership activated upon clicking a link e mailed to the address provided in registration', 'POC', 4), (0.5744168, 'we may aggregate and or anonymize information collected by the services or via other means so that the information does not identify you', 'POPR', 26), (0.5707336, 'if you authorize such a connection you permit us to share or publish information about your activity on our services with that social network and its users and to access certain of your social network information as disclosed by you at the time you consent to the connection', 'PUC', 35), (0.56704706, 'nevertheless you are able to control how and whether cookies will be accepted by your web browser or device', 'PUPR', 51), (0.5593472, 'to use certain features of the sites you will need a username and password which you will receive through the site is registration process', 'PUC', 31), (0.5303393, 'this website incorporates reasonable safeguards to protect the security integrity completeness accuracy and privacy of the personal information that we may collect and we have put into place reasonable precautions to protect such information from loss misuse and alteration', 'POPR', 19), (0.52916425, 'you can use your browser settings to remove or block cookies on your computer', 'PUPR', 44), (0.52372247, 'we will provide you the personal information requested if it is reasonably available unless it infringes on the privacy of other individuals and subject to reasonable limitations provided by law and internal procedures', 'POC', 10), (0.5008038, 'any personal information you submit in the course of interacting in these public activities can be read collected or used by other users', 'PUC', 36)]\n",
            "You also have the option of proactively making choices about the receipt of promotional e-mail, telephone calls, and postal mail from Microsoft by visiting and signing into the  allows you to update contact information, manage Microsoft-wide contact preferences, opt out of subscriptions, and choose whether to share your contact information with Microsoft partners.\n",
            "Extracting features...\n",
            "INFO:tensorflow:Saver not created because there are no variables in the graph to restore\n"
          ],
          "name": "stdout"
        },
        {
          "output_type": "stream",
          "text": [
            "INFO:tensorflow:Saver not created because there are no variables in the graph to restore\n"
          ],
          "name": "stderr"
        },
        {
          "output_type": "stream",
          "text": [
            "[(0.67744035, 'doing this allows the advertising network to recognize your computer each time they send you an advertisement in order to measure the effectiveness of their ads and to personalize advertising content', 'PUC', 32), (0.66071373, 'user registration with medianews web sites is completed and membership activated upon clicking a link e mailed to the address provided in registration', 'POC', 4), (0.6596224, 'if you are a member of an online service you may use that service is account and privacy settings to personalize the collection use and or display of your data via that service', 'PUPR', 52), (0.6472396, 'to do so we collect and share additional personal information like credit information so such third parties can provide the product or service you request', 'POPR', 14), (0.602181, 'imdb also displays personalized third party advertising based on personal information about users such as information you submit to us about movies you own or have watched', 'POPR', 22), (0.5984431, 'we may also work with other companies that advertise on microsoft sites to place web beacons on their sites or in their advertisements to let us develop statistics on how often clicking on an advertisement on a microsoft site results in a purchase or other action on the advertiser is site', 'POPR', 25), (0.59805095, 'in these cases we require validation of credit card information already on file with us and we will then e mail the master account holder to give notice that we have received such consent', 'POC', 6), (0.59247154, 'if you choose to submit an application to us for pre approved credit we will request that you provide personally identifiable information such as name address telephone number social security number date of birth employment information and gross monthly income', 'PUPR', 42), (0.5888729, 'this information will only be shared with third parties who perform tasks required to complete the purchase transaction', 'PUC', 40), (0.57625496, 'because we serve advertisements on our own web sites as well as those of our advertising and publisher partners we are able to compile information over time about the types of pages you visit on microsoft and other sites content and ads you or others who are using your computer visited or viewed', 'POPR', 12), (0.57250726, 'by visiting the site whether as a registered user or otherwise you acknowledge understand and hereby agree that you are giving us your consent to track your activities and your use of the site through these tracking technologies and that we may use tracking technologies in the emails we send to you', 'PUC', 33), (0.5661171, 'if you authorize such a connection you permit us to share or publish information about your activity on our services with that social network and its users and to access certain of your social network information as disclosed by you at the time you consent to the connection', 'PUC', 35), (0.5639403, 'your use of our sites and services following any such change constitutes your agreement that allinformation collected from or about you through our sites and services after the revised privacy policy is posted will besubject to the terms of the revised privacy policy', 'PUC', 39), (0.56259376, 'notmc and its agents use cookies so that we can improve your online experience for example by remembering you when you come back to visit the websites and making the content you see more relevant to you', 'POPR', 23), (0.5557977, 'in order to serve offers and advertisements that may be interest to our users we may display targeted advertisements on the services based on personal information provided by our users including zip code and profile', 'POPR', 13), (0.5488729, 'to protect your privacy and security we will also take reasonable steps to verify your identity before granting access or making corrections', 'POC', 9), (0.5484658, 'when you update information your old information is replaced by your new information', 'PUC', 41), (0.5445367, 'web logging which enables us to collect the standard information your browser or application sends to every web site you visit such as your ip address browser type and language and the url of the site you came from as well as the pages you visit and the links you click while using our sites and services', 'POPR', 29), (0.53856164, 'to prevent unauthorized electronic access to personal information the company maintains information collected online behind a firewall protected server and uses ssl encryption for purchases made through our online store', 'POC', 5), (0.53828233, 'depending on your account settings multisite ids may also provide other information to us', 'PUPR', 45), (0.53190315, 'we may also combine your information with other information in a way that it is no longer associated with you and share that aggregated information', 'POPR', 20), (0.529778, 'you may also prevent flash cookies from being placed by adjusting your preferences in the macromedia website privacy settings panel at', 'PUPR', 49), (0.5282045, 'you can use your browser settings to remove or block cookies on your computer', 'PUPR', 44), (0.52362573, 'we may collect certain information about your computer or other device that you use to access the sites including ip address geolocation information unique device identifiers browser type browser language and other transactional information', 'POPR', 30), (0.5225759, 'any personal information you submit in the course of interacting in these public activities can be read collected or used by other users', 'PUC', 36), (0.51937336, 'our servers automatically record information that your browser sends whenever you visit the site s', 'POPR', 28), (0.51799196, 'we may merge this with other data we collect about you from third parties to assist us in our ability to provide the services including without limitation to advertise and provide content to you', 'POPR', 18), (0.5173093, 'nevertheless you are able to control how and whether cookies will be accepted by your web browser or device', 'PUPR', 51), (0.5036987, 'to use certain features of the sites you will need a username and password which you will receive through the site is registration process', 'PUC', 31), (0.5010702, 'you agree to accept and to take no action to interfere with automatic upgrades or updates', 'PUC', 38)]\n",
            "Any information or content that you voluntarily disclose for posting to the Service, such as User Content, becomes available to the public, as controlled by any applicable privacy settings that you set.\n",
            "Extracting features...\n",
            "INFO:tensorflow:Saver not created because there are no variables in the graph to restore\n"
          ],
          "name": "stdout"
        },
        {
          "output_type": "stream",
          "text": [
            "INFO:tensorflow:Saver not created because there are no variables in the graph to restore\n"
          ],
          "name": "stderr"
        },
        {
          "output_type": "stream",
          "text": [
            "[(0.83107483, 'if you authorize such a connection you permit us to share or publish information about your activity on our services with that social network and its users and to access certain of your social network information as disclosed by you at the time you consent to the connection', 'PUC', 35), (0.81782305, 'your use of our sites and services following any such change constitutes your agreement that allinformation collected from or about you through our sites and services after the revised privacy policy is posted will besubject to the terms of the revised privacy policy', 'PUC', 39), (0.81622124, 'we may aggregate and or anonymize information collected by the services or via other means so that the information does not identify you', 'POPR', 26), (0.81470877, 'any personal information you submit in the course of interacting in these public activities can be read collected or used by other users', 'PUC', 36), (0.77722853, 'we will provide you the personal information requested if it is reasonably available unless it infringes on the privacy of other individuals and subject to reasonable limitations provided by law and internal procedures', 'POC', 10), (0.77042395, 'by visiting the site whether as a registered user or otherwise you acknowledge understand and hereby agree that you are giving us your consent to track your activities and your use of the site through these tracking technologies and that we may use tracking technologies in the emails we send to you', 'PUC', 33), (0.74798346, 'to do so we collect and share additional personal information like credit information so such third parties can provide the product or service you request', 'POPR', 14), (0.7175613, 'we may also combine your information with other information in a way that it is no longer associated with you and share that aggregated information', 'POPR', 20), (0.7031298, 'we may collect certain information about your computer or other device that you use to access the sites including ip address geolocation information unique device identifiers browser type browser language and other transactional information', 'POPR', 30), (0.6998866, 'if medianews believes such information is untrue inaccurate not current or incomplete medianews has the right to suspend or terminate your account and refuse any and all current or future use of the sites by you', 'POPR', 16), (0.6997039, 'however you may not without the prior written permission of medianews group inc medianews group interactive inc or medianews group affiliates frame any of the content of the sites or incorporate into another website any material from the sites', 'PUPR', 50), (0.6987206, 'if we modify our privacy policy on how we handle your personal information we will post the revised information here with a revised effective date at the top of this privacy policy', 'POC', 3), (0.69823813, 'if you are a member of an online service you may use that service is account and privacy settings to personalize the collection use and or display of your data via that service', 'PUPR', 52), (0.69470257, 'our servers automatically record information that your browser sends whenever you visit the site s', 'POPR', 28), (0.69380236, 'user registration with medianews web sites is completed and membership activated upon clicking a link e mailed to the address provided in registration', 'POC', 4), (0.6894489, 'in order to serve offers and advertisements that may be interest to our users we may display targeted advertisements on the services based on personal information provided by our users including zip code and profile', 'POPR', 13), (0.68550164, 'web logging which enables us to collect the standard information your browser or application sends to every web site you visit such as your ip address browser type and language and the url of the site you came from as well as the pages you visit and the links you click while using our sites and services', 'POPR', 29), (0.6828137, 'this website incorporates reasonable safeguards to protect the security integrity completeness accuracy and privacy of the personal information that we may collect and we have put into place reasonable precautions to protect such information from loss misuse and alteration', 'POPR', 19), (0.6796957, 'if you ask us to share your personal information with a third party for its marketing purposes we will only share information in connection with that specific promotion since we do not share information with any third party other than our service providers on an ongoing basis', 'POC', 1), (0.6731432, 'to protect your privacy and security we will also take reasonable steps to verify your identity before granting access or making corrections', 'POC', 9), (0.6703864, 'keep in mind that any information that you choose to post to blogs discussion forums or other community or social networking services that we offer can be seen collected and used by anyone who has access to the applicable service', 'PUPR', 46), (0.6556721, 'depending on your account settings multisite ids may also provide other information to us', 'PUPR', 45), (0.65064937, 'notmc and its agents use cookies so that we can improve your online experience for example by remembering you when you come back to visit the websites and making the content you see more relevant to you', 'POPR', 23), (0.6450941, 'we may merge this with other data we collect about you from third parties to assist us in our ability to provide the services including without limitation to advertise and provide content to you', 'POPR', 18), (0.64366215, 'because we serve advertisements on our own web sites as well as those of our advertising and publisher partners we are able to compile information over time about the types of pages you visit on microsoft and other sites content and ads you or others who are using your computer visited or viewed', 'POPR', 12), (0.6431126, 'your information is stored in an encrypted environment', 'PUPR', 47), (0.6286103, 'to use certain features of the sites you will need a username and password which you will receive through the site is registration process', 'PUC', 31), (0.6199379, 'to prevent unauthorized electronic access to personal information the company maintains information collected online behind a firewall protected server and uses ssl encryption for purchases made through our online store', 'POC', 5), (0.60480374, 'imdb also displays personalized third party advertising based on personal information about users such as information you submit to us about movies you own or have watched', 'POPR', 22), (0.60261965, 'this information will only be shared with third parties who perform tasks required to complete the purchase transaction', 'PUC', 40), (0.5998047, 'we will not disclose cardholder data to any third party except to facilitate and complete transactions submitted to us by merchants or otherwise in the course of providing services to our merchants or to comply with federal state and local laws or the rules and regulations of the respective card organizations or other payment entities e g', 'POC', 8), (0.5976562, 'if you wish to review or delete any profile information that you have provided us regarding a child or ask that we stop using such information you may do so at any time through the settings area of your account or by contacting us using the information below', 'POC', 0), (0.5952479, 'if the changes represent a material departure from our current practice with respect to the use of children is personal information the changes will be posted on this page thirty days prior to taking effect and will not affect children is personal information previously collected', 'POC', 7), (0.5927804, 'when you update information your old information is replaced by your new information', 'PUC', 41), (0.58617634, 'cookies kinja or third parties may use cookies web beacons html local storage java script and other similar technologies to help us understand how you use the services and help us provide the services and advertising to you', 'POPR', 24), (0.58188623, 'in these cases we require validation of credit card information already on file with us and we will then e mail the master account holder to give notice that we have received such consent', 'POC', 6), (0.5759843, 'doing this allows the advertising network to recognize your computer each time they send you an advertisement in order to measure the effectiveness of their ads and to personalize advertising content', 'PUC', 32), (0.5579074, 'nevertheless you are able to control how and whether cookies will be accepted by your web browser or device', 'PUPR', 51), (0.5434684, 'we use your ip address to help diagnose problems with our server and to administer our web site', 'POPR', 15), (0.53903395, 'if you choose to submit an application to us for pre approved credit we will request that you provide personally identifiable information such as name address telephone number social security number date of birth employment information and gross monthly income', 'PUPR', 42), (0.5366268, 'you may also prevent flash cookies from being placed by adjusting your preferences in the macromedia website privacy settings panel at', 'PUPR', 49), (0.52801555, 'however no data transmission over the internet or with respect to our mobile services over cellular phone networks can be guaranteed to be secure', 'POC', 2), (0.52748996, 'you can use your browser settings to remove or block cookies on your computer', 'PUPR', 44), (0.52475214, 'we may also work with other companies that advertise on microsoft sites to place web beacons on their sites or in their advertisements to let us develop statistics on how often clicking on an advertisement on a microsoft site results in a purchase or other action on the advertiser is site', 'POPR', 25), (0.50827897, 'if you elect to publish your content via our nook press service we may ask you to provide your bank account and routing information so that we can direct payments to you', 'POPR', 11), (0.5036041, 'we perform statistical demographic and marketing analyses of users of the nyt services and their subscribing and purchasing patterns for product development purposes and to generally inform advertisers about the nature of our subscriber base', 'POPR', 17)]\n",
            "We store information you provide us on our secure servers.\n",
            "Extracting features...\n",
            "INFO:tensorflow:Saver not created because there are no variables in the graph to restore\n"
          ],
          "name": "stdout"
        },
        {
          "output_type": "stream",
          "text": [
            "INFO:tensorflow:Saver not created because there are no variables in the graph to restore\n"
          ],
          "name": "stderr"
        },
        {
          "output_type": "stream",
          "text": [
            "[(0.7903216, 'our servers automatically record information that your browser sends whenever you visit the site s', 'POPR', 28), (0.78806484, 'your information is stored in an encrypted environment', 'PUPR', 47), (0.7765697, 'we may collect certain information about your computer or other device that you use to access the sites including ip address geolocation information unique device identifiers browser type browser language and other transactional information', 'POPR', 30), (0.7731177, 'this website incorporates reasonable safeguards to protect the security integrity completeness accuracy and privacy of the personal information that we may collect and we have put into place reasonable precautions to protect such information from loss misuse and alteration', 'POPR', 19), (0.75550455, 'we may aggregate and or anonymize information collected by the services or via other means so that the information does not identify you', 'POPR', 26), (0.7423928, 'to prevent unauthorized electronic access to personal information the company maintains information collected online behind a firewall protected server and uses ssl encryption for purchases made through our online store', 'POC', 5), (0.7326273, 'by visiting the site whether as a registered user or otherwise you acknowledge understand and hereby agree that you are giving us your consent to track your activities and your use of the site through these tracking technologies and that we may use tracking technologies in the emails we send to you', 'PUC', 33), (0.7219382, 'we will provide you the personal information requested if it is reasonably available unless it infringes on the privacy of other individuals and subject to reasonable limitations provided by law and internal procedures', 'POC', 10), (0.71940905, 'to protect your privacy and security we will also take reasonable steps to verify your identity before granting access or making corrections', 'POC', 9), (0.71077925, 'we use your ip address to help diagnose problems with our server and to administer our web site', 'POPR', 15), (0.7065717, 'if you authorize such a connection you permit us to share or publish information about your activity on our services with that social network and its users and to access certain of your social network information as disclosed by you at the time you consent to the connection', 'PUC', 35), (0.6804283, 'to do so we collect and share additional personal information like credit information so such third parties can provide the product or service you request', 'POPR', 14), (0.6771406, 'web logging which enables us to collect the standard information your browser or application sends to every web site you visit such as your ip address browser type and language and the url of the site you came from as well as the pages you visit and the links you click while using our sites and services', 'POPR', 29), (0.6312428, 'your use of our sites and services following any such change constitutes your agreement that allinformation collected from or about you through our sites and services after the revised privacy policy is posted will besubject to the terms of the revised privacy policy', 'PUC', 39), (0.63065827, 'in these cases we require validation of credit card information already on file with us and we will then e mail the master account holder to give notice that we have received such consent', 'POC', 6), (0.62315565, 'we may also combine your information with other information in a way that it is no longer associated with you and share that aggregated information', 'POPR', 20), (0.6208766, 'we will not disclose cardholder data to any third party except to facilitate and complete transactions submitted to us by merchants or otherwise in the course of providing services to our merchants or to comply with federal state and local laws or the rules and regulations of the respective card organizations or other payment entities e g', 'POC', 8), (0.6177484, 'however no data transmission over the internet or with respect to our mobile services over cellular phone networks can be guaranteed to be secure', 'POC', 2), (0.60746443, 'any personal information you submit in the course of interacting in these public activities can be read collected or used by other users', 'PUC', 36), (0.60648865, 'cookies kinja or third parties may use cookies web beacons html local storage java script and other similar technologies to help us understand how you use the services and help us provide the services and advertising to you', 'POPR', 24), (0.6032841, 'because we serve advertisements on our own web sites as well as those of our advertising and publisher partners we are able to compile information over time about the types of pages you visit on microsoft and other sites content and ads you or others who are using your computer visited or viewed', 'POPR', 12), (0.5925851, 'if we modify our privacy policy on how we handle your personal information we will post the revised information here with a revised effective date at the top of this privacy policy', 'POC', 3), (0.59154886, 'we may merge this with other data we collect about you from third parties to assist us in our ability to provide the services including without limitation to advertise and provide content to you', 'POPR', 18), (0.5712551, 'user registration with medianews web sites is completed and membership activated upon clicking a link e mailed to the address provided in registration', 'POC', 4), (0.5679582, 'depending on your account settings multisite ids may also provide other information to us', 'PUPR', 45), (0.5675703, 'in order to serve offers and advertisements that may be interest to our users we may display targeted advertisements on the services based on personal information provided by our users including zip code and profile', 'POPR', 13), (0.5645972, 'this information will only be shared with third parties who perform tasks required to complete the purchase transaction', 'PUC', 40), (0.56445855, 'notmc and its agents use cookies so that we can improve your online experience for example by remembering you when you come back to visit the websites and making the content you see more relevant to you', 'POPR', 23), (0.54092836, 'we use the third party service provider dr globaltech inc as our online official re seller and for certain in game sales functions', 'POPR', 21), (0.54083544, 'if you ask us to share your personal information with a third party for its marketing purposes we will only share information in connection with that specific promotion since we do not share information with any third party other than our service providers on an ongoing basis', 'POC', 1), (0.54017496, 'to use certain features of the sites you will need a username and password which you will receive through the site is registration process', 'PUC', 31), (0.5170856, 'if you are a member of an online service you may use that service is account and privacy settings to personalize the collection use and or display of your data via that service', 'PUPR', 52), (0.5134989, 'we may also work with other companies that advertise on microsoft sites to place web beacons on their sites or in their advertisements to let us develop statistics on how often clicking on an advertisement on a microsoft site results in a purchase or other action on the advertiser is site', 'POPR', 25)]\n",
            "If you do not want to receive emails from us about specific geocaches or Trackables, you can change your preferences by logging into your account and removing these geocaches and/or Trackables from your Watchlist or bookmarks.\n",
            "Extracting features...\n",
            "INFO:tensorflow:Saver not created because there are no variables in the graph to restore\n"
          ],
          "name": "stdout"
        },
        {
          "output_type": "stream",
          "text": [
            "INFO:tensorflow:Saver not created because there are no variables in the graph to restore\n"
          ],
          "name": "stderr"
        },
        {
          "output_type": "stream",
          "text": [
            "[(0.6608499, 'if you are a member of an online service you may use that service is account and privacy settings to personalize the collection use and or display of your data via that service', 'PUPR', 52), (0.61696285, 'to use certain features of the sites you will need a username and password which you will receive through the site is registration process', 'PUC', 31), (0.6096705, 'depending on your account settings multisite ids may also provide other information to us', 'PUPR', 45), (0.57467705, 'you can use your browser settings to remove or block cookies on your computer', 'PUPR', 44), (0.57059014, 'user registration with medianews web sites is completed and membership activated upon clicking a link e mailed to the address provided in registration', 'POC', 4), (0.5587992, 'notmc and its agents use cookies so that we can improve your online experience for example by remembering you when you come back to visit the websites and making the content you see more relevant to you', 'POPR', 23), (0.5584002, 'when you register your caribou gift card on the site we ask for your name email address phone number and mailing address', 'PUC', 37), (0.54950124, 'by visiting the site whether as a registered user or otherwise you acknowledge understand and hereby agree that you are giving us your consent to track your activities and your use of the site through these tracking technologies and that we may use tracking technologies in the emails we send to you', 'PUC', 33), (0.5383788, 'web logging which enables us to collect the standard information your browser or application sends to every web site you visit such as your ip address browser type and language and the url of the site you came from as well as the pages you visit and the links you click while using our sites and services', 'POPR', 29), (0.5269424, 'you may also prevent flash cookies from being placed by adjusting your preferences in the macromedia website privacy settings panel at', 'PUPR', 49), (0.5223834, 'any personal information you submit in the course of interacting in these public activities can be read collected or used by other users', 'PUC', 36), (0.508824, 'our servers automatically record information that your browser sends whenever you visit the site s', 'POPR', 28), (0.5086747, 'we may also combine your information with other information in a way that it is no longer associated with you and share that aggregated information', 'POPR', 20), (0.5075213, 'this website incorporates reasonable safeguards to protect the security integrity completeness accuracy and privacy of the personal information that we may collect and we have put into place reasonable precautions to protect such information from loss misuse and alteration', 'POPR', 19)]\n",
            "Please check back from time to time to ensure that you are aware of these changes.\n",
            "Extracting features...\n",
            "INFO:tensorflow:Saver not created because there are no variables in the graph to restore\n"
          ],
          "name": "stdout"
        },
        {
          "output_type": "stream",
          "text": [
            "INFO:tensorflow:Saver not created because there are no variables in the graph to restore\n"
          ],
          "name": "stderr"
        },
        {
          "output_type": "stream",
          "text": [
            "[(0.5390742, 'if the changes represent a material departure from our current practice with respect to the use of children is personal information the changes will be posted on this page thirty days prior to taking effect and will not affect children is personal information previously collected', 'POC', 7)]\n",
            "Mobile Apps:\n",
            "Extracting features...\n",
            "INFO:tensorflow:Saver not created because there are no variables in the graph to restore\n"
          ],
          "name": "stdout"
        },
        {
          "output_type": "stream",
          "text": [
            "INFO:tensorflow:Saver not created because there are no variables in the graph to restore\n"
          ],
          "name": "stderr"
        },
        {
          "output_type": "stream",
          "text": [
            "[]\n",
            "Non-Personal Information Collected Using Technology\n",
            "Extracting features...\n",
            "INFO:tensorflow:Saver not created because there are no variables in the graph to restore\n"
          ],
          "name": "stdout"
        },
        {
          "output_type": "stream",
          "text": [
            "INFO:tensorflow:Saver not created because there are no variables in the graph to restore\n"
          ],
          "name": "stderr"
        },
        {
          "output_type": "stream",
          "text": [
            "[(0.781088, 'any personal information you submit in the course of interacting in these public activities can be read collected or used by other users', 'PUC', 36), (0.73771805, 'we may aggregate and or anonymize information collected by the services or via other means so that the information does not identify you', 'POPR', 26), (0.72776634, 'we may also combine your information with other information in a way that it is no longer associated with you and share that aggregated information', 'POPR', 20), (0.7199812, 'if you authorize such a connection you permit us to share or publish information about your activity on our services with that social network and its users and to access certain of your social network information as disclosed by you at the time you consent to the connection', 'PUC', 35), (0.718106, 'we will provide you the personal information requested if it is reasonably available unless it infringes on the privacy of other individuals and subject to reasonable limitations provided by law and internal procedures', 'POC', 10), (0.6663215, 'your information is stored in an encrypted environment', 'PUPR', 47), (0.64701325, 'we may collect certain information about your computer or other device that you use to access the sites including ip address geolocation information unique device identifiers browser type browser language and other transactional information', 'POPR', 30), (0.63668877, 'to do so we collect and share additional personal information like credit information so such third parties can provide the product or service you request', 'POPR', 14), (0.635649, 'this website incorporates reasonable safeguards to protect the security integrity completeness accuracy and privacy of the personal information that we may collect and we have put into place reasonable precautions to protect such information from loss misuse and alteration', 'POPR', 19), (0.62512976, 'to protect your privacy and security we will also take reasonable steps to verify your identity before granting access or making corrections', 'POC', 9), (0.6202177, 'if we modify our privacy policy on how we handle your personal information we will post the revised information here with a revised effective date at the top of this privacy policy', 'POC', 3), (0.60435957, 'by visiting the site whether as a registered user or otherwise you acknowledge understand and hereby agree that you are giving us your consent to track your activities and your use of the site through these tracking technologies and that we may use tracking technologies in the emails we send to you', 'PUC', 33), (0.58931535, 'our servers automatically record information that your browser sends whenever you visit the site s', 'POPR', 28), (0.5873708, 'if you wish to review or delete any profile information that you have provided us regarding a child or ask that we stop using such information you may do so at any time through the settings area of your account or by contacting us using the information below', 'POC', 0), (0.58400923, 'however no data transmission over the internet or with respect to our mobile services over cellular phone networks can be guaranteed to be secure', 'POC', 2), (0.5507999, 'if you are a member of an online service you may use that service is account and privacy settings to personalize the collection use and or display of your data via that service', 'PUPR', 52), (0.5378902, 'web logging which enables us to collect the standard information your browser or application sends to every web site you visit such as your ip address browser type and language and the url of the site you came from as well as the pages you visit and the links you click while using our sites and services', 'POPR', 29), (0.53660136, 'to prevent unauthorized electronic access to personal information the company maintains information collected online behind a firewall protected server and uses ssl encryption for purchases made through our online store', 'POC', 5), (0.5267523, 'your use of our sites and services following any such change constitutes your agreement that allinformation collected from or about you through our sites and services after the revised privacy policy is posted will besubject to the terms of the revised privacy policy', 'PUC', 39), (0.52466303, 'if you ask us to share your personal information with a third party for its marketing purposes we will only share information in connection with that specific promotion since we do not share information with any third party other than our service providers on an ongoing basis', 'POC', 1), (0.5226807, 'we will not disclose cardholder data to any third party except to facilitate and complete transactions submitted to us by merchants or otherwise in the course of providing services to our merchants or to comply with federal state and local laws or the rules and regulations of the respective card organizations or other payment entities e g', 'POC', 8), (0.5217854, 'when you update information your old information is replaced by your new information', 'PUC', 41), (0.50973254, 'keep in mind that any information that you choose to post to blogs discussion forums or other community or social networking services that we offer can be seen collected and used by anyone who has access to the applicable service', 'PUPR', 46), (0.5089268, 'depending on your account settings multisite ids may also provide other information to us', 'PUPR', 45), (0.5014972, 'we may merge this with other data we collect about you from third parties to assist us in our ability to provide the services including without limitation to advertise and provide content to you', 'POPR', 18), (0.50128466, 'notmc and its agents use cookies so that we can improve your online experience for example by remembering you when you come back to visit the websites and making the content you see more relevant to you', 'POPR', 23)]\n",
            "To tailor advertising efforts.\n",
            "Extracting features...\n",
            "INFO:tensorflow:Saver not created because there are no variables in the graph to restore\n"
          ],
          "name": "stdout"
        },
        {
          "output_type": "stream",
          "text": [
            "INFO:tensorflow:Saver not created because there are no variables in the graph to restore\n"
          ],
          "name": "stderr"
        },
        {
          "output_type": "stream",
          "text": [
            "[]\n",
            "Information from Other Sources.\n",
            "Extracting features...\n",
            "INFO:tensorflow:Saver not created because there are no variables in the graph to restore\n"
          ],
          "name": "stdout"
        },
        {
          "output_type": "stream",
          "text": [
            "INFO:tensorflow:Saver not created because there are no variables in the graph to restore\n"
          ],
          "name": "stderr"
        },
        {
          "output_type": "stream",
          "text": [
            "[]\n",
            "Audible Membership\n",
            "Extracting features...\n",
            "INFO:tensorflow:Saver not created because there are no variables in the graph to restore\n"
          ],
          "name": "stdout"
        },
        {
          "output_type": "stream",
          "text": [
            "INFO:tensorflow:Saver not created because there are no variables in the graph to restore\n"
          ],
          "name": "stderr"
        },
        {
          "output_type": "stream",
          "text": [
            "[(0.5065086, 'user registration with medianews web sites is completed and membership activated upon clicking a link e mailed to the address provided in registration', 'POC', 4)]\n",
            "If we need to disclose the information in order to identify, contact or initiate legal action against someone violating 's Terms of Service, or someone who is causing injury to or interference with 's rights or property, other  users, or anyone else who can be harmed by such activities.\n",
            "Extracting features...\n",
            "INFO:tensorflow:Saver not created because there are no variables in the graph to restore\n"
          ],
          "name": "stdout"
        },
        {
          "output_type": "stream",
          "text": [
            "INFO:tensorflow:Saver not created because there are no variables in the graph to restore\n"
          ],
          "name": "stderr"
        },
        {
          "output_type": "stream",
          "text": [
            "[(0.8481347, 'we will provide you the personal information requested if it is reasonably available unless it infringes on the privacy of other individuals and subject to reasonable limitations provided by law and internal procedures', 'POC', 10), (0.78999406, 'we may aggregate and or anonymize information collected by the services or via other means so that the information does not identify you', 'POPR', 26), (0.76938826, 'if you authorize such a connection you permit us to share or publish information about your activity on our services with that social network and its users and to access certain of your social network information as disclosed by you at the time you consent to the connection', 'PUC', 35), (0.74103713, 'any personal information you submit in the course of interacting in these public activities can be read collected or used by other users', 'PUC', 36), (0.7326015, 'by visiting the site whether as a registered user or otherwise you acknowledge understand and hereby agree that you are giving us your consent to track your activities and your use of the site through these tracking technologies and that we may use tracking technologies in the emails we send to you', 'PUC', 33), (0.7283651, 'to protect your privacy and security we will also take reasonable steps to verify your identity before granting access or making corrections', 'POC', 9), (0.7097253, 'your use of our sites and services following any such change constitutes your agreement that allinformation collected from or about you through our sites and services after the revised privacy policy is posted will besubject to the terms of the revised privacy policy', 'PUC', 39), (0.70399654, 'if we modify our privacy policy on how we handle your personal information we will post the revised information here with a revised effective date at the top of this privacy policy', 'POC', 3), (0.6734994, 'this website incorporates reasonable safeguards to protect the security integrity completeness accuracy and privacy of the personal information that we may collect and we have put into place reasonable precautions to protect such information from loss misuse and alteration', 'POPR', 19), (0.6619961, 'to do so we collect and share additional personal information like credit information so such third parties can provide the product or service you request', 'POPR', 14), (0.6596197, 'we will not disclose cardholder data to any third party except to facilitate and complete transactions submitted to us by merchants or otherwise in the course of providing services to our merchants or to comply with federal state and local laws or the rules and regulations of the respective card organizations or other payment entities e g', 'POC', 8), (0.64000624, 'you agree that we and our indemnitees are not responsible and shall have no liability to you with respect to merchandise products and or services including without limitation content featured mentioned described auctioned distributed given away sold rented or otherwise available on or through the service including illegal offensive or illicit items even items that violate the agreement', 'PUC', 34), (0.6324073, 'we may collect certain information about your computer or other device that you use to access the sites including ip address geolocation information unique device identifiers browser type browser language and other transactional information', 'POPR', 30), (0.62991863, 'we may also combine your information with other information in a way that it is no longer associated with you and share that aggregated information', 'POPR', 20), (0.62157494, 'however you may not without the prior written permission of medianews group inc medianews group interactive inc or medianews group affiliates frame any of the content of the sites or incorporate into another website any material from the sites', 'PUPR', 50), (0.61949515, 'in these cases we require validation of credit card information already on file with us and we will then e mail the master account holder to give notice that we have received such consent', 'POC', 6), (0.61141795, 'if you ask us to share your personal information with a third party for its marketing purposes we will only share information in connection with that specific promotion since we do not share information with any third party other than our service providers on an ongoing basis', 'POC', 1), (0.6062928, 'if medianews believes such information is untrue inaccurate not current or incomplete medianews has the right to suspend or terminate your account and refuse any and all current or future use of the sites by you', 'POPR', 16), (0.5826952, 'keep in mind that any information that you choose to post to blogs discussion forums or other community or social networking services that we offer can be seen collected and used by anyone who has access to the applicable service', 'PUPR', 46), (0.5743982, 'in order to serve offers and advertisements that may be interest to our users we may display targeted advertisements on the services based on personal information provided by our users including zip code and profile', 'POPR', 13), (0.55157393, 'if you wish to review or delete any profile information that you have provided us regarding a child or ask that we stop using such information you may do so at any time through the settings area of your account or by contacting us using the information below', 'POC', 0), (0.5480004, 'this information will only be shared with third parties who perform tasks required to complete the purchase transaction', 'PUC', 40), (0.53578967, 'if the changes represent a material departure from our current practice with respect to the use of children is personal information the changes will be posted on this page thirty days prior to taking effect and will not affect children is personal information previously collected', 'POC', 7), (0.51673204, 'to prevent unauthorized electronic access to personal information the company maintains information collected online behind a firewall protected server and uses ssl encryption for purchases made through our online store', 'POC', 5), (0.51538426, 'if you choose to submit an application to us for pre approved credit we will request that you provide personally identifiable information such as name address telephone number social security number date of birth employment information and gross monthly income', 'PUPR', 42), (0.50302804, 'your information is stored in an encrypted environment', 'PUPR', 47)]\n",
            "For example, many of our services require you to sign up for a Google Account.\n",
            "Extracting features...\n",
            "INFO:tensorflow:Saver not created because there are no variables in the graph to restore\n"
          ],
          "name": "stdout"
        },
        {
          "output_type": "stream",
          "text": [
            "INFO:tensorflow:Saver not created because there are no variables in the graph to restore\n"
          ],
          "name": "stderr"
        },
        {
          "output_type": "stream",
          "text": [
            "[(0.67666334, 'user registration with medianews web sites is completed and membership activated upon clicking a link e mailed to the address provided in registration', 'POC', 4), (0.6584948, 'web logging which enables us to collect the standard information your browser or application sends to every web site you visit such as your ip address browser type and language and the url of the site you came from as well as the pages you visit and the links you click while using our sites and services', 'POPR', 29), (0.65531987, 'to do so we collect and share additional personal information like credit information so such third parties can provide the product or service you request', 'POPR', 14), (0.61767757, 'our servers automatically record information that your browser sends whenever you visit the site s', 'POPR', 28), (0.6160844, 'to use certain features of the sites you will need a username and password which you will receive through the site is registration process', 'PUC', 31), (0.60778904, 'if you are a member of an online service you may use that service is account and privacy settings to personalize the collection use and or display of your data via that service', 'PUPR', 52), (0.6010069, 'we may collect certain information about your computer or other device that you use to access the sites including ip address geolocation information unique device identifiers browser type browser language and other transactional information', 'POPR', 30), (0.5934999, 'depending on your account settings multisite ids may also provide other information to us', 'PUPR', 45), (0.58025885, 'nevertheless you are able to control how and whether cookies will be accepted by your web browser or device', 'PUPR', 51), (0.57908726, 'because we serve advertisements on our own web sites as well as those of our advertising and publisher partners we are able to compile information over time about the types of pages you visit on microsoft and other sites content and ads you or others who are using your computer visited or viewed', 'POPR', 12), (0.5775995, 'if you authorize such a connection you permit us to share or publish information about your activity on our services with that social network and its users and to access certain of your social network information as disclosed by you at the time you consent to the connection', 'PUC', 35), (0.5761887, 'doing this allows the advertising network to recognize your computer each time they send you an advertisement in order to measure the effectiveness of their ads and to personalize advertising content', 'PUC', 32), (0.56967324, 'however no data transmission over the internet or with respect to our mobile services over cellular phone networks can be guaranteed to be secure', 'POC', 2), (0.56826305, 'in these cases we require validation of credit card information already on file with us and we will then e mail the master account holder to give notice that we have received such consent', 'POC', 6), (0.56251645, 'to prevent unauthorized electronic access to personal information the company maintains information collected online behind a firewall protected server and uses ssl encryption for purchases made through our online store', 'POC', 5), (0.5474154, 'cookies kinja or third parties may use cookies web beacons html local storage java script and other similar technologies to help us understand how you use the services and help us provide the services and advertising to you', 'POPR', 24), (0.545603, 'by visiting the site whether as a registered user or otherwise you acknowledge understand and hereby agree that you are giving us your consent to track your activities and your use of the site through these tracking technologies and that we may use tracking technologies in the emails we send to you', 'PUC', 33), (0.5407437, 'we may merge this with other data we collect about you from third parties to assist us in our ability to provide the services including without limitation to advertise and provide content to you', 'POPR', 18), (0.54073703, 'we may also work with other companies that advertise on microsoft sites to place web beacons on their sites or in their advertisements to let us develop statistics on how often clicking on an advertisement on a microsoft site results in a purchase or other action on the advertiser is site', 'POPR', 25), (0.5372111, 'in order to serve offers and advertisements that may be interest to our users we may display targeted advertisements on the services based on personal information provided by our users including zip code and profile', 'POPR', 13), (0.5371406, 'you can use your browser settings to remove or block cookies on your computer', 'PUPR', 44), (0.53691065, 'imdb also displays personalized third party advertising based on personal information about users such as information you submit to us about movies you own or have watched', 'POPR', 22), (0.53229976, 'notmc and its agents use cookies so that we can improve your online experience for example by remembering you when you come back to visit the websites and making the content you see more relevant to you', 'POPR', 23), (0.5317226, 'any personal information you submit in the course of interacting in these public activities can be read collected or used by other users', 'PUC', 36), (0.529557, 'this information will only be shared with third parties who perform tasks required to complete the purchase transaction', 'PUC', 40), (0.52575135, 'your use of our sites and services following any such change constitutes your agreement that allinformation collected from or about you through our sites and services after the revised privacy policy is posted will besubject to the terms of the revised privacy policy', 'PUC', 39), (0.52158856, 'we may aggregate and or anonymize information collected by the services or via other means so that the information does not identify you', 'POPR', 26), (0.5210724, 'to protect your privacy and security we will also take reasonable steps to verify your identity before granting access or making corrections', 'POC', 9), (0.5159453, 'we use your ip address to help diagnose problems with our server and to administer our web site', 'POPR', 15), (0.5121222, 'your information is stored in an encrypted environment', 'PUPR', 47), (0.5003562, 'you may also prevent flash cookies from being placed by adjusting your preferences in the macromedia website privacy settings panel at', 'PUPR', 49)]\n",
            "Watch and Play\n",
            "Extracting features...\n",
            "INFO:tensorflow:Saver not created because there are no variables in the graph to restore\n"
          ],
          "name": "stdout"
        },
        {
          "output_type": "stream",
          "text": [
            "INFO:tensorflow:Saver not created because there are no variables in the graph to restore\n"
          ],
          "name": "stderr"
        },
        {
          "output_type": "stream",
          "text": [
            "[]\n",
            "You should review these policies carefully, as we have no control over them.\n",
            "Extracting features...\n",
            "INFO:tensorflow:Saver not created because there are no variables in the graph to restore\n"
          ],
          "name": "stdout"
        },
        {
          "output_type": "stream",
          "text": [
            "INFO:tensorflow:Saver not created because there are no variables in the graph to restore\n"
          ],
          "name": "stderr"
        },
        {
          "output_type": "stream",
          "text": [
            "[]\n",
            "Business Transfers: In the event that all or substantially all of our assets are sold or transferred to another party, or another transaction occurs in which your personally identifiable information is one of the business assets transferred, all personally identifiable information that has been collected and saved may be one of the business assets we transfer.\n",
            "Extracting features...\n",
            "INFO:tensorflow:Saver not created because there are no variables in the graph to restore\n"
          ],
          "name": "stdout"
        },
        {
          "output_type": "stream",
          "text": [
            "INFO:tensorflow:Saver not created because there are no variables in the graph to restore\n"
          ],
          "name": "stderr"
        },
        {
          "output_type": "stream",
          "text": [
            "[(0.7451277, 'this information will only be shared with third parties who perform tasks required to complete the purchase transaction', 'PUC', 40), (0.7196296, 'we will not disclose cardholder data to any third party except to facilitate and complete transactions submitted to us by merchants or otherwise in the course of providing services to our merchants or to comply with federal state and local laws or the rules and regulations of the respective card organizations or other payment entities e g', 'POC', 8), (0.7107287, 'to do so we collect and share additional personal information like credit information so such third parties can provide the product or service you request', 'POPR', 14), (0.6885801, 'if you authorize such a connection you permit us to share or publish information about your activity on our services with that social network and its users and to access certain of your social network information as disclosed by you at the time you consent to the connection', 'PUC', 35), (0.68522066, 'we may aggregate and or anonymize information collected by the services or via other means so that the information does not identify you', 'POPR', 26), (0.68297154, 'we will provide you the personal information requested if it is reasonably available unless it infringes on the privacy of other individuals and subject to reasonable limitations provided by law and internal procedures', 'POC', 10), (0.6651483, 'in these cases we require validation of credit card information already on file with us and we will then e mail the master account holder to give notice that we have received such consent', 'POC', 6), (0.6266976, 'your use of our sites and services following any such change constitutes your agreement that allinformation collected from or about you through our sites and services after the revised privacy policy is posted will besubject to the terms of the revised privacy policy', 'PUC', 39), (0.6191452, 'if you are a member of an online service you may use that service is account and privacy settings to personalize the collection use and or display of your data via that service', 'PUPR', 52), (0.607758, 'any personal information you submit in the course of interacting in these public activities can be read collected or used by other users', 'PUC', 36), (0.60646945, 'to protect your privacy and security we will also take reasonable steps to verify your identity before granting access or making corrections', 'POC', 9), (0.5988858, 'you agree that we and our indemnitees are not responsible and shall have no liability to you with respect to merchandise products and or services including without limitation content featured mentioned described auctioned distributed given away sold rented or otherwise available on or through the service including illegal offensive or illicit items even items that violate the agreement', 'PUC', 34), (0.5958206, 'if you choose to submit an application to us for pre approved credit we will request that you provide personally identifiable information such as name address telephone number social security number date of birth employment information and gross monthly income', 'PUPR', 42), (0.594668, 'to prevent unauthorized electronic access to personal information the company maintains information collected online behind a firewall protected server and uses ssl encryption for purchases made through our online store', 'POC', 5), (0.5929064, 'however you may not without the prior written permission of medianews group inc medianews group interactive inc or medianews group affiliates frame any of the content of the sites or incorporate into another website any material from the sites', 'PUPR', 50), (0.5915589, 'your information is stored in an encrypted environment', 'PUPR', 47), (0.58123165, 'by visiting the site whether as a registered user or otherwise you acknowledge understand and hereby agree that you are giving us your consent to track your activities and your use of the site through these tracking technologies and that we may use tracking technologies in the emails we send to you', 'PUC', 33), (0.5799534, 'we may collect certain information about your computer or other device that you use to access the sites including ip address geolocation information unique device identifiers browser type browser language and other transactional information', 'POPR', 30), (0.5735615, 'we may also combine your information with other information in a way that it is no longer associated with you and share that aggregated information', 'POPR', 20), (0.56072545, 'this website incorporates reasonable safeguards to protect the security integrity completeness accuracy and privacy of the personal information that we may collect and we have put into place reasonable precautions to protect such information from loss misuse and alteration', 'POPR', 19), (0.54931986, 'when you update information your old information is replaced by your new information', 'PUC', 41), (0.53228486, 'if we modify our privacy policy on how we handle your personal information we will post the revised information here with a revised effective date at the top of this privacy policy', 'POC', 3), (0.5244315, 'if medianews believes such information is untrue inaccurate not current or incomplete medianews has the right to suspend or terminate your account and refuse any and all current or future use of the sites by you', 'POPR', 16), (0.5158813, 'if you ask us to share your personal information with a third party for its marketing purposes we will only share information in connection with that specific promotion since we do not share information with any third party other than our service providers on an ongoing basis', 'POC', 1)]\n",
            "We use information for marketing purposes.\n",
            "Extracting features...\n",
            "INFO:tensorflow:Saver not created because there are no variables in the graph to restore\n"
          ],
          "name": "stdout"
        },
        {
          "output_type": "stream",
          "text": [
            "INFO:tensorflow:Saver not created because there are no variables in the graph to restore\n"
          ],
          "name": "stderr"
        },
        {
          "output_type": "stream",
          "text": [
            "[(0.71140456, 'because we serve advertisements on our own web sites as well as those of our advertising and publisher partners we are able to compile information over time about the types of pages you visit on microsoft and other sites content and ads you or others who are using your computer visited or viewed', 'POPR', 12), (0.6905342, 'we perform statistical demographic and marketing analyses of users of the nyt services and their subscribing and purchasing patterns for product development purposes and to generally inform advertisers about the nature of our subscriber base', 'POPR', 17), (0.6722946, 'to do so we collect and share additional personal information like credit information so such third parties can provide the product or service you request', 'POPR', 14), (0.65432185, 'if you ask us to share your personal information with a third party for its marketing purposes we will only share information in connection with that specific promotion since we do not share information with any third party other than our service providers on an ongoing basis', 'POC', 1), (0.61635375, 'in order to serve offers and advertisements that may be interest to our users we may display targeted advertisements on the services based on personal information provided by our users including zip code and profile', 'POPR', 13), (0.6099718, 'we may aggregate and or anonymize information collected by the services or via other means so that the information does not identify you', 'POPR', 26), (0.58680266, 'we may also work with other companies that advertise on microsoft sites to place web beacons on their sites or in their advertisements to let us develop statistics on how often clicking on an advertisement on a microsoft site results in a purchase or other action on the advertiser is site', 'POPR', 25), (0.57689023, 'any personal information you submit in the course of interacting in these public activities can be read collected or used by other users', 'PUC', 36), (0.564251, 'we use the third party service provider dr globaltech inc as our online official re seller and for certain in game sales functions', 'POPR', 21), (0.5635964, 'we may merge this with other data we collect about you from third parties to assist us in our ability to provide the services including without limitation to advertise and provide content to you', 'POPR', 18), (0.5491806, 'we may also combine your information with other information in a way that it is no longer associated with you and share that aggregated information', 'POPR', 20), (0.54298705, 'we will provide you the personal information requested if it is reasonably available unless it infringes on the privacy of other individuals and subject to reasonable limitations provided by law and internal procedures', 'POC', 10), (0.53205657, 'keep in mind that any information that you choose to post to blogs discussion forums or other community or social networking services that we offer can be seen collected and used by anyone who has access to the applicable service', 'PUPR', 46), (0.5314816, 'by visiting the site whether as a registered user or otherwise you acknowledge understand and hereby agree that you are giving us your consent to track your activities and your use of the site through these tracking technologies and that we may use tracking technologies in the emails we send to you', 'PUC', 33), (0.5252025, 'notmc and its agents use cookies so that we can improve your online experience for example by remembering you when you come back to visit the websites and making the content you see more relevant to you', 'POPR', 23), (0.51894623, 'doing this allows the advertising network to recognize your computer each time they send you an advertisement in order to measure the effectiveness of their ads and to personalize advertising content', 'PUC', 32), (0.5150672, 'imdb also displays personalized third party advertising based on personal information about users such as information you submit to us about movies you own or have watched', 'POPR', 22), (0.5118237, 'to prevent unauthorized electronic access to personal information the company maintains information collected online behind a firewall protected server and uses ssl encryption for purchases made through our online store', 'POC', 5), (0.50790125, 'this information will only be shared with third parties who perform tasks required to complete the purchase transaction', 'PUC', 40)]\n",
            "Newsletter\n",
            "Extracting features...\n",
            "INFO:tensorflow:Saver not created because there are no variables in the graph to restore\n"
          ],
          "name": "stdout"
        },
        {
          "output_type": "stream",
          "text": [
            "INFO:tensorflow:Saver not created because there are no variables in the graph to restore\n"
          ],
          "name": "stderr"
        },
        {
          "output_type": "stream",
          "text": [
            "[]\n",
            "Note that the opt-out will apply only to the browser that you are using when you adjust your tracking settings or cookie preferences.\n",
            "Extracting features...\n",
            "INFO:tensorflow:Saver not created because there are no variables in the graph to restore\n"
          ],
          "name": "stdout"
        },
        {
          "output_type": "stream",
          "text": [
            "INFO:tensorflow:Saver not created because there are no variables in the graph to restore\n"
          ],
          "name": "stderr"
        },
        {
          "output_type": "stream",
          "text": [
            "[(0.7620585, 'you may also prevent flash cookies from being placed by adjusting your preferences in the macromedia website privacy settings panel at', 'PUPR', 49), (0.76013035, 'nevertheless you are able to control how and whether cookies will be accepted by your web browser or device', 'PUPR', 51), (0.7239602, 'you may deactivate javascript via your browser settings or activate it the same way', 'PUPR', 43), (0.6941069, 'you can use your browser settings to remove or block cookies on your computer', 'PUPR', 44), (0.6397913, 'user registration with medianews web sites is completed and membership activated upon clicking a link e mailed to the address provided in registration', 'POC', 4), (0.63068956, 'depending on your account settings multisite ids may also provide other information to us', 'PUPR', 45), (0.6130908, 'to use certain features of the sites you will need a username and password which you will receive through the site is registration process', 'PUC', 31), (0.61139226, 'if you are a member of an online service you may use that service is account and privacy settings to personalize the collection use and or display of your data via that service', 'PUPR', 52), (0.60172874, 'doing this allows the advertising network to recognize your computer each time they send you an advertisement in order to measure the effectiveness of their ads and to personalize advertising content', 'PUC', 32), (0.5954169, 'your use of our sites and services following any such change constitutes your agreement that allinformation collected from or about you through our sites and services after the revised privacy policy is posted will besubject to the terms of the revised privacy policy', 'PUC', 39), (0.5827678, 'our servers automatically record information that your browser sends whenever you visit the site s', 'POPR', 28), (0.5739155, 'by visiting the site whether as a registered user or otherwise you acknowledge understand and hereby agree that you are giving us your consent to track your activities and your use of the site through these tracking technologies and that we may use tracking technologies in the emails we send to you', 'PUC', 33), (0.5582743, 'notmc and its agents use cookies so that we can improve your online experience for example by remembering you when you come back to visit the websites and making the content you see more relevant to you', 'POPR', 23), (0.55116516, 'web logging which enables us to collect the standard information your browser or application sends to every web site you visit such as your ip address browser type and language and the url of the site you came from as well as the pages you visit and the links you click while using our sites and services', 'POPR', 29), (0.5488133, 'in order to serve offers and advertisements that may be interest to our users we may display targeted advertisements on the services based on personal information provided by our users including zip code and profile', 'POPR', 13), (0.5481834, 'cookies kinja or third parties may use cookies web beacons html local storage java script and other similar technologies to help us understand how you use the services and help us provide the services and advertising to you', 'POPR', 24), (0.54571265, 'this information will only be shared with third parties who perform tasks required to complete the purchase transaction', 'PUC', 40), (0.5327011, 'we may collect certain information about your computer or other device that you use to access the sites including ip address geolocation information unique device identifiers browser type browser language and other transactional information', 'POPR', 30), (0.5295612, 'we may also work with other companies that advertise on microsoft sites to place web beacons on their sites or in their advertisements to let us develop statistics on how often clicking on an advertisement on a microsoft site results in a purchase or other action on the advertiser is site', 'POPR', 25), (0.5286475, 'imdb also displays personalized third party advertising based on personal information about users such as information you submit to us about movies you own or have watched', 'POPR', 22), (0.5257024, 'if medianews believes such information is untrue inaccurate not current or incomplete medianews has the right to suspend or terminate your account and refuse any and all current or future use of the sites by you', 'POPR', 16), (0.52011234, 'we may aggregate and or anonymize information collected by the services or via other means so that the information does not identify you', 'POPR', 26), (0.50261575, 'we may also combine your information with other information in a way that it is no longer associated with you and share that aggregated information', 'POPR', 20), (0.5019853, 'you can change your video and audio preferences at any time or choose a player each time you view of listen to a clip', 'PUPR', 48), (0.50041884, 'to do so we collect and share additional personal information like credit information so such third parties can provide the product or service you request', 'POPR', 14)]\n",
            "We store a cookie on each user's machine that contains user specific information.\n",
            "Extracting features...\n",
            "INFO:tensorflow:Saver not created because there are no variables in the graph to restore\n"
          ],
          "name": "stdout"
        },
        {
          "output_type": "stream",
          "text": [
            "INFO:tensorflow:Saver not created because there are no variables in the graph to restore\n"
          ],
          "name": "stderr"
        },
        {
          "output_type": "stream",
          "text": [
            "[(0.73726535, 'cookies kinja or third parties may use cookies web beacons html local storage java script and other similar technologies to help us understand how you use the services and help us provide the services and advertising to you', 'POPR', 24), (0.7330561, 'our servers automatically record information that your browser sends whenever you visit the site s', 'POPR', 28), (0.70577663, 'web logging which enables us to collect the standard information your browser or application sends to every web site you visit such as your ip address browser type and language and the url of the site you came from as well as the pages you visit and the links you click while using our sites and services', 'POPR', 29), (0.6781892, 'we may collect certain information about your computer or other device that you use to access the sites including ip address geolocation information unique device identifiers browser type browser language and other transactional information', 'POPR', 30), (0.677736, 'nevertheless you are able to control how and whether cookies will be accepted by your web browser or device', 'PUPR', 51), (0.6487913, 'your information is stored in an encrypted environment', 'PUPR', 47), (0.61794734, 'depending on your account settings multisite ids may also provide other information to us', 'PUPR', 45), (0.61443216, 'user registration with medianews web sites is completed and membership activated upon clicking a link e mailed to the address provided in registration', 'POC', 4), (0.6142598, 'to prevent unauthorized electronic access to personal information the company maintains information collected online behind a firewall protected server and uses ssl encryption for purchases made through our online store', 'POC', 5), (0.60823053, 'we use your ip address to help diagnose problems with our server and to administer our web site', 'POPR', 15), (0.6012425, 'notmc and its agents use cookies so that we can improve your online experience for example by remembering you when you come back to visit the websites and making the content you see more relevant to you', 'POPR', 23), (0.56634116, 'to use certain features of the sites you will need a username and password which you will receive through the site is registration process', 'PUC', 31), (0.56052643, 'you may also prevent flash cookies from being placed by adjusting your preferences in the macromedia website privacy settings panel at', 'PUPR', 49), (0.5576201, 'we may aggregate and or anonymize information collected by the services or via other means so that the information does not identify you', 'POPR', 26), (0.55375034, 'to do so we collect and share additional personal information like credit information so such third parties can provide the product or service you request', 'POPR', 14), (0.55086917, 'you can use your browser settings to remove or block cookies on your computer', 'PUPR', 44), (0.54476446, 'because we serve advertisements on our own web sites as well as those of our advertising and publisher partners we are able to compile information over time about the types of pages you visit on microsoft and other sites content and ads you or others who are using your computer visited or viewed', 'POPR', 12), (0.53946006, 'this website incorporates reasonable safeguards to protect the security integrity completeness accuracy and privacy of the personal information that we may collect and we have put into place reasonable precautions to protect such information from loss misuse and alteration', 'POPR', 19), (0.5236241, 'if you authorize such a connection you permit us to share or publish information about your activity on our services with that social network and its users and to access certain of your social network information as disclosed by you at the time you consent to the connection', 'PUC', 35), (0.5193304, 'by visiting the site whether as a registered user or otherwise you acknowledge understand and hereby agree that you are giving us your consent to track your activities and your use of the site through these tracking technologies and that we may use tracking technologies in the emails we send to you', 'PUC', 33), (0.5162801, 'if you are a member of an online service you may use that service is account and privacy settings to personalize the collection use and or display of your data via that service', 'PUPR', 52), (0.5098552, 'we may also work with other companies that advertise on microsoft sites to place web beacons on their sites or in their advertisements to let us develop statistics on how often clicking on an advertisement on a microsoft site results in a purchase or other action on the advertiser is site', 'POPR', 25)]\n",
            "Valve will not share any personally identifiable information with other parties except as described in this policy.\n",
            "Extracting features...\n",
            "INFO:tensorflow:Saver not created because there are no variables in the graph to restore\n"
          ],
          "name": "stdout"
        },
        {
          "output_type": "stream",
          "text": [
            "INFO:tensorflow:Saver not created because there are no variables in the graph to restore\n"
          ],
          "name": "stderr"
        },
        {
          "output_type": "stream",
          "text": [
            "[(0.6645843, 'we will provide you the personal information requested if it is reasonably available unless it infringes on the privacy of other individuals and subject to reasonable limitations provided by law and internal procedures', 'POC', 10), (0.6525959, 'this information will only be shared with third parties who perform tasks required to complete the purchase transaction', 'PUC', 40), (0.6435082, 'if you authorize such a connection you permit us to share or publish information about your activity on our services with that social network and its users and to access certain of your social network information as disclosed by you at the time you consent to the connection', 'PUC', 35), (0.6372327, 'any personal information you submit in the course of interacting in these public activities can be read collected or used by other users', 'PUC', 36), (0.6310497, 'we may aggregate and or anonymize information collected by the services or via other means so that the information does not identify you', 'POPR', 26), (0.61190486, 'to do so we collect and share additional personal information like credit information so such third parties can provide the product or service you request', 'POPR', 14), (0.60988224, 'if you ask us to share your personal information with a third party for its marketing purposes we will only share information in connection with that specific promotion since we do not share information with any third party other than our service providers on an ongoing basis', 'POC', 1), (0.6062496, 'if we modify our privacy policy on how we handle your personal information we will post the revised information here with a revised effective date at the top of this privacy policy', 'POC', 3), (0.6055492, 'your use of our sites and services following any such change constitutes your agreement that allinformation collected from or about you through our sites and services after the revised privacy policy is posted will besubject to the terms of the revised privacy policy', 'PUC', 39), (0.55544657, 'in these cases we require validation of credit card information already on file with us and we will then e mail the master account holder to give notice that we have received such consent', 'POC', 6), (0.5552493, 'to protect your privacy and security we will also take reasonable steps to verify your identity before granting access or making corrections', 'POC', 9), (0.5494628, 'however you may not without the prior written permission of medianews group inc medianews group interactive inc or medianews group affiliates frame any of the content of the sites or incorporate into another website any material from the sites', 'PUPR', 50), (0.54799324, 'if medianews believes such information is untrue inaccurate not current or incomplete medianews has the right to suspend or terminate your account and refuse any and all current or future use of the sites by you', 'POPR', 16), (0.5432959, 'we may also combine your information with other information in a way that it is no longer associated with you and share that aggregated information', 'POPR', 20), (0.53958637, 'by visiting the site whether as a registered user or otherwise you acknowledge understand and hereby agree that you are giving us your consent to track your activities and your use of the site through these tracking technologies and that we may use tracking technologies in the emails we send to you', 'PUC', 33), (0.5296746, 'we will not disclose cardholder data to any third party except to facilitate and complete transactions submitted to us by merchants or otherwise in the course of providing services to our merchants or to comply with federal state and local laws or the rules and regulations of the respective card organizations or other payment entities e g', 'POC', 8), (0.5204733, 'to prevent unauthorized electronic access to personal information the company maintains information collected online behind a firewall protected server and uses ssl encryption for purchases made through our online store', 'POC', 5), (0.51141673, 'your information is stored in an encrypted environment', 'PUPR', 47), (0.51082504, 'this website incorporates reasonable safeguards to protect the security integrity completeness accuracy and privacy of the personal information that we may collect and we have put into place reasonable precautions to protect such information from loss misuse and alteration', 'POPR', 19), (0.5032863, 'if you wish to review or delete any profile information that you have provided us regarding a child or ask that we stop using such information you may do so at any time through the settings area of your account or by contacting us using the information below', 'POC', 0), (0.50053406, 'our servers automatically record information that your browser sends whenever you visit the site s', 'POPR', 28)]\n",
            "We may share information about you when we team up with another company to offer or provide products, services, contests, or promotions to our customers.\n",
            "Extracting features...\n",
            "INFO:tensorflow:Saver not created because there are no variables in the graph to restore\n"
          ],
          "name": "stdout"
        },
        {
          "output_type": "stream",
          "text": [
            "INFO:tensorflow:Saver not created because there are no variables in the graph to restore\n"
          ],
          "name": "stderr"
        },
        {
          "output_type": "stream",
          "text": [
            "[(0.74140394, 'if you ask us to share your personal information with a third party for its marketing purposes we will only share information in connection with that specific promotion since we do not share information with any third party other than our service providers on an ongoing basis', 'POC', 1), (0.7233035, 'in order to serve offers and advertisements that may be interest to our users we may display targeted advertisements on the services based on personal information provided by our users including zip code and profile', 'POPR', 13), (0.7085775, 'we may also work with other companies that advertise on microsoft sites to place web beacons on their sites or in their advertisements to let us develop statistics on how often clicking on an advertisement on a microsoft site results in a purchase or other action on the advertiser is site', 'POPR', 25), (0.70106685, 'to do so we collect and share additional personal information like credit information so such third parties can provide the product or service you request', 'POPR', 14), (0.6754834, 'we perform statistical demographic and marketing analyses of users of the nyt services and their subscribing and purchasing patterns for product development purposes and to generally inform advertisers about the nature of our subscriber base', 'POPR', 17), (0.6554803, 'we may merge this with other data we collect about you from third parties to assist us in our ability to provide the services including without limitation to advertise and provide content to you', 'POPR', 18), (0.6553034, 'because we serve advertisements on our own web sites as well as those of our advertising and publisher partners we are able to compile information over time about the types of pages you visit on microsoft and other sites content and ads you or others who are using your computer visited or viewed', 'POPR', 12), (0.64018196, 'we use the third party service provider dr globaltech inc as our online official re seller and for certain in game sales functions', 'POPR', 21), (0.63005537, 'we may aggregate and or anonymize information collected by the services or via other means so that the information does not identify you', 'POPR', 26), (0.62433034, 'by visiting the site whether as a registered user or otherwise you acknowledge understand and hereby agree that you are giving us your consent to track your activities and your use of the site through these tracking technologies and that we may use tracking technologies in the emails we send to you', 'PUC', 33), (0.608913, 'we will provide you the personal information requested if it is reasonably available unless it infringes on the privacy of other individuals and subject to reasonable limitations provided by law and internal procedures', 'POC', 10), (0.60755455, 'cookies kinja or third parties may use cookies web beacons html local storage java script and other similar technologies to help us understand how you use the services and help us provide the services and advertising to you', 'POPR', 24), (0.6026601, 'this information will only be shared with third parties who perform tasks required to complete the purchase transaction', 'PUC', 40), (0.5968763, 'we will not disclose cardholder data to any third party except to facilitate and complete transactions submitted to us by merchants or otherwise in the course of providing services to our merchants or to comply with federal state and local laws or the rules and regulations of the respective card organizations or other payment entities e g', 'POC', 8), (0.596724, 'we may collect certain information about your computer or other device that you use to access the sites including ip address geolocation information unique device identifiers browser type browser language and other transactional information', 'POPR', 30), (0.5838524, 'if we modify our privacy policy on how we handle your personal information we will post the revised information here with a revised effective date at the top of this privacy policy', 'POC', 3), (0.57399994, 'your use of our sites and services following any such change constitutes your agreement that allinformation collected from or about you through our sites and services after the revised privacy policy is posted will besubject to the terms of the revised privacy policy', 'PUC', 39), (0.5716839, 'if you elect to publish your content via our nook press service we may ask you to provide your bank account and routing information so that we can direct payments to you', 'POPR', 11), (0.566818, 'to prevent unauthorized electronic access to personal information the company maintains information collected online behind a firewall protected server and uses ssl encryption for purchases made through our online store', 'POC', 5), (0.5667214, 'keep in mind that any information that you choose to post to blogs discussion forums or other community or social networking services that we offer can be seen collected and used by anyone who has access to the applicable service', 'PUPR', 46), (0.56484157, 'if you choose to submit an application to us for pre approved credit we will request that you provide personally identifiable information such as name address telephone number social security number date of birth employment information and gross monthly income', 'PUPR', 42), (0.5636317, 'any personal information you submit in the course of interacting in these public activities can be read collected or used by other users', 'PUC', 36), (0.5602148, 'notmc and its agents use cookies so that we can improve your online experience for example by remembering you when you come back to visit the websites and making the content you see more relevant to you', 'POPR', 23), (0.55323076, 'we may also combine your information with other information in a way that it is no longer associated with you and share that aggregated information', 'POPR', 20), (0.5490487, 'we use your ip address to help diagnose problems with our server and to administer our web site', 'POPR', 15), (0.53082424, 'user registration with medianews web sites is completed and membership activated upon clicking a link e mailed to the address provided in registration', 'POC', 4), (0.5282549, 'if you authorize such a connection you permit us to share or publish information about your activity on our services with that social network and its users and to access certain of your social network information as disclosed by you at the time you consent to the connection', 'PUC', 35), (0.512436, 'doing this allows the advertising network to recognize your computer each time they send you an advertisement in order to measure the effectiveness of their ads and to personalize advertising content', 'PUC', 32), (0.51181644, 'web logging which enables us to collect the standard information your browser or application sends to every web site you visit such as your ip address browser type and language and the url of the site you came from as well as the pages you visit and the links you click while using our sites and services', 'POPR', 29), (0.50902456, 'to use certain features of the sites you will need a username and password which you will receive through the site is registration process', 'PUC', 31), (0.5079967, 'in these cases we require validation of credit card information already on file with us and we will then e mail the master account holder to give notice that we have received such consent', 'POC', 6), (0.5068937, 'when you register your caribou gift card on the site we ask for your name email address phone number and mailing address', 'PUC', 37)]\n",
            "If you wish to opt out of this anonymous data collection, please and follow the instructions.\n",
            "Extracting features...\n",
            "INFO:tensorflow:Saver not created because there are no variables in the graph to restore\n"
          ],
          "name": "stdout"
        },
        {
          "output_type": "stream",
          "text": [
            "INFO:tensorflow:Saver not created because there are no variables in the graph to restore\n"
          ],
          "name": "stderr"
        },
        {
          "output_type": "stream",
          "text": [
            "[(0.71161705, 'this website incorporates reasonable safeguards to protect the security integrity completeness accuracy and privacy of the personal information that we may collect and we have put into place reasonable precautions to protect such information from loss misuse and alteration', 'POPR', 19), (0.65677965, 'by visiting the site whether as a registered user or otherwise you acknowledge understand and hereby agree that you are giving us your consent to track your activities and your use of the site through these tracking technologies and that we may use tracking technologies in the emails we send to you', 'PUC', 33), (0.6322882, 'to protect your privacy and security we will also take reasonable steps to verify your identity before granting access or making corrections', 'POC', 9), (0.63045776, 'if you authorize such a connection you permit us to share or publish information about your activity on our services with that social network and its users and to access certain of your social network information as disclosed by you at the time you consent to the connection', 'PUC', 35), (0.617935, 'we may also combine your information with other information in a way that it is no longer associated with you and share that aggregated information', 'POPR', 20), (0.6160025, 'we may aggregate and or anonymize information collected by the services or via other means so that the information does not identify you', 'POPR', 26), (0.6113267, 'we may collect certain information about your computer or other device that you use to access the sites including ip address geolocation information unique device identifiers browser type browser language and other transactional information', 'POPR', 30), (0.6008655, 'if we modify our privacy policy on how we handle your personal information we will post the revised information here with a revised effective date at the top of this privacy policy', 'POC', 3), (0.5966417, 'your use of our sites and services following any such change constitutes your agreement that allinformation collected from or about you through our sites and services after the revised privacy policy is posted will besubject to the terms of the revised privacy policy', 'PUC', 39), (0.5943151, 'we will provide you the personal information requested if it is reasonably available unless it infringes on the privacy of other individuals and subject to reasonable limitations provided by law and internal procedures', 'POC', 10), (0.5929604, 'user registration with medianews web sites is completed and membership activated upon clicking a link e mailed to the address provided in registration', 'POC', 4), (0.58088356, 'your information is stored in an encrypted environment', 'PUPR', 47), (0.5796283, 'we may merge this with other data we collect about you from third parties to assist us in our ability to provide the services including without limitation to advertise and provide content to you', 'POPR', 18), (0.5746996, 'depending on your account settings multisite ids may also provide other information to us', 'PUPR', 45), (0.5705158, 'our servers automatically record information that your browser sends whenever you visit the site s', 'POPR', 28), (0.5676387, 'we use your ip address to help diagnose problems with our server and to administer our web site', 'POPR', 15), (0.56559634, 'if you are a member of an online service you may use that service is account and privacy settings to personalize the collection use and or display of your data via that service', 'PUPR', 52), (0.5506153, 'to prevent unauthorized electronic access to personal information the company maintains information collected online behind a firewall protected server and uses ssl encryption for purchases made through our online store', 'POC', 5), (0.5421969, 'in order to serve offers and advertisements that may be interest to our users we may display targeted advertisements on the services based on personal information provided by our users including zip code and profile', 'POPR', 13), (0.533723, 'if you wish to review or delete any profile information that you have provided us regarding a child or ask that we stop using such information you may do so at any time through the settings area of your account or by contacting us using the information below', 'POC', 0), (0.52863646, 'if medianews believes such information is untrue inaccurate not current or incomplete medianews has the right to suspend or terminate your account and refuse any and all current or future use of the sites by you', 'POPR', 16), (0.52637225, 'notmc and its agents use cookies so that we can improve your online experience for example by remembering you when you come back to visit the websites and making the content you see more relevant to you', 'POPR', 23), (0.51484776, 'any personal information you submit in the course of interacting in these public activities can be read collected or used by other users', 'PUC', 36), (0.51415783, 'if you choose to submit an application to us for pre approved credit we will request that you provide personally identifiable information such as name address telephone number social security number date of birth employment information and gross monthly income', 'PUPR', 42), (0.51200724, 'to use certain features of the sites you will need a username and password which you will receive through the site is registration process', 'PUC', 31), (0.5115514, 'in these cases we require validation of credit card information already on file with us and we will then e mail the master account holder to give notice that we have received such consent', 'POC', 6), (0.5034538, 'to do so we collect and share additional personal information like credit information so such third parties can provide the product or service you request', 'POPR', 14), (0.50275207, 'web logging which enables us to collect the standard information your browser or application sends to every web site you visit such as your ip address browser type and language and the url of the site you came from as well as the pages you visit and the links you click while using our sites and services', 'POPR', 29)]\n",
            "Personal information that you directly provide to us, which includes information you supply when you register an account with us.\n",
            "Extracting features...\n",
            "INFO:tensorflow:Saver not created because there are no variables in the graph to restore\n"
          ],
          "name": "stdout"
        },
        {
          "output_type": "stream",
          "text": [
            "INFO:tensorflow:Saver not created because there are no variables in the graph to restore\n"
          ],
          "name": "stderr"
        },
        {
          "output_type": "stream",
          "text": [
            "[(0.81552833, 'we may aggregate and or anonymize information collected by the services or via other means so that the information does not identify you', 'POPR', 26), (0.8098055, 'any personal information you submit in the course of interacting in these public activities can be read collected or used by other users', 'PUC', 36), (0.7966807, 'we will provide you the personal information requested if it is reasonably available unless it infringes on the privacy of other individuals and subject to reasonable limitations provided by law and internal procedures', 'POC', 10), (0.7895936, 'to do so we collect and share additional personal information like credit information so such third parties can provide the product or service you request', 'POPR', 14), (0.7753572, 'if you authorize such a connection you permit us to share or publish information about your activity on our services with that social network and its users and to access certain of your social network information as disclosed by you at the time you consent to the connection', 'PUC', 35), (0.77356315, 'if you ask us to share your personal information with a third party for its marketing purposes we will only share information in connection with that specific promotion since we do not share information with any third party other than our service providers on an ongoing basis', 'POC', 1), (0.7703181, 'by visiting the site whether as a registered user or otherwise you acknowledge understand and hereby agree that you are giving us your consent to track your activities and your use of the site through these tracking technologies and that we may use tracking technologies in the emails we send to you', 'PUC', 33), (0.7479858, 'we may also combine your information with other information in a way that it is no longer associated with you and share that aggregated information', 'POPR', 20), (0.74727523, 'if we modify our privacy policy on how we handle your personal information we will post the revised information here with a revised effective date at the top of this privacy policy', 'POC', 3), (0.7281536, 'we may collect certain information about your computer or other device that you use to access the sites including ip address geolocation information unique device identifiers browser type browser language and other transactional information', 'POPR', 30), (0.7230447, 'this website incorporates reasonable safeguards to protect the security integrity completeness accuracy and privacy of the personal information that we may collect and we have put into place reasonable precautions to protect such information from loss misuse and alteration', 'POPR', 19), (0.7081533, 'depending on your account settings multisite ids may also provide other information to us', 'PUPR', 45), (0.7024899, 'to protect your privacy and security we will also take reasonable steps to verify your identity before granting access or making corrections', 'POC', 9), (0.6747431, 'your use of our sites and services following any such change constitutes your agreement that allinformation collected from or about you through our sites and services after the revised privacy policy is posted will besubject to the terms of the revised privacy policy', 'PUC', 39), (0.6737099, 'user registration with medianews web sites is completed and membership activated upon clicking a link e mailed to the address provided in registration', 'POC', 4), (0.6655015, 'we will not disclose cardholder data to any third party except to facilitate and complete transactions submitted to us by merchants or otherwise in the course of providing services to our merchants or to comply with federal state and local laws or the rules and regulations of the respective card organizations or other payment entities e g', 'POC', 8), (0.65999883, 'if you choose to submit an application to us for pre approved credit we will request that you provide personally identifiable information such as name address telephone number social security number date of birth employment information and gross monthly income', 'PUPR', 42), (0.65951264, 'if you wish to review or delete any profile information that you have provided us regarding a child or ask that we stop using such information you may do so at any time through the settings area of your account or by contacting us using the information below', 'POC', 0), (0.6457638, 'in order to serve offers and advertisements that may be interest to our users we may display targeted advertisements on the services based on personal information provided by our users including zip code and profile', 'POPR', 13), (0.6416599, 'our servers automatically record information that your browser sends whenever you visit the site s', 'POPR', 28), (0.640051, 'keep in mind that any information that you choose to post to blogs discussion forums or other community or social networking services that we offer can be seen collected and used by anyone who has access to the applicable service', 'PUPR', 46), (0.639523, 'to use certain features of the sites you will need a username and password which you will receive through the site is registration process', 'PUC', 31), (0.63591313, 'your information is stored in an encrypted environment', 'PUPR', 47), (0.63322693, 'if you are a member of an online service you may use that service is account and privacy settings to personalize the collection use and or display of your data via that service', 'PUPR', 52), (0.63067365, 'web logging which enables us to collect the standard information your browser or application sends to every web site you visit such as your ip address browser type and language and the url of the site you came from as well as the pages you visit and the links you click while using our sites and services', 'POPR', 29), (0.62606996, 'this information will only be shared with third parties who perform tasks required to complete the purchase transaction', 'PUC', 40), (0.6187594, 'to prevent unauthorized electronic access to personal information the company maintains information collected online behind a firewall protected server and uses ssl encryption for purchases made through our online store', 'POC', 5), (0.6114307, 'in these cases we require validation of credit card information already on file with us and we will then e mail the master account holder to give notice that we have received such consent', 'POC', 6), (0.6030485, 'we may merge this with other data we collect about you from third parties to assist us in our ability to provide the services including without limitation to advertise and provide content to you', 'POPR', 18), (0.59804165, 'because we serve advertisements on our own web sites as well as those of our advertising and publisher partners we are able to compile information over time about the types of pages you visit on microsoft and other sites content and ads you or others who are using your computer visited or viewed', 'POPR', 12), (0.59791094, 'we use your ip address to help diagnose problems with our server and to administer our web site', 'POPR', 15), (0.5953855, 'if medianews believes such information is untrue inaccurate not current or incomplete medianews has the right to suspend or terminate your account and refuse any and all current or future use of the sites by you', 'POPR', 16), (0.5831149, 'notmc and its agents use cookies so that we can improve your online experience for example by remembering you when you come back to visit the websites and making the content you see more relevant to you', 'POPR', 23), (0.5773404, 'however you may not without the prior written permission of medianews group inc medianews group interactive inc or medianews group affiliates frame any of the content of the sites or incorporate into another website any material from the sites', 'PUPR', 50), (0.55658025, 'cookies kinja or third parties may use cookies web beacons html local storage java script and other similar technologies to help us understand how you use the services and help us provide the services and advertising to you', 'POPR', 24), (0.54810613, 'imdb also displays personalized third party advertising based on personal information about users such as information you submit to us about movies you own or have watched', 'POPR', 22), (0.51577985, 'when you update information your old information is replaced by your new information', 'PUC', 41), (0.5151094, 'we use the third party service provider dr globaltech inc as our online official re seller and for certain in game sales functions', 'POPR', 21), (0.51307124, 'if you elect to publish your content via our nook press service we may ask you to provide your bank account and routing information so that we can direct payments to you', 'POPR', 11), (0.50829196, 'when you register your caribou gift card on the site we ask for your name email address phone number and mailing address', 'PUC', 37), (0.5044516, 'if the changes represent a material departure from our current practice with respect to the use of children is personal information the changes will be posted on this page thirty days prior to taking effect and will not affect children is personal information previously collected', 'POC', 7), (0.5025265, 'we perform statistical demographic and marketing analyses of users of the nyt services and their subscribing and purchasing patterns for product development purposes and to generally inform advertisers about the nature of our subscriber base', 'POPR', 17)]\n",
            "MUSIC\n",
            "Extracting features...\n",
            "INFO:tensorflow:Saver not created because there are no variables in the graph to restore\n"
          ],
          "name": "stdout"
        },
        {
          "output_type": "stream",
          "text": [
            "INFO:tensorflow:Saver not created because there are no variables in the graph to restore\n"
          ],
          "name": "stderr"
        },
        {
          "output_type": "stream",
          "text": [
            "[]\n",
            "Note that you can also change or update your information by clicking on \"Change\" button off the EasyPay home page.\n",
            "Extracting features...\n",
            "INFO:tensorflow:Saver not created because there are no variables in the graph to restore\n"
          ],
          "name": "stdout"
        },
        {
          "output_type": "stream",
          "text": [
            "INFO:tensorflow:Saver not created because there are no variables in the graph to restore\n"
          ],
          "name": "stderr"
        },
        {
          "output_type": "stream",
          "text": [
            "[(0.69233626, 'if you are a member of an online service you may use that service is account and privacy settings to personalize the collection use and or display of your data via that service', 'PUPR', 52), (0.67599756, 'when you update information your old information is replaced by your new information', 'PUC', 41), (0.6723913, 'you may also prevent flash cookies from being placed by adjusting your preferences in the macromedia website privacy settings panel at', 'PUPR', 49), (0.6630192, 'depending on your account settings multisite ids may also provide other information to us', 'PUPR', 45), (0.6578663, 'you may deactivate javascript via your browser settings or activate it the same way', 'PUPR', 43), (0.6506054, 'you can use your browser settings to remove or block cookies on your computer', 'PUPR', 44), (0.6476682, 'user registration with medianews web sites is completed and membership activated upon clicking a link e mailed to the address provided in registration', 'POC', 4), (0.596626, 'doing this allows the advertising network to recognize your computer each time they send you an advertisement in order to measure the effectiveness of their ads and to personalize advertising content', 'PUC', 32), (0.5824768, 'to use certain features of the sites you will need a username and password which you will receive through the site is registration process', 'PUC', 31), (0.5762028, 'we may also combine your information with other information in a way that it is no longer associated with you and share that aggregated information', 'POPR', 20), (0.57078356, 'imdb also displays personalized third party advertising based on personal information about users such as information you submit to us about movies you own or have watched', 'POPR', 22), (0.5643584, 'nevertheless you are able to control how and whether cookies will be accepted by your web browser or device', 'PUPR', 51), (0.55704564, 'our servers automatically record information that your browser sends whenever you visit the site s', 'POPR', 28), (0.55533546, 'you can change your video and audio preferences at any time or choose a player each time you view of listen to a clip', 'PUPR', 48), (0.55500066, 'this information will only be shared with third parties who perform tasks required to complete the purchase transaction', 'PUC', 40), (0.54866844, 'notmc and its agents use cookies so that we can improve your online experience for example by remembering you when you come back to visit the websites and making the content you see more relevant to you', 'POPR', 23), (0.5465159, 'web logging which enables us to collect the standard information your browser or application sends to every web site you visit such as your ip address browser type and language and the url of the site you came from as well as the pages you visit and the links you click while using our sites and services', 'POPR', 29), (0.5217681, 'to do so we collect and share additional personal information like credit information so such third parties can provide the product or service you request', 'POPR', 14), (0.5180862, 'your use of our sites and services following any such change constitutes your agreement that allinformation collected from or about you through our sites and services after the revised privacy policy is posted will besubject to the terms of the revised privacy policy', 'PUC', 39), (0.5155516, 'if medianews believes such information is untrue inaccurate not current or incomplete medianews has the right to suspend or terminate your account and refuse any and all current or future use of the sites by you', 'POPR', 16), (0.5098327, 'we may also work with other companies that advertise on microsoft sites to place web beacons on their sites or in their advertisements to let us develop statistics on how often clicking on an advertisement on a microsoft site results in a purchase or other action on the advertiser is site', 'POPR', 25)]\n",
            "TRUSTe will serve as a liaison with the Web site to resolve users concerns.\n",
            "Extracting features...\n",
            "INFO:tensorflow:Saver not created because there are no variables in the graph to restore\n"
          ],
          "name": "stdout"
        },
        {
          "output_type": "stream",
          "text": [
            "INFO:tensorflow:Saver not created because there are no variables in the graph to restore\n"
          ],
          "name": "stderr"
        },
        {
          "output_type": "stream",
          "text": [
            "[(0.66887134, 'this website incorporates reasonable safeguards to protect the security integrity completeness accuracy and privacy of the personal information that we may collect and we have put into place reasonable precautions to protect such information from loss misuse and alteration', 'POPR', 19), (0.66043514, 'your use of our sites and services following any such change constitutes your agreement that allinformation collected from or about you through our sites and services after the revised privacy policy is posted will besubject to the terms of the revised privacy policy', 'PUC', 39), (0.6473418, 'user registration with medianews web sites is completed and membership activated upon clicking a link e mailed to the address provided in registration', 'POC', 4), (0.630292, 'we use your ip address to help diagnose problems with our server and to administer our web site', 'POPR', 15), (0.6300758, 'by visiting the site whether as a registered user or otherwise you acknowledge understand and hereby agree that you are giving us your consent to track your activities and your use of the site through these tracking technologies and that we may use tracking technologies in the emails we send to you', 'PUC', 33), (0.59268326, 'we may aggregate and or anonymize information collected by the services or via other means so that the information does not identify you', 'POPR', 26), (0.5820126, 'cookies kinja or third parties may use cookies web beacons html local storage java script and other similar technologies to help us understand how you use the services and help us provide the services and advertising to you', 'POPR', 24), (0.57851565, 'we may collect certain information about your computer or other device that you use to access the sites including ip address geolocation information unique device identifiers browser type browser language and other transactional information', 'POPR', 30), (0.5769764, 'however you may not without the prior written permission of medianews group inc medianews group interactive inc or medianews group affiliates frame any of the content of the sites or incorporate into another website any material from the sites', 'PUPR', 50), (0.5664778, 'web logging which enables us to collect the standard information your browser or application sends to every web site you visit such as your ip address browser type and language and the url of the site you came from as well as the pages you visit and the links you click while using our sites and services', 'POPR', 29), (0.565312, 'our servers automatically record information that your browser sends whenever you visit the site s', 'POPR', 28), (0.55942833, 'to protect your privacy and security we will also take reasonable steps to verify your identity before granting access or making corrections', 'POC', 9), (0.5593888, 'if we modify our privacy policy on how we handle your personal information we will post the revised information here with a revised effective date at the top of this privacy policy', 'POC', 3), (0.55825084, 'to use certain features of the sites you will need a username and password which you will receive through the site is registration process', 'PUC', 31), (0.557667, 'we will provide you the personal information requested if it is reasonably available unless it infringes on the privacy of other individuals and subject to reasonable limitations provided by law and internal procedures', 'POC', 10), (0.55714315, 'to prevent unauthorized electronic access to personal information the company maintains information collected online behind a firewall protected server and uses ssl encryption for purchases made through our online store', 'POC', 5), (0.55700326, 'in order to serve offers and advertisements that may be interest to our users we may display targeted advertisements on the services based on personal information provided by our users including zip code and profile', 'POPR', 13), (0.55416924, 'if you authorize such a connection you permit us to share or publish information about your activity on our services with that social network and its users and to access certain of your social network information as disclosed by you at the time you consent to the connection', 'PUC', 35), (0.5506586, 'any personal information you submit in the course of interacting in these public activities can be read collected or used by other users', 'PUC', 36), (0.54975027, 'if the changes represent a material departure from our current practice with respect to the use of children is personal information the changes will be posted on this page thirty days prior to taking effect and will not affect children is personal information previously collected', 'POC', 7), (0.5416918, 'notmc and its agents use cookies so that we can improve your online experience for example by remembering you when you come back to visit the websites and making the content you see more relevant to you', 'POPR', 23), (0.5388503, 'if medianews believes such information is untrue inaccurate not current or incomplete medianews has the right to suspend or terminate your account and refuse any and all current or future use of the sites by you', 'POPR', 16), (0.5355093, 'depending on your account settings multisite ids may also provide other information to us', 'PUPR', 45), (0.5342607, 'we may also work with other companies that advertise on microsoft sites to place web beacons on their sites or in their advertisements to let us develop statistics on how often clicking on an advertisement on a microsoft site results in a purchase or other action on the advertiser is site', 'POPR', 25), (0.5312161, 'we may also combine your information with other information in a way that it is no longer associated with you and share that aggregated information', 'POPR', 20), (0.5284893, 'to do so we collect and share additional personal information like credit information so such third parties can provide the product or service you request', 'POPR', 14), (0.52672404, 'we may merge this with other data we collect about you from third parties to assist us in our ability to provide the services including without limitation to advertise and provide content to you', 'POPR', 18), (0.5258826, 'because we serve advertisements on our own web sites as well as those of our advertising and publisher partners we are able to compile information over time about the types of pages you visit on microsoft and other sites content and ads you or others who are using your computer visited or viewed', 'POPR', 12)]\n",
            ".\n",
            "Extracting features...\n",
            "INFO:tensorflow:Saver not created because there are no variables in the graph to restore\n"
          ],
          "name": "stdout"
        },
        {
          "output_type": "stream",
          "text": [
            "INFO:tensorflow:Saver not created because there are no variables in the graph to restore\n"
          ],
          "name": "stderr"
        },
        {
          "output_type": "stream",
          "text": [
            "[]\n",
            "Food Allergy Research & Education is committed to protecting your privacy and will honor this Policy.\n",
            "Extracting features...\n",
            "INFO:tensorflow:Saver not created because there are no variables in the graph to restore\n"
          ],
          "name": "stdout"
        },
        {
          "output_type": "stream",
          "text": [
            "INFO:tensorflow:Saver not created because there are no variables in the graph to restore\n"
          ],
          "name": "stderr"
        },
        {
          "output_type": "stream",
          "text": [
            "[(0.6418876, 'the website also provides information for healthcare professionals and offers opportunities for volunteering in food allergy research education fundraising events', 'POPR', 27), (0.55387765, 'this website incorporates reasonable safeguards to protect the security integrity completeness accuracy and privacy of the personal information that we may collect and we have put into place reasonable precautions to protect such information from loss misuse and alteration', 'POPR', 19), (0.5503148, 'your use of our sites and services following any such change constitutes your agreement that allinformation collected from or about you through our sites and services after the revised privacy policy is posted will besubject to the terms of the revised privacy policy', 'PUC', 39), (0.5364087, 'we will provide you the personal information requested if it is reasonably available unless it infringes on the privacy of other individuals and subject to reasonable limitations provided by law and internal procedures', 'POC', 10), (0.5322062, 'by visiting the site whether as a registered user or otherwise you acknowledge understand and hereby agree that you are giving us your consent to track your activities and your use of the site through these tracking technologies and that we may use tracking technologies in the emails we send to you', 'PUC', 33), (0.53158593, 'to protect your privacy and security we will also take reasonable steps to verify your identity before granting access or making corrections', 'POC', 9), (0.5147076, 'we may aggregate and or anonymize information collected by the services or via other means so that the information does not identify you', 'POPR', 26), (0.5117078, 'we may also combine your information with other information in a way that it is no longer associated with you and share that aggregated information', 'POPR', 20), (0.50926423, 'if you authorize such a connection you permit us to share or publish information about your activity on our services with that social network and its users and to access certain of your social network information as disclosed by you at the time you consent to the connection', 'PUC', 35), (0.5077965, 'if we modify our privacy policy on how we handle your personal information we will post the revised information here with a revised effective date at the top of this privacy policy', 'POC', 3), (0.50127614, 'any personal information you submit in the course of interacting in these public activities can be read collected or used by other users', 'PUC', 36)]\n",
            "A few of our websites may also make use of persistent cookies to remember you between visits so, for example, you can save your customized preference settings for future visits.\n",
            "Extracting features...\n",
            "INFO:tensorflow:Saver not created because there are no variables in the graph to restore\n"
          ],
          "name": "stdout"
        },
        {
          "output_type": "stream",
          "text": [
            "INFO:tensorflow:Saver not created because there are no variables in the graph to restore\n"
          ],
          "name": "stderr"
        },
        {
          "output_type": "stream",
          "text": [
            "[(0.78139865, 'notmc and its agents use cookies so that we can improve your online experience for example by remembering you when you come back to visit the websites and making the content you see more relevant to you', 'POPR', 23), (0.7477192, 'you may also prevent flash cookies from being placed by adjusting your preferences in the macromedia website privacy settings panel at', 'PUPR', 49), (0.7300934, 'cookies kinja or third parties may use cookies web beacons html local storage java script and other similar technologies to help us understand how you use the services and help us provide the services and advertising to you', 'POPR', 24), (0.72092634, 'our servers automatically record information that your browser sends whenever you visit the site s', 'POPR', 28), (0.70181173, 'you can use your browser settings to remove or block cookies on your computer', 'PUPR', 44), (0.6853774, 'nevertheless you are able to control how and whether cookies will be accepted by your web browser or device', 'PUPR', 51), (0.6798536, 'web logging which enables us to collect the standard information your browser or application sends to every web site you visit such as your ip address browser type and language and the url of the site you came from as well as the pages you visit and the links you click while using our sites and services', 'POPR', 29), (0.6652698, 'if you are a member of an online service you may use that service is account and privacy settings to personalize the collection use and or display of your data via that service', 'PUPR', 52), (0.6597905, 'we may also work with other companies that advertise on microsoft sites to place web beacons on their sites or in their advertisements to let us develop statistics on how often clicking on an advertisement on a microsoft site results in a purchase or other action on the advertiser is site', 'POPR', 25), (0.6496553, 'depending on your account settings multisite ids may also provide other information to us', 'PUPR', 45), (0.6329141, 'because we serve advertisements on our own web sites as well as those of our advertising and publisher partners we are able to compile information over time about the types of pages you visit on microsoft and other sites content and ads you or others who are using your computer visited or viewed', 'POPR', 12), (0.6254093, 'doing this allows the advertising network to recognize your computer each time they send you an advertisement in order to measure the effectiveness of their ads and to personalize advertising content', 'PUC', 32), (0.6087188, 'in order to serve offers and advertisements that may be interest to our users we may display targeted advertisements on the services based on personal information provided by our users including zip code and profile', 'POPR', 13), (0.5981675, 'user registration with medianews web sites is completed and membership activated upon clicking a link e mailed to the address provided in registration', 'POC', 4), (0.59159493, 'we may collect certain information about your computer or other device that you use to access the sites including ip address geolocation information unique device identifiers browser type browser language and other transactional information', 'POPR', 30), (0.5882551, 'to use certain features of the sites you will need a username and password which you will receive through the site is registration process', 'PUC', 31), (0.5784948, 'to do so we collect and share additional personal information like credit information so such third parties can provide the product or service you request', 'POPR', 14), (0.5688115, 'we may merge this with other data we collect about you from third parties to assist us in our ability to provide the services including without limitation to advertise and provide content to you', 'POPR', 18), (0.56744397, 'imdb also displays personalized third party advertising based on personal information about users such as information you submit to us about movies you own or have watched', 'POPR', 22), (0.56029576, 'we may also combine your information with other information in a way that it is no longer associated with you and share that aggregated information', 'POPR', 20), (0.5471969, 'you may deactivate javascript via your browser settings or activate it the same way', 'PUPR', 43), (0.5180432, 'by visiting the site whether as a registered user or otherwise you acknowledge understand and hereby agree that you are giving us your consent to track your activities and your use of the site through these tracking technologies and that we may use tracking technologies in the emails we send to you', 'PUC', 33), (0.5160081, 'we use your ip address to help diagnose problems with our server and to administer our web site', 'POPR', 15), (0.5136744, 'the website also provides information for healthcare professionals and offers opportunities for volunteering in food allergy research education fundraising events', 'POPR', 27), (0.51207155, 'when you update information your old information is replaced by your new information', 'PUC', 41)]\n",
            "It's not the information I was looking for\n",
            "Extracting features...\n",
            "INFO:tensorflow:Saver not created because there are no variables in the graph to restore\n"
          ],
          "name": "stdout"
        },
        {
          "output_type": "stream",
          "text": [
            "INFO:tensorflow:Saver not created because there are no variables in the graph to restore\n"
          ],
          "name": "stderr"
        },
        {
          "output_type": "stream",
          "text": [
            "[]\n",
            "<a href=\"http://www.sciencemag.org/site/help/about/copyright.xhtml\">(c) 2015 American Association for the Advancement of Science.\n",
            "Extracting features...\n",
            "INFO:tensorflow:Saver not created because there are no variables in the graph to restore\n"
          ],
          "name": "stdout"
        },
        {
          "output_type": "stream",
          "text": [
            "INFO:tensorflow:Saver not created because there are no variables in the graph to restore\n"
          ],
          "name": "stderr"
        },
        {
          "output_type": "stream",
          "text": [
            "[]\n",
            "Offsite links\n",
            "Extracting features...\n",
            "INFO:tensorflow:Saver not created because there are no variables in the graph to restore\n"
          ],
          "name": "stdout"
        },
        {
          "output_type": "stream",
          "text": [
            "INFO:tensorflow:Saver not created because there are no variables in the graph to restore\n"
          ],
          "name": "stderr"
        },
        {
          "output_type": "stream",
          "text": [
            "[(0.53673816, 'web logging which enables us to collect the standard information your browser or application sends to every web site you visit such as your ip address browser type and language and the url of the site you came from as well as the pages you visit and the links you click while using our sites and services', 'POPR', 29), (0.52856183, 'user registration with medianews web sites is completed and membership activated upon clicking a link e mailed to the address provided in registration', 'POC', 4), (0.50373673, 'our servers automatically record information that your browser sends whenever you visit the site s', 'POPR', 28), (0.5024746, 'to use certain features of the sites you will need a username and password which you will receive through the site is registration process', 'PUC', 31)]\n",
            "If you do not want to sync your customized app settings, you can turn off this functionality in PC settings -> Sync your settings.\n",
            "Extracting features...\n",
            "INFO:tensorflow:Saver not created because there are no variables in the graph to restore\n"
          ],
          "name": "stdout"
        },
        {
          "output_type": "stream",
          "text": [
            "INFO:tensorflow:Saver not created because there are no variables in the graph to restore\n"
          ],
          "name": "stderr"
        },
        {
          "output_type": "stream",
          "text": [
            "[(0.6883518, 'you can change your video and audio preferences at any time or choose a player each time you view of listen to a clip', 'PUPR', 48), (0.6458995, 'you can use your browser settings to remove or block cookies on your computer', 'PUPR', 44), (0.6419933, 'you may deactivate javascript via your browser settings or activate it the same way', 'PUPR', 43), (0.57143027, 'if you are a member of an online service you may use that service is account and privacy settings to personalize the collection use and or display of your data via that service', 'PUPR', 52), (0.5668859, 'you may also prevent flash cookies from being placed by adjusting your preferences in the macromedia website privacy settings panel at', 'PUPR', 49), (0.55745465, 'nevertheless you are able to control how and whether cookies will be accepted by your web browser or device', 'PUPR', 51)]\n",
            "e-mail: \n",
            "Extracting features...\n",
            "INFO:tensorflow:Saver not created because there are no variables in the graph to restore\n"
          ],
          "name": "stdout"
        },
        {
          "output_type": "stream",
          "text": [
            "INFO:tensorflow:Saver not created because there are no variables in the graph to restore\n"
          ],
          "name": "stderr"
        },
        {
          "output_type": "stream",
          "text": [
            "[]\n",
            "Or you can contact us by mail at:\n",
            "Extracting features...\n",
            "INFO:tensorflow:Saver not created because there are no variables in the graph to restore\n"
          ],
          "name": "stdout"
        },
        {
          "output_type": "stream",
          "text": [
            "INFO:tensorflow:Saver not created because there are no variables in the graph to restore\n"
          ],
          "name": "stderr"
        },
        {
          "output_type": "stream",
          "text": [
            "[(0.5792163, 'when you register your caribou gift card on the site we ask for your name email address phone number and mailing address', 'PUC', 37), (0.54793864, 'keep in mind that any information that you choose to post to blogs discussion forums or other community or social networking services that we offer can be seen collected and used by anyone who has access to the applicable service', 'PUPR', 46), (0.5462322, 'in these cases we require validation of credit card information already on file with us and we will then e mail the master account holder to give notice that we have received such consent', 'POC', 6), (0.51986367, 'to do so we collect and share additional personal information like credit information so such third parties can provide the product or service you request', 'POPR', 14), (0.5174483, 'user registration with medianews web sites is completed and membership activated upon clicking a link e mailed to the address provided in registration', 'POC', 4), (0.5172976, 'to use certain features of the sites you will need a username and password which you will receive through the site is registration process', 'PUC', 31), (0.50947225, 'any personal information you submit in the course of interacting in these public activities can be read collected or used by other users', 'PUC', 36), (0.5020109, 'we will provide you the personal information requested if it is reasonably available unless it infringes on the privacy of other individuals and subject to reasonable limitations provided by law and internal procedures', 'POC', 10), (0.5011245, 'if you choose to submit an application to us for pre approved credit we will request that you provide personally identifiable information such as name address telephone number social security number date of birth employment information and gross monthly income', 'PUPR', 42)]\n",
            "Responsibility of Merchants\n",
            "Extracting features...\n",
            "INFO:tensorflow:Saver not created because there are no variables in the graph to restore\n"
          ],
          "name": "stdout"
        },
        {
          "output_type": "stream",
          "text": [
            "INFO:tensorflow:Saver not created because there are no variables in the graph to restore\n"
          ],
          "name": "stderr"
        },
        {
          "output_type": "stream",
          "text": [
            "[]\n",
            "If you have questions or complaints regarding our privacy policy or practices, please contact us at .\n",
            "Extracting features...\n",
            "INFO:tensorflow:Saver not created because there are no variables in the graph to restore\n"
          ],
          "name": "stdout"
        },
        {
          "output_type": "stream",
          "text": [
            "INFO:tensorflow:Saver not created because there are no variables in the graph to restore\n"
          ],
          "name": "stderr"
        },
        {
          "output_type": "stream",
          "text": [
            "[(0.7717187, 'if we modify our privacy policy on how we handle your personal information we will post the revised information here with a revised effective date at the top of this privacy policy', 'POC', 3), (0.7277095, 'we will provide you the personal information requested if it is reasonably available unless it infringes on the privacy of other individuals and subject to reasonable limitations provided by law and internal procedures', 'POC', 10), (0.6902065, 'this website incorporates reasonable safeguards to protect the security integrity completeness accuracy and privacy of the personal information that we may collect and we have put into place reasonable precautions to protect such information from loss misuse and alteration', 'POPR', 19), (0.68602806, 'if you ask us to share your personal information with a third party for its marketing purposes we will only share information in connection with that specific promotion since we do not share information with any third party other than our service providers on an ongoing basis', 'POC', 1), (0.6744945, 'by visiting the site whether as a registered user or otherwise you acknowledge understand and hereby agree that you are giving us your consent to track your activities and your use of the site through these tracking technologies and that we may use tracking technologies in the emails we send to you', 'PUC', 33), (0.6731595, 'your use of our sites and services following any such change constitutes your agreement that allinformation collected from or about you through our sites and services after the revised privacy policy is posted will besubject to the terms of the revised privacy policy', 'PUC', 39), (0.6565322, 'if you wish to review or delete any profile information that you have provided us regarding a child or ask that we stop using such information you may do so at any time through the settings area of your account or by contacting us using the information below', 'POC', 0), (0.65389246, 'any personal information you submit in the course of interacting in these public activities can be read collected or used by other users', 'PUC', 36), (0.65383613, 'we may aggregate and or anonymize information collected by the services or via other means so that the information does not identify you', 'POPR', 26), (0.63404304, 'if you authorize such a connection you permit us to share or publish information about your activity on our services with that social network and its users and to access certain of your social network information as disclosed by you at the time you consent to the connection', 'PUC', 35), (0.62881505, 'we may collect certain information about your computer or other device that you use to access the sites including ip address geolocation information unique device identifiers browser type browser language and other transactional information', 'POPR', 30), (0.6190304, 'in order to serve offers and advertisements that may be interest to our users we may display targeted advertisements on the services based on personal information provided by our users including zip code and profile', 'POPR', 13), (0.61675686, 'to protect your privacy and security we will also take reasonable steps to verify your identity before granting access or making corrections', 'POC', 9), (0.5912763, 'we will not disclose cardholder data to any third party except to facilitate and complete transactions submitted to us by merchants or otherwise in the course of providing services to our merchants or to comply with federal state and local laws or the rules and regulations of the respective card organizations or other payment entities e g', 'POC', 8), (0.58764344, 'to do so we collect and share additional personal information like credit information so such third parties can provide the product or service you request', 'POPR', 14), (0.5745174, 'to prevent unauthorized electronic access to personal information the company maintains information collected online behind a firewall protected server and uses ssl encryption for purchases made through our online store', 'POC', 5), (0.5694071, 'if the changes represent a material departure from our current practice with respect to the use of children is personal information the changes will be posted on this page thirty days prior to taking effect and will not affect children is personal information previously collected', 'POC', 7), (0.5691467, 'we use your ip address to help diagnose problems with our server and to administer our web site', 'POPR', 15), (0.54917175, 'we may also combine your information with other information in a way that it is no longer associated with you and share that aggregated information', 'POPR', 20), (0.5478697, 'because we serve advertisements on our own web sites as well as those of our advertising and publisher partners we are able to compile information over time about the types of pages you visit on microsoft and other sites content and ads you or others who are using your computer visited or viewed', 'POPR', 12), (0.5441346, 'our servers automatically record information that your browser sends whenever you visit the site s', 'POPR', 28), (0.524257, 'we may merge this with other data we collect about you from third parties to assist us in our ability to provide the services including without limitation to advertise and provide content to you', 'POPR', 18), (0.52217734, 'if you choose to submit an application to us for pre approved credit we will request that you provide personally identifiable information such as name address telephone number social security number date of birth employment information and gross monthly income', 'PUPR', 42), (0.517807, 'if you elect to publish your content via our nook press service we may ask you to provide your bank account and routing information so that we can direct payments to you', 'POPR', 11), (0.5156954, 'keep in mind that any information that you choose to post to blogs discussion forums or other community or social networking services that we offer can be seen collected and used by anyone who has access to the applicable service', 'PUPR', 46), (0.5143888, 'user registration with medianews web sites is completed and membership activated upon clicking a link e mailed to the address provided in registration', 'POC', 4), (0.5113011, 'cookies kinja or third parties may use cookies web beacons html local storage java script and other similar technologies to help us understand how you use the services and help us provide the services and advertising to you', 'POPR', 24), (0.5071426, 'web logging which enables us to collect the standard information your browser or application sends to every web site you visit such as your ip address browser type and language and the url of the site you came from as well as the pages you visit and the links you click while using our sites and services', 'POPR', 29), (0.5052765, 'however you may not without the prior written permission of medianews group inc medianews group interactive inc or medianews group affiliates frame any of the content of the sites or incorporate into another website any material from the sites', 'PUPR', 50), (0.5015397, 'depending on your account settings multisite ids may also provide other information to us', 'PUPR', 45)]\n",
            "Social Media Sites\n",
            "Extracting features...\n",
            "INFO:tensorflow:Saver not created because there are no variables in the graph to restore\n"
          ],
          "name": "stdout"
        },
        {
          "output_type": "stream",
          "text": [
            "INFO:tensorflow:Saver not created because there are no variables in the graph to restore\n"
          ],
          "name": "stderr"
        },
        {
          "output_type": "stream",
          "text": [
            "[(0.5547199, 'any personal information you submit in the course of interacting in these public activities can be read collected or used by other users', 'PUC', 36), (0.51317096, 'keep in mind that any information that you choose to post to blogs discussion forums or other community or social networking services that we offer can be seen collected and used by anyone who has access to the applicable service', 'PUPR', 46), (0.5051026, 'notmc and its agents use cookies so that we can improve your online experience for example by remembering you when you come back to visit the websites and making the content you see more relevant to you', 'POPR', 23)]\n",
            "To review the prior version of Barnes & Noble's Privacy Policy , please .\n",
            "Extracting features...\n",
            "INFO:tensorflow:Saver not created because there are no variables in the graph to restore\n"
          ],
          "name": "stdout"
        },
        {
          "output_type": "stream",
          "text": [
            "INFO:tensorflow:Saver not created because there are no variables in the graph to restore\n"
          ],
          "name": "stderr"
        },
        {
          "output_type": "stream",
          "text": [
            "[(0.621377, 'your use of our sites and services following any such change constitutes your agreement that allinformation collected from or about you through our sites and services after the revised privacy policy is posted will besubject to the terms of the revised privacy policy', 'PUC', 39), (0.5663078, 'by visiting the site whether as a registered user or otherwise you acknowledge understand and hereby agree that you are giving us your consent to track your activities and your use of the site through these tracking technologies and that we may use tracking technologies in the emails we send to you', 'PUC', 33), (0.5651611, 'if you elect to publish your content via our nook press service we may ask you to provide your bank account and routing information so that we can direct payments to you', 'POPR', 11), (0.55346495, 'we will provide you the personal information requested if it is reasonably available unless it infringes on the privacy of other individuals and subject to reasonable limitations provided by law and internal procedures', 'POC', 10), (0.54499376, 'if we modify our privacy policy on how we handle your personal information we will post the revised information here with a revised effective date at the top of this privacy policy', 'POC', 3), (0.5248743, 'to protect your privacy and security we will also take reasonable steps to verify your identity before granting access or making corrections', 'POC', 9), (0.52410674, 'this website incorporates reasonable safeguards to protect the security integrity completeness accuracy and privacy of the personal information that we may collect and we have put into place reasonable precautions to protect such information from loss misuse and alteration', 'POPR', 19), (0.52305186, 'any personal information you submit in the course of interacting in these public activities can be read collected or used by other users', 'PUC', 36), (0.5225222, 'if you authorize such a connection you permit us to share or publish information about your activity on our services with that social network and its users and to access certain of your social network information as disclosed by you at the time you consent to the connection', 'PUC', 35), (0.5160043, 'we may aggregate and or anonymize information collected by the services or via other means so that the information does not identify you', 'POPR', 26)]\n",
            "No personal information is ever stored in a PBS cookie, even if you have entered your name or email address on other parts of the Site.\n",
            "Extracting features...\n",
            "INFO:tensorflow:Saver not created because there are no variables in the graph to restore\n"
          ],
          "name": "stdout"
        },
        {
          "output_type": "stream",
          "text": [
            "INFO:tensorflow:Saver not created because there are no variables in the graph to restore\n"
          ],
          "name": "stderr"
        },
        {
          "output_type": "stream",
          "text": [
            "[(0.6553632, 'any personal information you submit in the course of interacting in these public activities can be read collected or used by other users', 'PUC', 36), (0.63584584, 'user registration with medianews web sites is completed and membership activated upon clicking a link e mailed to the address provided in registration', 'POC', 4), (0.62884563, 'we may also combine your information with other information in a way that it is no longer associated with you and share that aggregated information', 'POPR', 20), (0.62682456, 'our servers automatically record information that your browser sends whenever you visit the site s', 'POPR', 28), (0.61639655, 'nevertheless you are able to control how and whether cookies will be accepted by your web browser or device', 'PUPR', 51), (0.6128313, 'notmc and its agents use cookies so that we can improve your online experience for example by remembering you when you come back to visit the websites and making the content you see more relevant to you', 'POPR', 23), (0.6122868, 'we may aggregate and or anonymize information collected by the services or via other means so that the information does not identify you', 'POPR', 26), (0.59770167, 'to use certain features of the sites you will need a username and password which you will receive through the site is registration process', 'PUC', 31), (0.5956769, 'you may also prevent flash cookies from being placed by adjusting your preferences in the macromedia website privacy settings panel at', 'PUPR', 49), (0.5944272, 'however you may not without the prior written permission of medianews group inc medianews group interactive inc or medianews group affiliates frame any of the content of the sites or incorporate into another website any material from the sites', 'PUPR', 50), (0.59300643, 'your information is stored in an encrypted environment', 'PUPR', 47), (0.59248084, 'you can use your browser settings to remove or block cookies on your computer', 'PUPR', 44), (0.5907133, 'depending on your account settings multisite ids may also provide other information to us', 'PUPR', 45), (0.58935136, 'by visiting the site whether as a registered user or otherwise you acknowledge understand and hereby agree that you are giving us your consent to track your activities and your use of the site through these tracking technologies and that we may use tracking technologies in the emails we send to you', 'PUC', 33), (0.58888656, 'if medianews believes such information is untrue inaccurate not current or incomplete medianews has the right to suspend or terminate your account and refuse any and all current or future use of the sites by you', 'POPR', 16), (0.5850658, 'if you authorize such a connection you permit us to share or publish information about your activity on our services with that social network and its users and to access certain of your social network information as disclosed by you at the time you consent to the connection', 'PUC', 35), (0.5757529, 'this website incorporates reasonable safeguards to protect the security integrity completeness accuracy and privacy of the personal information that we may collect and we have put into place reasonable precautions to protect such information from loss misuse and alteration', 'POPR', 19), (0.56426525, 'we will provide you the personal information requested if it is reasonably available unless it infringes on the privacy of other individuals and subject to reasonable limitations provided by law and internal procedures', 'POC', 10), (0.5636708, 'if you are a member of an online service you may use that service is account and privacy settings to personalize the collection use and or display of your data via that service', 'PUPR', 52), (0.5558385, 'imdb also displays personalized third party advertising based on personal information about users such as information you submit to us about movies you own or have watched', 'POPR', 22), (0.55266577, 'web logging which enables us to collect the standard information your browser or application sends to every web site you visit such as your ip address browser type and language and the url of the site you came from as well as the pages you visit and the links you click while using our sites and services', 'POPR', 29), (0.55113, 'we may collect certain information about your computer or other device that you use to access the sites including ip address geolocation information unique device identifiers browser type browser language and other transactional information', 'POPR', 30), (0.5456595, 'your use of our sites and services following any such change constitutes your agreement that allinformation collected from or about you through our sites and services after the revised privacy policy is posted will besubject to the terms of the revised privacy policy', 'PUC', 39), (0.54557717, 'to do so we collect and share additional personal information like credit information so such third parties can provide the product or service you request', 'POPR', 14), (0.5454978, 'if you ask us to share your personal information with a third party for its marketing purposes we will only share information in connection with that specific promotion since we do not share information with any third party other than our service providers on an ongoing basis', 'POC', 1), (0.53117174, 'if we modify our privacy policy on how we handle your personal information we will post the revised information here with a revised effective date at the top of this privacy policy', 'POC', 3), (0.5267034, 'when you register your caribou gift card on the site we ask for your name email address phone number and mailing address', 'PUC', 37), (0.5196561, 'if you wish to review or delete any profile information that you have provided us regarding a child or ask that we stop using such information you may do so at any time through the settings area of your account or by contacting us using the information below', 'POC', 0), (0.516636, 'cookies kinja or third parties may use cookies web beacons html local storage java script and other similar technologies to help us understand how you use the services and help us provide the services and advertising to you', 'POPR', 24), (0.5143443, 'to prevent unauthorized electronic access to personal information the company maintains information collected online behind a firewall protected server and uses ssl encryption for purchases made through our online store', 'POC', 5), (0.50705594, 'because we serve advertisements on our own web sites as well as those of our advertising and publisher partners we are able to compile information over time about the types of pages you visit on microsoft and other sites content and ads you or others who are using your computer visited or viewed', 'POPR', 12), (0.5068781, 'when you update information your old information is replaced by your new information', 'PUC', 41), (0.5039363, 'to protect your privacy and security we will also take reasonable steps to verify your identity before granting access or making corrections', 'POC', 9), (0.50152904, 'doing this allows the advertising network to recognize your computer each time they send you an advertisement in order to measure the effectiveness of their ads and to personalize advertising content', 'PUC', 32)]\n",
            " >>  >> \n",
            "Extracting features...\n",
            "INFO:tensorflow:Saver not created because there are no variables in the graph to restore\n"
          ],
          "name": "stdout"
        },
        {
          "output_type": "stream",
          "text": [
            "INFO:tensorflow:Saver not created because there are no variables in the graph to restore\n"
          ],
          "name": "stderr"
        },
        {
          "output_type": "stream",
          "text": [
            "[]\n",
            "Disclaimer\n",
            "Extracting features...\n",
            "INFO:tensorflow:Saver not created because there are no variables in the graph to restore\n"
          ],
          "name": "stdout"
        },
        {
          "output_type": "stream",
          "text": [
            "INFO:tensorflow:Saver not created because there are no variables in the graph to restore\n"
          ],
          "name": "stderr"
        },
        {
          "output_type": "stream",
          "text": [
            "[]\n",
            "Web Site Use & Registration : MediaNews uses PIN and CIN that is collected to fulfill subscriptions, change addresses, suspend delivery, confirm and process transactions and to contact the user regarding his or her account, new or existing products and services and special offers.\n",
            "Extracting features...\n",
            "INFO:tensorflow:Saver not created because there are no variables in the graph to restore\n"
          ],
          "name": "stdout"
        },
        {
          "output_type": "stream",
          "text": [
            "INFO:tensorflow:Saver not created because there are no variables in the graph to restore\n"
          ],
          "name": "stderr"
        },
        {
          "output_type": "stream",
          "text": [
            "[(0.79787666, 'user registration with medianews web sites is completed and membership activated upon clicking a link e mailed to the address provided in registration', 'POC', 4), (0.7391291, 'to do so we collect and share additional personal information like credit information so such third parties can provide the product or service you request', 'POPR', 14), (0.7106895, 'to prevent unauthorized electronic access to personal information the company maintains information collected online behind a firewall protected server and uses ssl encryption for purchases made through our online store', 'POC', 5), (0.6916037, 'depending on your account settings multisite ids may also provide other information to us', 'PUPR', 45), (0.6768191, 'to use certain features of the sites you will need a username and password which you will receive through the site is registration process', 'PUC', 31), (0.67475796, 'in these cases we require validation of credit card information already on file with us and we will then e mail the master account holder to give notice that we have received such consent', 'POC', 6), (0.6741897, 'we will not disclose cardholder data to any third party except to facilitate and complete transactions submitted to us by merchants or otherwise in the course of providing services to our merchants or to comply with federal state and local laws or the rules and regulations of the respective card organizations or other payment entities e g', 'POC', 8), (0.66473603, 'in order to serve offers and advertisements that may be interest to our users we may display targeted advertisements on the services based on personal information provided by our users including zip code and profile', 'POPR', 13), (0.64850813, 'this information will only be shared with third parties who perform tasks required to complete the purchase transaction', 'PUC', 40), (0.63683724, 'we use the third party service provider dr globaltech inc as our online official re seller and for certain in game sales functions', 'POPR', 21), (0.63677204, 'web logging which enables us to collect the standard information your browser or application sends to every web site you visit such as your ip address browser type and language and the url of the site you came from as well as the pages you visit and the links you click while using our sites and services', 'POPR', 29), (0.6255521, 'cookies kinja or third parties may use cookies web beacons html local storage java script and other similar technologies to help us understand how you use the services and help us provide the services and advertising to you', 'POPR', 24), (0.6248297, 'this website incorporates reasonable safeguards to protect the security integrity completeness accuracy and privacy of the personal information that we may collect and we have put into place reasonable precautions to protect such information from loss misuse and alteration', 'POPR', 19), (0.62157154, 'we may collect certain information about your computer or other device that you use to access the sites including ip address geolocation information unique device identifiers browser type browser language and other transactional information', 'POPR', 30), (0.6142315, 'if you are a member of an online service you may use that service is account and privacy settings to personalize the collection use and or display of your data via that service', 'PUPR', 52), (0.6139639, 'by visiting the site whether as a registered user or otherwise you acknowledge understand and hereby agree that you are giving us your consent to track your activities and your use of the site through these tracking technologies and that we may use tracking technologies in the emails we send to you', 'PUC', 33), (0.6083509, 'we use your ip address to help diagnose problems with our server and to administer our web site', 'POPR', 15), (0.60564643, 'we may aggregate and or anonymize information collected by the services or via other means so that the information does not identify you', 'POPR', 26), (0.59738785, 'if you choose to submit an application to us for pre approved credit we will request that you provide personally identifiable information such as name address telephone number social security number date of birth employment information and gross monthly income', 'PUPR', 42), (0.5895614, 'notmc and its agents use cookies so that we can improve your online experience for example by remembering you when you come back to visit the websites and making the content you see more relevant to you', 'POPR', 23), (0.5888319, 'when you register your caribou gift card on the site we ask for your name email address phone number and mailing address', 'PUC', 37), (0.5820799, 'our servers automatically record information that your browser sends whenever you visit the site s', 'POPR', 28), (0.5731455, 'if you authorize such a connection you permit us to share or publish information about your activity on our services with that social network and its users and to access certain of your social network information as disclosed by you at the time you consent to the connection', 'PUC', 35), (0.5621318, 'any personal information you submit in the course of interacting in these public activities can be read collected or used by other users', 'PUC', 36), (0.55600226, 'because we serve advertisements on our own web sites as well as those of our advertising and publisher partners we are able to compile information over time about the types of pages you visit on microsoft and other sites content and ads you or others who are using your computer visited or viewed', 'POPR', 12), (0.55243003, 'your use of our sites and services following any such change constitutes your agreement that allinformation collected from or about you through our sites and services after the revised privacy policy is posted will besubject to the terms of the revised privacy policy', 'PUC', 39), (0.5513093, 'if you ask us to share your personal information with a third party for its marketing purposes we will only share information in connection with that specific promotion since we do not share information with any third party other than our service providers on an ongoing basis', 'POC', 1), (0.5476988, 'to protect your privacy and security we will also take reasonable steps to verify your identity before granting access or making corrections', 'POC', 9), (0.5333672, 'the website also provides information for healthcare professionals and offers opportunities for volunteering in food allergy research education fundraising events', 'POPR', 27), (0.53086483, 'doing this allows the advertising network to recognize your computer each time they send you an advertisement in order to measure the effectiveness of their ads and to personalize advertising content', 'PUC', 32), (0.5225126, 'we will provide you the personal information requested if it is reasonably available unless it infringes on the privacy of other individuals and subject to reasonable limitations provided by law and internal procedures', 'POC', 10), (0.5138883, 'we may merge this with other data we collect about you from third parties to assist us in our ability to provide the services including without limitation to advertise and provide content to you', 'POPR', 18), (0.5069203, 'however you may not without the prior written permission of medianews group inc medianews group interactive inc or medianews group affiliates frame any of the content of the sites or incorporate into another website any material from the sites', 'PUPR', 50), (0.50339717, 'if medianews believes such information is untrue inaccurate not current or incomplete medianews has the right to suspend or terminate your account and refuse any and all current or future use of the sites by you', 'POPR', 16), (0.5014772, 'nevertheless you are able to control how and whether cookies will be accepted by your web browser or device', 'PUPR', 51)]\n",
            "Absent explicit prior written consent in certain situations, you may not, nor may you allow, enable, authorize, instruct, encourage, assist, suggest, inform, or promote that others, directly or indirectly, do any of the following for any reason:\n",
            "Extracting features...\n",
            "INFO:tensorflow:Saver not created because there are no variables in the graph to restore\n"
          ],
          "name": "stdout"
        },
        {
          "output_type": "stream",
          "text": [
            "INFO:tensorflow:Saver not created because there are no variables in the graph to restore\n"
          ],
          "name": "stderr"
        },
        {
          "output_type": "stream",
          "text": [
            "[(0.6162467, 'your use of our sites and services following any such change constitutes your agreement that allinformation collected from or about you through our sites and services after the revised privacy policy is posted will besubject to the terms of the revised privacy policy', 'PUC', 39), (0.59632534, 'we will provide you the personal information requested if it is reasonably available unless it infringes on the privacy of other individuals and subject to reasonable limitations provided by law and internal procedures', 'POC', 10), (0.57910806, 'you agree that we and our indemnitees are not responsible and shall have no liability to you with respect to merchandise products and or services including without limitation content featured mentioned described auctioned distributed given away sold rented or otherwise available on or through the service including illegal offensive or illicit items even items that violate the agreement', 'PUC', 34), (0.5719297, 'in these cases we require validation of credit card information already on file with us and we will then e mail the master account holder to give notice that we have received such consent', 'POC', 6), (0.5707118, 'by visiting the site whether as a registered user or otherwise you acknowledge understand and hereby agree that you are giving us your consent to track your activities and your use of the site through these tracking technologies and that we may use tracking technologies in the emails we send to you', 'PUC', 33), (0.5522015, 'to protect your privacy and security we will also take reasonable steps to verify your identity before granting access or making corrections', 'POC', 9), (0.5407444, 'if you authorize such a connection you permit us to share or publish information about your activity on our services with that social network and its users and to access certain of your social network information as disclosed by you at the time you consent to the connection', 'PUC', 35), (0.5342041, 'if you choose to submit an application to us for pre approved credit we will request that you provide personally identifiable information such as name address telephone number social security number date of birth employment information and gross monthly income', 'PUPR', 42), (0.51879054, 'we may aggregate and or anonymize information collected by the services or via other means so that the information does not identify you', 'POPR', 26)]\n",
            "1.\n",
            "Extracting features...\n",
            "INFO:tensorflow:Saver not created because there are no variables in the graph to restore\n"
          ],
          "name": "stdout"
        },
        {
          "output_type": "stream",
          "text": [
            "INFO:tensorflow:Saver not created because there are no variables in the graph to restore\n"
          ],
          "name": "stderr"
        },
        {
          "output_type": "stream",
          "text": [
            "[]\n",
            "SIGN INTO MY MOHEGAN SUN     Account Number\n",
            "Extracting features...\n",
            "INFO:tensorflow:Saver not created because there are no variables in the graph to restore\n"
          ],
          "name": "stdout"
        },
        {
          "output_type": "stream",
          "text": [
            "INFO:tensorflow:Saver not created because there are no variables in the graph to restore\n"
          ],
          "name": "stderr"
        },
        {
          "output_type": "stream",
          "text": [
            "[(0.5783995, 'if you choose to submit an application to us for pre approved credit we will request that you provide personally identifiable information such as name address telephone number social security number date of birth employment information and gross monthly income', 'PUPR', 42), (0.54519886, 'when you register your caribou gift card on the site we ask for your name email address phone number and mailing address', 'PUC', 37), (0.54489744, 'user registration with medianews web sites is completed and membership activated upon clicking a link e mailed to the address provided in registration', 'POC', 4)]\n",
            "Links to .org, .gov, .edu, .mil or other non-profit sites that share historical and documentary interests inherent to NARA's mission are encouraged because of their general non-commercial, public-interest nature.\n",
            "Extracting features...\n",
            "INFO:tensorflow:Saver not created because there are no variables in the graph to restore\n"
          ],
          "name": "stdout"
        },
        {
          "output_type": "stream",
          "text": [
            "INFO:tensorflow:Saver not created because there are no variables in the graph to restore\n"
          ],
          "name": "stderr"
        },
        {
          "output_type": "stream",
          "text": [
            "[(0.53193754, 'however you may not without the prior written permission of medianews group inc medianews group interactive inc or medianews group affiliates frame any of the content of the sites or incorporate into another website any material from the sites', 'PUPR', 50)]\n",
            "Paymentech, LLC, complies with the U.S.-EU Safe Harbor Framework and the U.S.-Swiss Safe Harbor Framework as set forth by the U.S. Department of Commerce regarding the collection, use, and retention of personal information from European Union member countries and Switzerland.\n",
            "Extracting features...\n",
            "INFO:tensorflow:Saver not created because there are no variables in the graph to restore\n"
          ],
          "name": "stdout"
        },
        {
          "output_type": "stream",
          "text": [
            "INFO:tensorflow:Saver not created because there are no variables in the graph to restore\n"
          ],
          "name": "stderr"
        },
        {
          "output_type": "stream",
          "text": [
            "[(0.6739664, 'we will not disclose cardholder data to any third party except to facilitate and complete transactions submitted to us by merchants or otherwise in the course of providing services to our merchants or to comply with federal state and local laws or the rules and regulations of the respective card organizations or other payment entities e g', 'POC', 8), (0.67338, 'this website incorporates reasonable safeguards to protect the security integrity completeness accuracy and privacy of the personal information that we may collect and we have put into place reasonable precautions to protect such information from loss misuse and alteration', 'POPR', 19), (0.6441745, 'to prevent unauthorized electronic access to personal information the company maintains information collected online behind a firewall protected server and uses ssl encryption for purchases made through our online store', 'POC', 5), (0.6226463, 'we will provide you the personal information requested if it is reasonably available unless it infringes on the privacy of other individuals and subject to reasonable limitations provided by law and internal procedures', 'POC', 10), (0.62017506, 'your use of our sites and services following any such change constitutes your agreement that allinformation collected from or about you through our sites and services after the revised privacy policy is posted will besubject to the terms of the revised privacy policy', 'PUC', 39), (0.60604787, 'by visiting the site whether as a registered user or otherwise you acknowledge understand and hereby agree that you are giving us your consent to track your activities and your use of the site through these tracking technologies and that we may use tracking technologies in the emails we send to you', 'PUC', 33), (0.59272605, 'in these cases we require validation of credit card information already on file with us and we will then e mail the master account holder to give notice that we have received such consent', 'POC', 6), (0.58423275, 'to do so we collect and share additional personal information like credit information so such third parties can provide the product or service you request', 'POPR', 14), (0.57881165, 'we may aggregate and or anonymize information collected by the services or via other means so that the information does not identify you', 'POPR', 26), (0.57606715, 'if you authorize such a connection you permit us to share or publish information about your activity on our services with that social network and its users and to access certain of your social network information as disclosed by you at the time you consent to the connection', 'PUC', 35), (0.55958897, 'to protect your privacy and security we will also take reasonable steps to verify your identity before granting access or making corrections', 'POC', 9), (0.5498489, 'we may collect certain information about your computer or other device that you use to access the sites including ip address geolocation information unique device identifiers browser type browser language and other transactional information', 'POPR', 30), (0.5484404, 'user registration with medianews web sites is completed and membership activated upon clicking a link e mailed to the address provided in registration', 'POC', 4), (0.54839593, 'if we modify our privacy policy on how we handle your personal information we will post the revised information here with a revised effective date at the top of this privacy policy', 'POC', 3), (0.52584094, 'however you may not without the prior written permission of medianews group inc medianews group interactive inc or medianews group affiliates frame any of the content of the sites or incorporate into another website any material from the sites', 'PUPR', 50), (0.5232211, 'if you choose to submit an application to us for pre approved credit we will request that you provide personally identifiable information such as name address telephone number social security number date of birth employment information and gross monthly income', 'PUPR', 42), (0.5189158, 'this information will only be shared with third parties who perform tasks required to complete the purchase transaction', 'PUC', 40), (0.5130743, 'if you are a member of an online service you may use that service is account and privacy settings to personalize the collection use and or display of your data via that service', 'PUPR', 52), (0.5094167, 'your information is stored in an encrypted environment', 'PUPR', 47)]\n",
            "Life is short.\n",
            "Extracting features...\n",
            "INFO:tensorflow:Saver not created because there are no variables in the graph to restore\n"
          ],
          "name": "stdout"
        },
        {
          "output_type": "stream",
          "text": [
            "INFO:tensorflow:Saver not created because there are no variables in the graph to restore\n"
          ],
          "name": "stderr"
        },
        {
          "output_type": "stream",
          "text": [
            "[]\n",
            "Earnings Estimates, Analyst Ratings and Key Statistics provided by .\n",
            "Extracting features...\n",
            "INFO:tensorflow:Saver not created because there are no variables in the graph to restore\n"
          ],
          "name": "stdout"
        },
        {
          "output_type": "stream",
          "text": [
            "INFO:tensorflow:Saver not created because there are no variables in the graph to restore\n"
          ],
          "name": "stderr"
        },
        {
          "output_type": "stream",
          "text": [
            "[]\n",
            "Advertising   Ad Serving - The ads appearing on this website are delivered to you by our web advertising vendor Google's DoubleClick and/or by Kinja's own proprietary advertising delivery software.\n",
            "Extracting features...\n",
            "INFO:tensorflow:Saver not created because there are no variables in the graph to restore\n"
          ],
          "name": "stdout"
        },
        {
          "output_type": "stream",
          "text": [
            "INFO:tensorflow:Saver not created because there are no variables in the graph to restore\n"
          ],
          "name": "stderr"
        },
        {
          "output_type": "stream",
          "text": [
            "[(0.79269147, 'because we serve advertisements on our own web sites as well as those of our advertising and publisher partners we are able to compile information over time about the types of pages you visit on microsoft and other sites content and ads you or others who are using your computer visited or viewed', 'POPR', 12), (0.7912318, 'doing this allows the advertising network to recognize your computer each time they send you an advertisement in order to measure the effectiveness of their ads and to personalize advertising content', 'PUC', 32), (0.75379574, 'in order to serve offers and advertisements that may be interest to our users we may display targeted advertisements on the services based on personal information provided by our users including zip code and profile', 'POPR', 13), (0.70805794, 'we may also work with other companies that advertise on microsoft sites to place web beacons on their sites or in their advertisements to let us develop statistics on how often clicking on an advertisement on a microsoft site results in a purchase or other action on the advertiser is site', 'POPR', 25), (0.65886986, 'cookies kinja or third parties may use cookies web beacons html local storage java script and other similar technologies to help us understand how you use the services and help us provide the services and advertising to you', 'POPR', 24), (0.6413048, 'web logging which enables us to collect the standard information your browser or application sends to every web site you visit such as your ip address browser type and language and the url of the site you came from as well as the pages you visit and the links you click while using our sites and services', 'POPR', 29), (0.6410776, 'user registration with medianews web sites is completed and membership activated upon clicking a link e mailed to the address provided in registration', 'POC', 4), (0.62234765, 'imdb also displays personalized third party advertising based on personal information about users such as information you submit to us about movies you own or have watched', 'POPR', 22), (0.62132245, 'notmc and its agents use cookies so that we can improve your online experience for example by remembering you when you come back to visit the websites and making the content you see more relevant to you', 'POPR', 23), (0.6188731, 'if you ask us to share your personal information with a third party for its marketing purposes we will only share information in connection with that specific promotion since we do not share information with any third party other than our service providers on an ongoing basis', 'POC', 1), (0.61538255, 'we may merge this with other data we collect about you from third parties to assist us in our ability to provide the services including without limitation to advertise and provide content to you', 'POPR', 18), (0.59309715, 'by visiting the site whether as a registered user or otherwise you acknowledge understand and hereby agree that you are giving us your consent to track your activities and your use of the site through these tracking technologies and that we may use tracking technologies in the emails we send to you', 'PUC', 33), (0.5930113, 'to do so we collect and share additional personal information like credit information so such third parties can provide the product or service you request', 'POPR', 14), (0.59048796, 'we perform statistical demographic and marketing analyses of users of the nyt services and their subscribing and purchasing patterns for product development purposes and to generally inform advertisers about the nature of our subscriber base', 'POPR', 17), (0.5902952, 'you may also prevent flash cookies from being placed by adjusting your preferences in the macromedia website privacy settings panel at', 'PUPR', 49), (0.59005874, 'we use your ip address to help diagnose problems with our server and to administer our web site', 'POPR', 15), (0.58889586, 'we may collect certain information about your computer or other device that you use to access the sites including ip address geolocation information unique device identifiers browser type browser language and other transactional information', 'POPR', 30), (0.5847437, 'our servers automatically record information that your browser sends whenever you visit the site s', 'POPR', 28), (0.5758649, 'however you may not without the prior written permission of medianews group inc medianews group interactive inc or medianews group affiliates frame any of the content of the sites or incorporate into another website any material from the sites', 'PUPR', 50), (0.57523173, 'to prevent unauthorized electronic access to personal information the company maintains information collected online behind a firewall protected server and uses ssl encryption for purchases made through our online store', 'POC', 5), (0.56899273, 'your use of our sites and services following any such change constitutes your agreement that allinformation collected from or about you through our sites and services after the revised privacy policy is posted will besubject to the terms of the revised privacy policy', 'PUC', 39), (0.535061, 'nevertheless you are able to control how and whether cookies will be accepted by your web browser or device', 'PUPR', 51), (0.52549404, 'to use certain features of the sites you will need a username and password which you will receive through the site is registration process', 'PUC', 31), (0.5243605, 'the website also provides information for healthcare professionals and offers opportunities for volunteering in food allergy research education fundraising events', 'POPR', 27), (0.5181492, 'we may aggregate and or anonymize information collected by the services or via other means so that the information does not identify you', 'POPR', 26), (0.5166715, 'if you authorize such a connection you permit us to share or publish information about your activity on our services with that social network and its users and to access certain of your social network information as disclosed by you at the time you consent to the connection', 'PUC', 35)]\n",
            "     Joshua Brown \n",
            "Extracting features...\n",
            "INFO:tensorflow:Saver not created because there are no variables in the graph to restore\n"
          ],
          "name": "stdout"
        },
        {
          "output_type": "stream",
          "text": [
            "INFO:tensorflow:Saver not created because there are no variables in the graph to restore\n"
          ],
          "name": "stderr"
        },
        {
          "output_type": "stream",
          "text": [
            "[]\n",
            "How do we respect children's privacy?\n",
            "Extracting features...\n",
            "INFO:tensorflow:Saver not created because there are no variables in the graph to restore\n"
          ],
          "name": "stdout"
        },
        {
          "output_type": "stream",
          "text": [
            "INFO:tensorflow:Saver not created because there are no variables in the graph to restore\n"
          ],
          "name": "stderr"
        },
        {
          "output_type": "stream",
          "text": [
            "[]\n",
            "The Lab |\n",
            "Extracting features...\n",
            "INFO:tensorflow:Saver not created because there are no variables in the graph to restore\n"
          ],
          "name": "stdout"
        },
        {
          "output_type": "stream",
          "text": [
            "INFO:tensorflow:Saver not created because there are no variables in the graph to restore\n"
          ],
          "name": "stderr"
        },
        {
          "output_type": "stream",
          "text": [
            "[]\n",
            "We also sometimes gather Personal Information on behalf of a sponsor in association with a promotion.\n",
            "Extracting features...\n",
            "INFO:tensorflow:Saver not created because there are no variables in the graph to restore\n"
          ],
          "name": "stdout"
        },
        {
          "output_type": "stream",
          "text": [
            "INFO:tensorflow:Saver not created because there are no variables in the graph to restore\n"
          ],
          "name": "stderr"
        },
        {
          "output_type": "stream",
          "text": [
            "[(0.68947977, 'if you ask us to share your personal information with a third party for its marketing purposes we will only share information in connection with that specific promotion since we do not share information with any third party other than our service providers on an ongoing basis', 'POC', 1), (0.6349745, 'any personal information you submit in the course of interacting in these public activities can be read collected or used by other users', 'PUC', 36), (0.63358825, 'to do so we collect and share additional personal information like credit information so such third parties can provide the product or service you request', 'POPR', 14), (0.6145025, 'in order to serve offers and advertisements that may be interest to our users we may display targeted advertisements on the services based on personal information provided by our users including zip code and profile', 'POPR', 13), (0.6110527, 'keep in mind that any information that you choose to post to blogs discussion forums or other community or social networking services that we offer can be seen collected and used by anyone who has access to the applicable service', 'PUPR', 46), (0.5849371, 'because we serve advertisements on our own web sites as well as those of our advertising and publisher partners we are able to compile information over time about the types of pages you visit on microsoft and other sites content and ads you or others who are using your computer visited or viewed', 'POPR', 12), (0.57692593, 'we may also work with other companies that advertise on microsoft sites to place web beacons on their sites or in their advertisements to let us develop statistics on how often clicking on an advertisement on a microsoft site results in a purchase or other action on the advertiser is site', 'POPR', 25), (0.57538706, 'we may aggregate and or anonymize information collected by the services or via other means so that the information does not identify you', 'POPR', 26), (0.55217624, 'we will provide you the personal information requested if it is reasonably available unless it infringes on the privacy of other individuals and subject to reasonable limitations provided by law and internal procedures', 'POC', 10), (0.5515089, 'we use the third party service provider dr globaltech inc as our online official re seller and for certain in game sales functions', 'POPR', 21), (0.5368754, 'doing this allows the advertising network to recognize your computer each time they send you an advertisement in order to measure the effectiveness of their ads and to personalize advertising content', 'PUC', 32), (0.5260374, 'if you authorize such a connection you permit us to share or publish information about your activity on our services with that social network and its users and to access certain of your social network information as disclosed by you at the time you consent to the connection', 'PUC', 35), (0.5233113, 'we may also combine your information with other information in a way that it is no longer associated with you and share that aggregated information', 'POPR', 20), (0.522402, 'imdb also displays personalized third party advertising based on personal information about users such as information you submit to us about movies you own or have watched', 'POPR', 22), (0.51480085, 'however you may not without the prior written permission of medianews group inc medianews group interactive inc or medianews group affiliates frame any of the content of the sites or incorporate into another website any material from the sites', 'PUPR', 50), (0.51125073, 'the website also provides information for healthcare professionals and offers opportunities for volunteering in food allergy research education fundraising events', 'POPR', 27), (0.5084745, 'if we modify our privacy policy on how we handle your personal information we will post the revised information here with a revised effective date at the top of this privacy policy', 'POC', 3), (0.5048586, 'we perform statistical demographic and marketing analyses of users of the nyt services and their subscribing and purchasing patterns for product development purposes and to generally inform advertisers about the nature of our subscriber base', 'POPR', 17)]\n",
            "When you select and build your choice in a vehicle, we will present you with a complete list of your choices, as well as the vehicle's suggested retail price.\n",
            "Extracting features...\n",
            "INFO:tensorflow:Saver not created because there are no variables in the graph to restore\n"
          ],
          "name": "stdout"
        },
        {
          "output_type": "stream",
          "text": [
            "INFO:tensorflow:Saver not created because there are no variables in the graph to restore\n"
          ],
          "name": "stderr"
        },
        {
          "output_type": "stream",
          "text": [
            "[]\n",
            "WHERE TO EAT\n",
            "Extracting features...\n",
            "INFO:tensorflow:Saver not created because there are no variables in the graph to restore\n"
          ],
          "name": "stdout"
        },
        {
          "output_type": "stream",
          "text": [
            "INFO:tensorflow:Saver not created because there are no variables in the graph to restore\n"
          ],
          "name": "stderr"
        },
        {
          "output_type": "stream",
          "text": [
            "[]\n",
            "Third Party Websites and Services\n",
            "Extracting features...\n",
            "INFO:tensorflow:Saver not created because there are no variables in the graph to restore\n"
          ],
          "name": "stdout"
        },
        {
          "output_type": "stream",
          "text": [
            "INFO:tensorflow:Saver not created because there are no variables in the graph to restore\n"
          ],
          "name": "stderr"
        },
        {
          "output_type": "stream",
          "text": [
            "[(0.6234236, 'to do so we collect and share additional personal information like credit information so such third parties can provide the product or service you request', 'POPR', 14), (0.62258905, 'user registration with medianews web sites is completed and membership activated upon clicking a link e mailed to the address provided in registration', 'POC', 4), (0.60151017, 'to use certain features of the sites you will need a username and password which you will receive through the site is registration process', 'PUC', 31), (0.5984678, 'however you may not without the prior written permission of medianews group inc medianews group interactive inc or medianews group affiliates frame any of the content of the sites or incorporate into another website any material from the sites', 'PUPR', 50), (0.59808636, 'web logging which enables us to collect the standard information your browser or application sends to every web site you visit such as your ip address browser type and language and the url of the site you came from as well as the pages you visit and the links you click while using our sites and services', 'POPR', 29), (0.5917354, 'we use your ip address to help diagnose problems with our server and to administer our web site', 'POPR', 15), (0.58469564, 'because we serve advertisements on our own web sites as well as those of our advertising and publisher partners we are able to compile information over time about the types of pages you visit on microsoft and other sites content and ads you or others who are using your computer visited or viewed', 'POPR', 12), (0.5773403, 'we may collect certain information about your computer or other device that you use to access the sites including ip address geolocation information unique device identifiers browser type browser language and other transactional information', 'POPR', 30), (0.5766056, 'cookies kinja or third parties may use cookies web beacons html local storage java script and other similar technologies to help us understand how you use the services and help us provide the services and advertising to you', 'POPR', 24), (0.57122195, 'we use the third party service provider dr globaltech inc as our online official re seller and for certain in game sales functions', 'POPR', 21), (0.55991316, 'we may merge this with other data we collect about you from third parties to assist us in our ability to provide the services including without limitation to advertise and provide content to you', 'POPR', 18), (0.5444707, 'your use of our sites and services following any such change constitutes your agreement that allinformation collected from or about you through our sites and services after the revised privacy policy is posted will besubject to the terms of the revised privacy policy', 'PUC', 39), (0.540309, 'our servers automatically record information that your browser sends whenever you visit the site s', 'POPR', 28), (0.5336738, 'this website incorporates reasonable safeguards to protect the security integrity completeness accuracy and privacy of the personal information that we may collect and we have put into place reasonable precautions to protect such information from loss misuse and alteration', 'POPR', 19), (0.5336636, 'to prevent unauthorized electronic access to personal information the company maintains information collected online behind a firewall protected server and uses ssl encryption for purchases made through our online store', 'POC', 5), (0.5317811, 'in order to serve offers and advertisements that may be interest to our users we may display targeted advertisements on the services based on personal information provided by our users including zip code and profile', 'POPR', 13), (0.5239537, 'by visiting the site whether as a registered user or otherwise you acknowledge understand and hereby agree that you are giving us your consent to track your activities and your use of the site through these tracking technologies and that we may use tracking technologies in the emails we send to you', 'PUC', 33), (0.52267593, 'we may also work with other companies that advertise on microsoft sites to place web beacons on their sites or in their advertisements to let us develop statistics on how often clicking on an advertisement on a microsoft site results in a purchase or other action on the advertiser is site', 'POPR', 25), (0.51987433, 'notmc and its agents use cookies so that we can improve your online experience for example by remembering you when you come back to visit the websites and making the content you see more relevant to you', 'POPR', 23), (0.5159568, 'if you authorize such a connection you permit us to share or publish information about your activity on our services with that social network and its users and to access certain of your social network information as disclosed by you at the time you consent to the connection', 'PUC', 35), (0.51171297, 'depending on your account settings multisite ids may also provide other information to us', 'PUPR', 45)]\n",
            "Do Not Track Disclosure: The JibJab Sites do not currently respond to \"Do Not Track\" signals of Web browsers.\n",
            "Extracting features...\n",
            "INFO:tensorflow:Saver not created because there are no variables in the graph to restore\n"
          ],
          "name": "stdout"
        },
        {
          "output_type": "stream",
          "text": [
            "INFO:tensorflow:Saver not created because there are no variables in the graph to restore\n"
          ],
          "name": "stderr"
        },
        {
          "output_type": "stream",
          "text": [
            "[(0.6731028, 'you may also prevent flash cookies from being placed by adjusting your preferences in the macromedia website privacy settings panel at', 'PUPR', 49), (0.66578645, 'our servers automatically record information that your browser sends whenever you visit the site s', 'POPR', 28), (0.6406017, 'this website incorporates reasonable safeguards to protect the security integrity completeness accuracy and privacy of the personal information that we may collect and we have put into place reasonable precautions to protect such information from loss misuse and alteration', 'POPR', 19), (0.6303276, 'however you may not without the prior written permission of medianews group inc medianews group interactive inc or medianews group affiliates frame any of the content of the sites or incorporate into another website any material from the sites', 'PUPR', 50), (0.62596893, 'we use your ip address to help diagnose problems with our server and to administer our web site', 'POPR', 15), (0.62196904, 'by visiting the site whether as a registered user or otherwise you acknowledge understand and hereby agree that you are giving us your consent to track your activities and your use of the site through these tracking technologies and that we may use tracking technologies in the emails we send to you', 'PUC', 33), (0.61952055, 'we may collect certain information about your computer or other device that you use to access the sites including ip address geolocation information unique device identifiers browser type browser language and other transactional information', 'POPR', 30), (0.60968363, 'your use of our sites and services following any such change constitutes your agreement that allinformation collected from or about you through our sites and services after the revised privacy policy is posted will besubject to the terms of the revised privacy policy', 'PUC', 39), (0.6064387, 'user registration with medianews web sites is completed and membership activated upon clicking a link e mailed to the address provided in registration', 'POC', 4), (0.58854824, 'in order to serve offers and advertisements that may be interest to our users we may display targeted advertisements on the services based on personal information provided by our users including zip code and profile', 'POPR', 13), (0.5865707, 'we may aggregate and or anonymize information collected by the services or via other means so that the information does not identify you', 'POPR', 26), (0.5794236, 'if medianews believes such information is untrue inaccurate not current or incomplete medianews has the right to suspend or terminate your account and refuse any and all current or future use of the sites by you', 'POPR', 16), (0.5734152, 'to use certain features of the sites you will need a username and password which you will receive through the site is registration process', 'PUC', 31), (0.5721036, 'if you authorize such a connection you permit us to share or publish information about your activity on our services with that social network and its users and to access certain of your social network information as disclosed by you at the time you consent to the connection', 'PUC', 35), (0.5718736, 'depending on your account settings multisite ids may also provide other information to us', 'PUPR', 45), (0.57092017, 'notmc and its agents use cookies so that we can improve your online experience for example by remembering you when you come back to visit the websites and making the content you see more relevant to you', 'POPR', 23), (0.56655246, 'doing this allows the advertising network to recognize your computer each time they send you an advertisement in order to measure the effectiveness of their ads and to personalize advertising content', 'PUC', 32), (0.5658869, 'we may also combine your information with other information in a way that it is no longer associated with you and share that aggregated information', 'POPR', 20), (0.5617914, 'because we serve advertisements on our own web sites as well as those of our advertising and publisher partners we are able to compile information over time about the types of pages you visit on microsoft and other sites content and ads you or others who are using your computer visited or viewed', 'POPR', 12), (0.56101876, 'web logging which enables us to collect the standard information your browser or application sends to every web site you visit such as your ip address browser type and language and the url of the site you came from as well as the pages you visit and the links you click while using our sites and services', 'POPR', 29), (0.5594132, 'cookies kinja or third parties may use cookies web beacons html local storage java script and other similar technologies to help us understand how you use the services and help us provide the services and advertising to you', 'POPR', 24), (0.53973824, 'to prevent unauthorized electronic access to personal information the company maintains information collected online behind a firewall protected server and uses ssl encryption for purchases made through our online store', 'POC', 5), (0.53863496, 'you may deactivate javascript via your browser settings or activate it the same way', 'PUPR', 43), (0.5373489, 'nevertheless you are able to control how and whether cookies will be accepted by your web browser or device', 'PUPR', 51), (0.5351794, 'you can use your browser settings to remove or block cookies on your computer', 'PUPR', 44), (0.5331831, 'if you ask us to share your personal information with a third party for its marketing purposes we will only share information in connection with that specific promotion since we do not share information with any third party other than our service providers on an ongoing basis', 'POC', 1), (0.53239316, 'your information is stored in an encrypted environment', 'PUPR', 47), (0.52140033, 'any personal information you submit in the course of interacting in these public activities can be read collected or used by other users', 'PUC', 36), (0.5135865, 'imdb also displays personalized third party advertising based on personal information about users such as information you submit to us about movies you own or have watched', 'POPR', 22), (0.5017365, 'if we modify our privacy policy on how we handle your personal information we will post the revised information here with a revised effective date at the top of this privacy policy', 'POC', 3), (0.50137305, 'we will provide you the personal information requested if it is reasonably available unless it infringes on the privacy of other individuals and subject to reasonable limitations provided by law and internal procedures', 'POC', 10), (0.50015205, 'we may also work with other companies that advertise on microsoft sites to place web beacons on their sites or in their advertisements to let us develop statistics on how often clicking on an advertisement on a microsoft site results in a purchase or other action on the advertiser is site', 'POPR', 25)]\n",
            "WE AND OUR INDEMNITEES SPECIFICALLY DISCLAIM ANY AND ALL LIABILITY IN CONNECTION WITH THE ACTS OR OMISSIONS OF SUCH MOBILE PARTICIPANTS.\n",
            "Extracting features...\n",
            "INFO:tensorflow:Saver not created because there are no variables in the graph to restore\n"
          ],
          "name": "stdout"
        },
        {
          "output_type": "stream",
          "text": [
            "INFO:tensorflow:Saver not created because there are no variables in the graph to restore\n"
          ],
          "name": "stderr"
        },
        {
          "output_type": "stream",
          "text": [
            "[(0.63290066, 'we will provide you the personal information requested if it is reasonably available unless it infringes on the privacy of other individuals and subject to reasonable limitations provided by law and internal procedures', 'POC', 10), (0.62381196, 'you agree that we and our indemnitees are not responsible and shall have no liability to you with respect to merchandise products and or services including without limitation content featured mentioned described auctioned distributed given away sold rented or otherwise available on or through the service including illegal offensive or illicit items even items that violate the agreement', 'PUC', 34), (0.60614634, 'by visiting the site whether as a registered user or otherwise you acknowledge understand and hereby agree that you are giving us your consent to track your activities and your use of the site through these tracking technologies and that we may use tracking technologies in the emails we send to you', 'PUC', 33), (0.5914125, 'we may aggregate and or anonymize information collected by the services or via other means so that the information does not identify you', 'POPR', 26), (0.5880185, 'your use of our sites and services following any such change constitutes your agreement that allinformation collected from or about you through our sites and services after the revised privacy policy is posted will besubject to the terms of the revised privacy policy', 'PUC', 39), (0.58413947, 'we will not disclose cardholder data to any third party except to facilitate and complete transactions submitted to us by merchants or otherwise in the course of providing services to our merchants or to comply with federal state and local laws or the rules and regulations of the respective card organizations or other payment entities e g', 'POC', 8), (0.58070076, 'if you authorize such a connection you permit us to share or publish information about your activity on our services with that social network and its users and to access certain of your social network information as disclosed by you at the time you consent to the connection', 'PUC', 35), (0.5760886, 'to protect your privacy and security we will also take reasonable steps to verify your identity before granting access or making corrections', 'POC', 9), (0.556814, 'this website incorporates reasonable safeguards to protect the security integrity completeness accuracy and privacy of the personal information that we may collect and we have put into place reasonable precautions to protect such information from loss misuse and alteration', 'POPR', 19), (0.52575344, 'however no data transmission over the internet or with respect to our mobile services over cellular phone networks can be guaranteed to be secure', 'POC', 2), (0.52225226, 'to do so we collect and share additional personal information like credit information so such third parties can provide the product or service you request', 'POPR', 14), (0.5179637, 'any personal information you submit in the course of interacting in these public activities can be read collected or used by other users', 'PUC', 36)]\n",
            "We use your personal information to provide you products and services, such as to fulfill your requests for products or to help us personalize our offerings to you.\n",
            "Extracting features...\n",
            "INFO:tensorflow:Saver not created because there are no variables in the graph to restore\n"
          ],
          "name": "stdout"
        },
        {
          "output_type": "stream",
          "text": [
            "INFO:tensorflow:Saver not created because there are no variables in the graph to restore\n"
          ],
          "name": "stderr"
        },
        {
          "output_type": "stream",
          "text": [
            "[(0.7815118, 'to do so we collect and share additional personal information like credit information so such third parties can provide the product or service you request', 'POPR', 14), (0.7754152, 'if you ask us to share your personal information with a third party for its marketing purposes we will only share information in connection with that specific promotion since we do not share information with any third party other than our service providers on an ongoing basis', 'POC', 1), (0.7654676, 'in order to serve offers and advertisements that may be interest to our users we may display targeted advertisements on the services based on personal information provided by our users including zip code and profile', 'POPR', 13), (0.7126817, 'by visiting the site whether as a registered user or otherwise you acknowledge understand and hereby agree that you are giving us your consent to track your activities and your use of the site through these tracking technologies and that we may use tracking technologies in the emails we send to you', 'PUC', 33), (0.7094086, 'because we serve advertisements on our own web sites as well as those of our advertising and publisher partners we are able to compile information over time about the types of pages you visit on microsoft and other sites content and ads you or others who are using your computer visited or viewed', 'POPR', 12), (0.6800695, 'we will provide you the personal information requested if it is reasonably available unless it infringes on the privacy of other individuals and subject to reasonable limitations provided by law and internal procedures', 'POC', 10), (0.67219156, 'we may aggregate and or anonymize information collected by the services or via other means so that the information does not identify you', 'POPR', 26), (0.66773176, 'any personal information you submit in the course of interacting in these public activities can be read collected or used by other users', 'PUC', 36), (0.66295964, 'cookies kinja or third parties may use cookies web beacons html local storage java script and other similar technologies to help us understand how you use the services and help us provide the services and advertising to you', 'POPR', 24), (0.64769214, 'your use of our sites and services following any such change constitutes your agreement that allinformation collected from or about you through our sites and services after the revised privacy policy is posted will besubject to the terms of the revised privacy policy', 'PUC', 39), (0.6408767, 'we will not disclose cardholder data to any third party except to facilitate and complete transactions submitted to us by merchants or otherwise in the course of providing services to our merchants or to comply with federal state and local laws or the rules and regulations of the respective card organizations or other payment entities e g', 'POC', 8), (0.63667005, 'this information will only be shared with third parties who perform tasks required to complete the purchase transaction', 'PUC', 40), (0.63046664, 'if you authorize such a connection you permit us to share or publish information about your activity on our services with that social network and its users and to access certain of your social network information as disclosed by you at the time you consent to the connection', 'PUC', 35), (0.6290926, 'we may collect certain information about your computer or other device that you use to access the sites including ip address geolocation information unique device identifiers browser type browser language and other transactional information', 'POPR', 30), (0.6286371, 'we may merge this with other data we collect about you from third parties to assist us in our ability to provide the services including without limitation to advertise and provide content to you', 'POPR', 18), (0.62388295, 'user registration with medianews web sites is completed and membership activated upon clicking a link e mailed to the address provided in registration', 'POC', 4), (0.620566, 'if we modify our privacy policy on how we handle your personal information we will post the revised information here with a revised effective date at the top of this privacy policy', 'POC', 3), (0.615105, 'we use the third party service provider dr globaltech inc as our online official re seller and for certain in game sales functions', 'POPR', 21), (0.61416066, 'we perform statistical demographic and marketing analyses of users of the nyt services and their subscribing and purchasing patterns for product development purposes and to generally inform advertisers about the nature of our subscriber base', 'POPR', 17), (0.6093135, 'to prevent unauthorized electronic access to personal information the company maintains information collected online behind a firewall protected server and uses ssl encryption for purchases made through our online store', 'POC', 5), (0.6082113, 'if you choose to submit an application to us for pre approved credit we will request that you provide personally identifiable information such as name address telephone number social security number date of birth employment information and gross monthly income', 'PUPR', 42), (0.60643834, 'we may also work with other companies that advertise on microsoft sites to place web beacons on their sites or in their advertisements to let us develop statistics on how often clicking on an advertisement on a microsoft site results in a purchase or other action on the advertiser is site', 'POPR', 25), (0.5975303, 'this website incorporates reasonable safeguards to protect the security integrity completeness accuracy and privacy of the personal information that we may collect and we have put into place reasonable precautions to protect such information from loss misuse and alteration', 'POPR', 19), (0.5859126, 'notmc and its agents use cookies so that we can improve your online experience for example by remembering you when you come back to visit the websites and making the content you see more relevant to you', 'POPR', 23), (0.58052325, 'keep in mind that any information that you choose to post to blogs discussion forums or other community or social networking services that we offer can be seen collected and used by anyone who has access to the applicable service', 'PUPR', 46), (0.5785231, 'we use your ip address to help diagnose problems with our server and to administer our web site', 'POPR', 15), (0.57267815, 'web logging which enables us to collect the standard information your browser or application sends to every web site you visit such as your ip address browser type and language and the url of the site you came from as well as the pages you visit and the links you click while using our sites and services', 'POPR', 29), (0.57147515, 'doing this allows the advertising network to recognize your computer each time they send you an advertisement in order to measure the effectiveness of their ads and to personalize advertising content', 'PUC', 32), (0.56929123, 'to protect your privacy and security we will also take reasonable steps to verify your identity before granting access or making corrections', 'POC', 9), (0.5640806, 'in these cases we require validation of credit card information already on file with us and we will then e mail the master account holder to give notice that we have received such consent', 'POC', 6), (0.5636063, 'when you register your caribou gift card on the site we ask for your name email address phone number and mailing address', 'PUC', 37), (0.5578391, 'we may also combine your information with other information in a way that it is no longer associated with you and share that aggregated information', 'POPR', 20), (0.554129, 'if you elect to publish your content via our nook press service we may ask you to provide your bank account and routing information so that we can direct payments to you', 'POPR', 11), (0.55214125, 'to use certain features of the sites you will need a username and password which you will receive through the site is registration process', 'PUC', 31), (0.5489908, 'imdb also displays personalized third party advertising based on personal information about users such as information you submit to us about movies you own or have watched', 'POPR', 22), (0.5480902, 'our servers automatically record information that your browser sends whenever you visit the site s', 'POPR', 28), (0.5434931, 'however you may not without the prior written permission of medianews group inc medianews group interactive inc or medianews group affiliates frame any of the content of the sites or incorporate into another website any material from the sites', 'PUPR', 50), (0.5340238, 'the website also provides information for healthcare professionals and offers opportunities for volunteering in food allergy research education fundraising events', 'POPR', 27), (0.5183546, 'depending on your account settings multisite ids may also provide other information to us', 'PUPR', 45), (0.51808125, 'if you are a member of an online service you may use that service is account and privacy settings to personalize the collection use and or display of your data via that service', 'PUPR', 52)]\n",
            "Using this feature will help you determine what you can afford.\n",
            "Extracting features...\n",
            "INFO:tensorflow:Saver not created because there are no variables in the graph to restore\n"
          ],
          "name": "stdout"
        },
        {
          "output_type": "stream",
          "text": [
            "INFO:tensorflow:Saver not created because there are no variables in the graph to restore\n"
          ],
          "name": "stderr"
        },
        {
          "output_type": "stream",
          "text": [
            "[]\n",
            "California Civil Code Section 1798.83 permits customers of Hat World who are California residents to request certain information regarding our disclosure of personal information to third parties for their direct marketing purposes.\n",
            "Extracting features...\n",
            "INFO:tensorflow:Saver not created because there are no variables in the graph to restore\n"
          ],
          "name": "stdout"
        },
        {
          "output_type": "stream",
          "text": [
            "INFO:tensorflow:Saver not created because there are no variables in the graph to restore\n"
          ],
          "name": "stderr"
        },
        {
          "output_type": "stream",
          "text": [
            "[(0.6355042, 'we may aggregate and or anonymize information collected by the services or via other means so that the information does not identify you', 'POPR', 26), (0.63247186, 'we will not disclose cardholder data to any third party except to facilitate and complete transactions submitted to us by merchants or otherwise in the course of providing services to our merchants or to comply with federal state and local laws or the rules and regulations of the respective card organizations or other payment entities e g', 'POC', 8), (0.6249801, 'to protect your privacy and security we will also take reasonable steps to verify your identity before granting access or making corrections', 'POC', 9), (0.62457913, 'we will provide you the personal information requested if it is reasonably available unless it infringes on the privacy of other individuals and subject to reasonable limitations provided by law and internal procedures', 'POC', 10), (0.6108661, 'this website incorporates reasonable safeguards to protect the security integrity completeness accuracy and privacy of the personal information that we may collect and we have put into place reasonable precautions to protect such information from loss misuse and alteration', 'POPR', 19), (0.59410757, 'any personal information you submit in the course of interacting in these public activities can be read collected or used by other users', 'PUC', 36), (0.5934895, 'if we modify our privacy policy on how we handle your personal information we will post the revised information here with a revised effective date at the top of this privacy policy', 'POC', 3), (0.59293216, 'to do so we collect and share additional personal information like credit information so such third parties can provide the product or service you request', 'POPR', 14), (0.586202, 'your use of our sites and services following any such change constitutes your agreement that allinformation collected from or about you through our sites and services after the revised privacy policy is posted will besubject to the terms of the revised privacy policy', 'PUC', 39), (0.5708032, 'in order to serve offers and advertisements that may be interest to our users we may display targeted advertisements on the services based on personal information provided by our users including zip code and profile', 'POPR', 13), (0.5649123, 'by visiting the site whether as a registered user or otherwise you acknowledge understand and hereby agree that you are giving us your consent to track your activities and your use of the site through these tracking technologies and that we may use tracking technologies in the emails we send to you', 'PUC', 33), (0.56472033, 'to prevent unauthorized electronic access to personal information the company maintains information collected online behind a firewall protected server and uses ssl encryption for purchases made through our online store', 'POC', 5), (0.5604555, 'if you authorize such a connection you permit us to share or publish information about your activity on our services with that social network and its users and to access certain of your social network information as disclosed by you at the time you consent to the connection', 'PUC', 35), (0.5406119, 'in these cases we require validation of credit card information already on file with us and we will then e mail the master account holder to give notice that we have received such consent', 'POC', 6), (0.5335444, 'if you choose to submit an application to us for pre approved credit we will request that you provide personally identifiable information such as name address telephone number social security number date of birth employment information and gross monthly income', 'PUPR', 42), (0.5291353, 'this information will only be shared with third parties who perform tasks required to complete the purchase transaction', 'PUC', 40), (0.52415735, 'we may also combine your information with other information in a way that it is no longer associated with you and share that aggregated information', 'POPR', 20), (0.5133997, 'you agree that we and our indemnitees are not responsible and shall have no liability to you with respect to merchandise products and or services including without limitation content featured mentioned described auctioned distributed given away sold rented or otherwise available on or through the service including illegal offensive or illicit items even items that violate the agreement', 'PUC', 34), (0.50005513, 'if the changes represent a material departure from our current practice with respect to the use of children is personal information the changes will be posted on this page thirty days prior to taking effect and will not affect children is personal information previously collected', 'POC', 7)]\n",
            "If you prefer for us to use another method to notify you in this situation, please e-mail us at  with the alternative contact information you wish to be used.\n",
            "Extracting features...\n",
            "INFO:tensorflow:Saver not created because there are no variables in the graph to restore\n"
          ],
          "name": "stdout"
        },
        {
          "output_type": "stream",
          "text": [
            "INFO:tensorflow:Saver not created because there are no variables in the graph to restore\n"
          ],
          "name": "stderr"
        },
        {
          "output_type": "stream",
          "text": [
            "[(0.62268037, 'if we modify our privacy policy on how we handle your personal information we will post the revised information here with a revised effective date at the top of this privacy policy', 'POC', 3), (0.60667783, 'by visiting the site whether as a registered user or otherwise you acknowledge understand and hereby agree that you are giving us your consent to track your activities and your use of the site through these tracking technologies and that we may use tracking technologies in the emails we send to you', 'PUC', 33), (0.5938635, 'to protect your privacy and security we will also take reasonable steps to verify your identity before granting access or making corrections', 'POC', 9), (0.5847372, 'we will provide you the personal information requested if it is reasonably available unless it infringes on the privacy of other individuals and subject to reasonable limitations provided by law and internal procedures', 'POC', 10), (0.5754143, 'we may also combine your information with other information in a way that it is no longer associated with you and share that aggregated information', 'POPR', 20), (0.5739804, 'in these cases we require validation of credit card information already on file with us and we will then e mail the master account holder to give notice that we have received such consent', 'POC', 6), (0.571439, 'if you choose to submit an application to us for pre approved credit we will request that you provide personally identifiable information such as name address telephone number social security number date of birth employment information and gross monthly income', 'PUPR', 42), (0.5713432, 'we use your ip address to help diagnose problems with our server and to administer our web site', 'POPR', 15), (0.5695055, 'we may aggregate and or anonymize information collected by the services or via other means so that the information does not identify you', 'POPR', 26), (0.5649859, 'in order to serve offers and advertisements that may be interest to our users we may display targeted advertisements on the services based on personal information provided by our users including zip code and profile', 'POPR', 13), (0.55459, 'this website incorporates reasonable safeguards to protect the security integrity completeness accuracy and privacy of the personal information that we may collect and we have put into place reasonable precautions to protect such information from loss misuse and alteration', 'POPR', 19), (0.5491795, 'if you wish to review or delete any profile information that you have provided us regarding a child or ask that we stop using such information you may do so at any time through the settings area of your account or by contacting us using the information below', 'POC', 0), (0.54513174, 'any personal information you submit in the course of interacting in these public activities can be read collected or used by other users', 'PUC', 36), (0.5434269, 'to do so we collect and share additional personal information like credit information so such third parties can provide the product or service you request', 'POPR', 14), (0.52501565, 'your use of our sites and services following any such change constitutes your agreement that allinformation collected from or about you through our sites and services after the revised privacy policy is posted will besubject to the terms of the revised privacy policy', 'PUC', 39), (0.5216969, 'we may merge this with other data we collect about you from third parties to assist us in our ability to provide the services including without limitation to advertise and provide content to you', 'POPR', 18), (0.52043617, 'if you authorize such a connection you permit us to share or publish information about your activity on our services with that social network and its users and to access certain of your social network information as disclosed by you at the time you consent to the connection', 'PUC', 35), (0.5179575, 'if you ask us to share your personal information with a third party for its marketing purposes we will only share information in connection with that specific promotion since we do not share information with any third party other than our service providers on an ongoing basis', 'POC', 1), (0.514985, 'we may collect certain information about your computer or other device that you use to access the sites including ip address geolocation information unique device identifiers browser type browser language and other transactional information', 'POPR', 30), (0.50481886, 'we will not disclose cardholder data to any third party except to facilitate and complete transactions submitted to us by merchants or otherwise in the course of providing services to our merchants or to comply with federal state and local laws or the rules and regulations of the respective card organizations or other payment entities e g', 'POC', 8)]\n",
            "Disputes and Jurisdiction:\n",
            "Extracting features...\n",
            "INFO:tensorflow:Saver not created because there are no variables in the graph to restore\n"
          ],
          "name": "stdout"
        },
        {
          "output_type": "stream",
          "text": [
            "INFO:tensorflow:Saver not created because there are no variables in the graph to restore\n"
          ],
          "name": "stderr"
        },
        {
          "output_type": "stream",
          "text": [
            "[(0.52668625, 'you agree that we and our indemnitees are not responsible and shall have no liability to you with respect to merchandise products and or services including without limitation content featured mentioned described auctioned distributed given away sold rented or otherwise available on or through the service including illegal offensive or illicit items even items that violate the agreement', 'PUC', 34)]\n",
            "TEN: The Enthusiast Network Privacy Policy\n",
            "Extracting features...\n",
            "INFO:tensorflow:Saver not created because there are no variables in the graph to restore\n"
          ],
          "name": "stdout"
        },
        {
          "output_type": "stream",
          "text": [
            "INFO:tensorflow:Saver not created because there are no variables in the graph to restore\n"
          ],
          "name": "stderr"
        },
        {
          "output_type": "stream",
          "text": [
            "[(0.6304013, 'your use of our sites and services following any such change constitutes your agreement that allinformation collected from or about you through our sites and services after the revised privacy policy is posted will besubject to the terms of the revised privacy policy', 'PUC', 39), (0.6180592, 'this website incorporates reasonable safeguards to protect the security integrity completeness accuracy and privacy of the personal information that we may collect and we have put into place reasonable precautions to protect such information from loss misuse and alteration', 'POPR', 19), (0.5621514, 'we may merge this with other data we collect about you from third parties to assist us in our ability to provide the services including without limitation to advertise and provide content to you', 'POPR', 18), (0.56178033, 'in order to serve offers and advertisements that may be interest to our users we may display targeted advertisements on the services based on personal information provided by our users including zip code and profile', 'POPR', 13), (0.5589903, 'by visiting the site whether as a registered user or otherwise you acknowledge understand and hereby agree that you are giving us your consent to track your activities and your use of the site through these tracking technologies and that we may use tracking technologies in the emails we send to you', 'PUC', 33), (0.5581977, 'we may collect certain information about your computer or other device that you use to access the sites including ip address geolocation information unique device identifiers browser type browser language and other transactional information', 'POPR', 30), (0.54561245, 'if you authorize such a connection you permit us to share or publish information about your activity on our services with that social network and its users and to access certain of your social network information as disclosed by you at the time you consent to the connection', 'PUC', 35), (0.54446155, 'we may aggregate and or anonymize information collected by the services or via other means so that the information does not identify you', 'POPR', 26), (0.5297758, 'user registration with medianews web sites is completed and membership activated upon clicking a link e mailed to the address provided in registration', 'POC', 4), (0.5159258, 'to prevent unauthorized electronic access to personal information the company maintains information collected online behind a firewall protected server and uses ssl encryption for purchases made through our online store', 'POC', 5), (0.51373535, 'to protect your privacy and security we will also take reasonable steps to verify your identity before granting access or making corrections', 'POC', 9), (0.5131883, 'if we modify our privacy policy on how we handle your personal information we will post the revised information here with a revised effective date at the top of this privacy policy', 'POC', 3), (0.50736207, 'we will provide you the personal information requested if it is reasonably available unless it infringes on the privacy of other individuals and subject to reasonable limitations provided by law and internal procedures', 'POC', 10), (0.504752, 'to do so we collect and share additional personal information like credit information so such third parties can provide the product or service you request', 'POPR', 14)]\n",
            "You can choose not to receive messages in the future by following the \"unsubscribe\" instructions located near the bottom of each email.\n",
            "Extracting features...\n",
            "INFO:tensorflow:Saver not created because there are no variables in the graph to restore\n"
          ],
          "name": "stdout"
        },
        {
          "output_type": "stream",
          "text": [
            "INFO:tensorflow:Saver not created because there are no variables in the graph to restore\n"
          ],
          "name": "stderr"
        },
        {
          "output_type": "stream",
          "text": [
            "[(0.5668475, 'you can use your browser settings to remove or block cookies on your computer', 'PUPR', 44), (0.5489821, 'you may deactivate javascript via your browser settings or activate it the same way', 'PUPR', 43), (0.5440298, 'user registration with medianews web sites is completed and membership activated upon clicking a link e mailed to the address provided in registration', 'POC', 4)]\n",
            "This Privacy Policy does not apply to other GameStop brands such as BuyMyTronics, Game Informer, Kongregate, or PC Downloads, each of which has its own privacy policy.\n",
            "Extracting features...\n",
            "INFO:tensorflow:Saver not created because there are no variables in the graph to restore\n"
          ],
          "name": "stdout"
        },
        {
          "output_type": "stream",
          "text": [
            "INFO:tensorflow:Saver not created because there are no variables in the graph to restore\n"
          ],
          "name": "stderr"
        },
        {
          "output_type": "stream",
          "text": [
            "[(0.61993116, 'to prevent unauthorized electronic access to personal information the company maintains information collected online behind a firewall protected server and uses ssl encryption for purchases made through our online store', 'POC', 5), (0.6053186, 'your use of our sites and services following any such change constitutes your agreement that allinformation collected from or about you through our sites and services after the revised privacy policy is posted will besubject to the terms of the revised privacy policy', 'PUC', 39), (0.60478157, 'to do so we collect and share additional personal information like credit information so such third parties can provide the product or service you request', 'POPR', 14), (0.57900363, 'however you may not without the prior written permission of medianews group inc medianews group interactive inc or medianews group affiliates frame any of the content of the sites or incorporate into another website any material from the sites', 'PUPR', 50), (0.5727656, 'if you authorize such a connection you permit us to share or publish information about your activity on our services with that social network and its users and to access certain of your social network information as disclosed by you at the time you consent to the connection', 'PUC', 35), (0.57096845, 'this information will only be shared with third parties who perform tasks required to complete the purchase transaction', 'PUC', 40), (0.55728537, 'if medianews believes such information is untrue inaccurate not current or incomplete medianews has the right to suspend or terminate your account and refuse any and all current or future use of the sites by you', 'POPR', 16), (0.55481946, 'any personal information you submit in the course of interacting in these public activities can be read collected or used by other users', 'PUC', 36), (0.5512243, 'if you ask us to share your personal information with a third party for its marketing purposes we will only share information in connection with that specific promotion since we do not share information with any third party other than our service providers on an ongoing basis', 'POC', 1), (0.5464098, 'we will provide you the personal information requested if it is reasonably available unless it infringes on the privacy of other individuals and subject to reasonable limitations provided by law and internal procedures', 'POC', 10), (0.5457631, 'by visiting the site whether as a registered user or otherwise you acknowledge understand and hereby agree that you are giving us your consent to track your activities and your use of the site through these tracking technologies and that we may use tracking technologies in the emails we send to you', 'PUC', 33), (0.545656, 'imdb also displays personalized third party advertising based on personal information about users such as information you submit to us about movies you own or have watched', 'POPR', 22), (0.5353531, 'we will not disclose cardholder data to any third party except to facilitate and complete transactions submitted to us by merchants or otherwise in the course of providing services to our merchants or to comply with federal state and local laws or the rules and regulations of the respective card organizations or other payment entities e g', 'POC', 8), (0.532055, 'we may aggregate and or anonymize information collected by the services or via other means so that the information does not identify you', 'POPR', 26), (0.5304206, 'in these cases we require validation of credit card information already on file with us and we will then e mail the master account holder to give notice that we have received such consent', 'POC', 6), (0.5202321, 'because we serve advertisements on our own web sites as well as those of our advertising and publisher partners we are able to compile information over time about the types of pages you visit on microsoft and other sites content and ads you or others who are using your computer visited or viewed', 'POPR', 12), (0.5195694, 'if we modify our privacy policy on how we handle your personal information we will post the revised information here with a revised effective date at the top of this privacy policy', 'POC', 3), (0.5189974, 'this website incorporates reasonable safeguards to protect the security integrity completeness accuracy and privacy of the personal information that we may collect and we have put into place reasonable precautions to protect such information from loss misuse and alteration', 'POPR', 19), (0.51179916, 'if you are a member of an online service you may use that service is account and privacy settings to personalize the collection use and or display of your data via that service', 'PUPR', 52), (0.5103181, 'to protect your privacy and security we will also take reasonable steps to verify your identity before granting access or making corrections', 'POC', 9), (0.5050863, 'we may collect certain information about your computer or other device that you use to access the sites including ip address geolocation information unique device identifiers browser type browser language and other transactional information', 'POPR', 30)]\n",
            "Chicago Office\n",
            "Extracting features...\n",
            "INFO:tensorflow:Saver not created because there are no variables in the graph to restore\n"
          ],
          "name": "stdout"
        },
        {
          "output_type": "stream",
          "text": [
            "INFO:tensorflow:Saver not created because there are no variables in the graph to restore\n"
          ],
          "name": "stderr"
        },
        {
          "output_type": "stream",
          "text": [
            "[]\n",
            "Overview\n",
            "Extracting features...\n",
            "INFO:tensorflow:Saver not created because there are no variables in the graph to restore\n"
          ],
          "name": "stdout"
        },
        {
          "output_type": "stream",
          "text": [
            "INFO:tensorflow:Saver not created because there are no variables in the graph to restore\n"
          ],
          "name": "stderr"
        },
        {
          "output_type": "stream",
          "text": [
            "[]\n",
            "Valve has no obligation to keep private personally identifiable information that a user makes available to other users or the public using these functions.\n",
            "Extracting features...\n",
            "INFO:tensorflow:Saver not created because there are no variables in the graph to restore\n"
          ],
          "name": "stdout"
        },
        {
          "output_type": "stream",
          "text": [
            "INFO:tensorflow:Saver not created because there are no variables in the graph to restore\n"
          ],
          "name": "stderr"
        },
        {
          "output_type": "stream",
          "text": [
            "[(0.6702276, 'if you authorize such a connection you permit us to share or publish information about your activity on our services with that social network and its users and to access certain of your social network information as disclosed by you at the time you consent to the connection', 'PUC', 35), (0.66690075, 'any personal information you submit in the course of interacting in these public activities can be read collected or used by other users', 'PUC', 36), (0.6510869, 'we will provide you the personal information requested if it is reasonably available unless it infringes on the privacy of other individuals and subject to reasonable limitations provided by law and internal procedures', 'POC', 10), (0.64891607, 'we may aggregate and or anonymize information collected by the services or via other means so that the information does not identify you', 'POPR', 26), (0.60386556, 'your use of our sites and services following any such change constitutes your agreement that allinformation collected from or about you through our sites and services after the revised privacy policy is posted will besubject to the terms of the revised privacy policy', 'PUC', 39), (0.5989278, 'to do so we collect and share additional personal information like credit information so such third parties can provide the product or service you request', 'POPR', 14), (0.57910997, 'if medianews believes such information is untrue inaccurate not current or incomplete medianews has the right to suspend or terminate your account and refuse any and all current or future use of the sites by you', 'POPR', 16), (0.5790367, 'by visiting the site whether as a registered user or otherwise you acknowledge understand and hereby agree that you are giving us your consent to track your activities and your use of the site through these tracking technologies and that we may use tracking technologies in the emails we send to you', 'PUC', 33), (0.5726113, 'this information will only be shared with third parties who perform tasks required to complete the purchase transaction', 'PUC', 40), (0.5699291, 'however you may not without the prior written permission of medianews group inc medianews group interactive inc or medianews group affiliates frame any of the content of the sites or incorporate into another website any material from the sites', 'PUPR', 50), (0.567377, 'your information is stored in an encrypted environment', 'PUPR', 47), (0.5463733, 'to protect your privacy and security we will also take reasonable steps to verify your identity before granting access or making corrections', 'POC', 9), (0.5450131, 'if you ask us to share your personal information with a third party for its marketing purposes we will only share information in connection with that specific promotion since we do not share information with any third party other than our service providers on an ongoing basis', 'POC', 1), (0.53640467, 'if we modify our privacy policy on how we handle your personal information we will post the revised information here with a revised effective date at the top of this privacy policy', 'POC', 3), (0.53549534, 'our servers automatically record information that your browser sends whenever you visit the site s', 'POPR', 28), (0.5286508, 'this website incorporates reasonable safeguards to protect the security integrity completeness accuracy and privacy of the personal information that we may collect and we have put into place reasonable precautions to protect such information from loss misuse and alteration', 'POPR', 19), (0.5259275, 'we may also combine your information with other information in a way that it is no longer associated with you and share that aggregated information', 'POPR', 20), (0.5223449, 'to prevent unauthorized electronic access to personal information the company maintains information collected online behind a firewall protected server and uses ssl encryption for purchases made through our online store', 'POC', 5), (0.5167857, 'we may collect certain information about your computer or other device that you use to access the sites including ip address geolocation information unique device identifiers browser type browser language and other transactional information', 'POPR', 30)]\n",
            "See also the Honda Financial Services \"Apply for Pre-Approved Credit\" section below to understand how Honda Financial Services handles the information provided on the credit application.\n",
            "Extracting features...\n",
            "INFO:tensorflow:Saver not created because there are no variables in the graph to restore\n"
          ],
          "name": "stdout"
        },
        {
          "output_type": "stream",
          "text": [
            "INFO:tensorflow:Saver not created because there are no variables in the graph to restore\n"
          ],
          "name": "stderr"
        },
        {
          "output_type": "stream",
          "text": [
            "[(0.70916957, 'if you choose to submit an application to us for pre approved credit we will request that you provide personally identifiable information such as name address telephone number social security number date of birth employment information and gross monthly income', 'PUPR', 42), (0.6015509, 'in these cases we require validation of credit card information already on file with us and we will then e mail the master account holder to give notice that we have received such consent', 'POC', 6), (0.5737707, 'this information will only be shared with third parties who perform tasks required to complete the purchase transaction', 'PUC', 40), (0.56182873, 'to do so we collect and share additional personal information like credit information so such third parties can provide the product or service you request', 'POPR', 14), (0.5325441, 'we will not disclose cardholder data to any third party except to facilitate and complete transactions submitted to us by merchants or otherwise in the course of providing services to our merchants or to comply with federal state and local laws or the rules and regulations of the respective card organizations or other payment entities e g', 'POC', 8), (0.5121437, 'depending on your account settings multisite ids may also provide other information to us', 'PUPR', 45)]\n",
            "How We Use and Share Your Personal Information\n",
            "Extracting features...\n",
            "INFO:tensorflow:Saver not created because there are no variables in the graph to restore\n"
          ],
          "name": "stdout"
        },
        {
          "output_type": "stream",
          "text": [
            "INFO:tensorflow:Saver not created because there are no variables in the graph to restore\n"
          ],
          "name": "stderr"
        },
        {
          "output_type": "stream",
          "text": [
            "[(0.76023644, 'we may aggregate and or anonymize information collected by the services or via other means so that the information does not identify you', 'POPR', 26), (0.75582623, 'any personal information you submit in the course of interacting in these public activities can be read collected or used by other users', 'PUC', 36), (0.7305123, 'this website incorporates reasonable safeguards to protect the security integrity completeness accuracy and privacy of the personal information that we may collect and we have put into place reasonable precautions to protect such information from loss misuse and alteration', 'POPR', 19), (0.72472197, 'if you authorize such a connection you permit us to share or publish information about your activity on our services with that social network and its users and to access certain of your social network information as disclosed by you at the time you consent to the connection', 'PUC', 35), (0.7211628, 'we may also combine your information with other information in a way that it is no longer associated with you and share that aggregated information', 'POPR', 20), (0.71940374, 'to do so we collect and share additional personal information like credit information so such third parties can provide the product or service you request', 'POPR', 14), (0.7158234, 'we will provide you the personal information requested if it is reasonably available unless it infringes on the privacy of other individuals and subject to reasonable limitations provided by law and internal procedures', 'POC', 10), (0.67738384, 'to protect your privacy and security we will also take reasonable steps to verify your identity before granting access or making corrections', 'POC', 9), (0.67572653, 'by visiting the site whether as a registered user or otherwise you acknowledge understand and hereby agree that you are giving us your consent to track your activities and your use of the site through these tracking technologies and that we may use tracking technologies in the emails we send to you', 'PUC', 33), (0.6733897, 'if we modify our privacy policy on how we handle your personal information we will post the revised information here with a revised effective date at the top of this privacy policy', 'POC', 3), (0.65876806, 'we may collect certain information about your computer or other device that you use to access the sites including ip address geolocation information unique device identifiers browser type browser language and other transactional information', 'POPR', 30), (0.6485049, 'our servers automatically record information that your browser sends whenever you visit the site s', 'POPR', 28), (0.64297944, 'in order to serve offers and advertisements that may be interest to our users we may display targeted advertisements on the services based on personal information provided by our users including zip code and profile', 'POPR', 13), (0.6156512, 'depending on your account settings multisite ids may also provide other information to us', 'PUPR', 45), (0.61291295, 'user registration with medianews web sites is completed and membership activated upon clicking a link e mailed to the address provided in registration', 'POC', 4), (0.6063424, 'to prevent unauthorized electronic access to personal information the company maintains information collected online behind a firewall protected server and uses ssl encryption for purchases made through our online store', 'POC', 5), (0.60488635, 'your use of our sites and services following any such change constitutes your agreement that allinformation collected from or about you through our sites and services after the revised privacy policy is posted will besubject to the terms of the revised privacy policy', 'PUC', 39), (0.5933452, 'notmc and its agents use cookies so that we can improve your online experience for example by remembering you when you come back to visit the websites and making the content you see more relevant to you', 'POPR', 23), (0.5923456, 'we may merge this with other data we collect about you from third parties to assist us in our ability to provide the services including without limitation to advertise and provide content to you', 'POPR', 18), (0.5916694, 'your information is stored in an encrypted environment', 'PUPR', 47), (0.5909164, 'web logging which enables us to collect the standard information your browser or application sends to every web site you visit such as your ip address browser type and language and the url of the site you came from as well as the pages you visit and the links you click while using our sites and services', 'POPR', 29), (0.58413416, 'if you ask us to share your personal information with a third party for its marketing purposes we will only share information in connection with that specific promotion since we do not share information with any third party other than our service providers on an ongoing basis', 'POC', 1), (0.58140314, 'if you are a member of an online service you may use that service is account and privacy settings to personalize the collection use and or display of your data via that service', 'PUPR', 52), (0.57589513, 'we use your ip address to help diagnose problems with our server and to administer our web site', 'POPR', 15), (0.56176955, 'if you wish to review or delete any profile information that you have provided us regarding a child or ask that we stop using such information you may do so at any time through the settings area of your account or by contacting us using the information below', 'POC', 0), (0.5535911, 'if you choose to submit an application to us for pre approved credit we will request that you provide personally identifiable information such as name address telephone number social security number date of birth employment information and gross monthly income', 'PUPR', 42), (0.54391193, 'we will not disclose cardholder data to any third party except to facilitate and complete transactions submitted to us by merchants or otherwise in the course of providing services to our merchants or to comply with federal state and local laws or the rules and regulations of the respective card organizations or other payment entities e g', 'POC', 8), (0.53466296, 'in these cases we require validation of credit card information already on file with us and we will then e mail the master account holder to give notice that we have received such consent', 'POC', 6), (0.5286838, 'because we serve advertisements on our own web sites as well as those of our advertising and publisher partners we are able to compile information over time about the types of pages you visit on microsoft and other sites content and ads you or others who are using your computer visited or viewed', 'POPR', 12), (0.5284705, 'keep in mind that any information that you choose to post to blogs discussion forums or other community or social networking services that we offer can be seen collected and used by anyone who has access to the applicable service', 'PUPR', 46), (0.52796334, 'imdb also displays personalized third party advertising based on personal information about users such as information you submit to us about movies you own or have watched', 'POPR', 22), (0.5260626, 'to use certain features of the sites you will need a username and password which you will receive through the site is registration process', 'PUC', 31), (0.51418793, 'cookies kinja or third parties may use cookies web beacons html local storage java script and other similar technologies to help us understand how you use the services and help us provide the services and advertising to you', 'POPR', 24), (0.50250643, 'however no data transmission over the internet or with respect to our mobile services over cellular phone networks can be guaranteed to be secure', 'POC', 2)]\n",
            "This means that while we do not share or sell information unless solicited, in some cases we may be compelled by Open Records law to release information.\n",
            "Extracting features...\n",
            "INFO:tensorflow:Saver not created because there are no variables in the graph to restore\n"
          ],
          "name": "stdout"
        },
        {
          "output_type": "stream",
          "text": [
            "INFO:tensorflow:Saver not created because there are no variables in the graph to restore\n"
          ],
          "name": "stderr"
        },
        {
          "output_type": "stream",
          "text": [
            "[(0.8023958, 'we will provide you the personal information requested if it is reasonably available unless it infringes on the privacy of other individuals and subject to reasonable limitations provided by law and internal procedures', 'POC', 10), (0.79261136, 'we may aggregate and or anonymize information collected by the services or via other means so that the information does not identify you', 'POPR', 26), (0.7290961, 'your use of our sites and services following any such change constitutes your agreement that allinformation collected from or about you through our sites and services after the revised privacy policy is posted will besubject to the terms of the revised privacy policy', 'PUC', 39), (0.72091603, 'if you authorize such a connection you permit us to share or publish information about your activity on our services with that social network and its users and to access certain of your social network information as disclosed by you at the time you consent to the connection', 'PUC', 35), (0.7197679, 'by visiting the site whether as a registered user or otherwise you acknowledge understand and hereby agree that you are giving us your consent to track your activities and your use of the site through these tracking technologies and that we may use tracking technologies in the emails we send to you', 'PUC', 33), (0.69300836, 'to protect your privacy and security we will also take reasonable steps to verify your identity before granting access or making corrections', 'POC', 9), (0.6822615, 'we may also combine your information with other information in a way that it is no longer associated with you and share that aggregated information', 'POPR', 20), (0.66759217, 'if we modify our privacy policy on how we handle your personal information we will post the revised information here with a revised effective date at the top of this privacy policy', 'POC', 3), (0.6673333, 'we will not disclose cardholder data to any third party except to facilitate and complete transactions submitted to us by merchants or otherwise in the course of providing services to our merchants or to comply with federal state and local laws or the rules and regulations of the respective card organizations or other payment entities e g', 'POC', 8), (0.6593703, 'to do so we collect and share additional personal information like credit information so such third parties can provide the product or service you request', 'POPR', 14), (0.6547441, 'any personal information you submit in the course of interacting in these public activities can be read collected or used by other users', 'PUC', 36), (0.62415296, 'in these cases we require validation of credit card information already on file with us and we will then e mail the master account holder to give notice that we have received such consent', 'POC', 6), (0.61842245, 'you agree that we and our indemnitees are not responsible and shall have no liability to you with respect to merchandise products and or services including without limitation content featured mentioned described auctioned distributed given away sold rented or otherwise available on or through the service including illegal offensive or illicit items even items that violate the agreement', 'PUC', 34), (0.6075889, 'this information will only be shared with third parties who perform tasks required to complete the purchase transaction', 'PUC', 40), (0.6070657, 'this website incorporates reasonable safeguards to protect the security integrity completeness accuracy and privacy of the personal information that we may collect and we have put into place reasonable precautions to protect such information from loss misuse and alteration', 'POPR', 19), (0.5834362, 'your information is stored in an encrypted environment', 'PUPR', 47), (0.5833229, 'if you ask us to share your personal information with a third party for its marketing purposes we will only share information in connection with that specific promotion since we do not share information with any third party other than our service providers on an ongoing basis', 'POC', 1), (0.57739836, 'we may collect certain information about your computer or other device that you use to access the sites including ip address geolocation information unique device identifiers browser type browser language and other transactional information', 'POPR', 30), (0.56893575, 'however you may not without the prior written permission of medianews group inc medianews group interactive inc or medianews group affiliates frame any of the content of the sites or incorporate into another website any material from the sites', 'PUPR', 50), (0.55987173, 'keep in mind that any information that you choose to post to blogs discussion forums or other community or social networking services that we offer can be seen collected and used by anyone who has access to the applicable service', 'PUPR', 46), (0.55850905, 'we may merge this with other data we collect about you from third parties to assist us in our ability to provide the services including without limitation to advertise and provide content to you', 'POPR', 18), (0.55383897, 'if the changes represent a material departure from our current practice with respect to the use of children is personal information the changes will be posted on this page thirty days prior to taking effect and will not affect children is personal information previously collected', 'POC', 7), (0.5502586, 'if medianews believes such information is untrue inaccurate not current or incomplete medianews has the right to suspend or terminate your account and refuse any and all current or future use of the sites by you', 'POPR', 16), (0.5321618, 'when you update information your old information is replaced by your new information', 'PUC', 41), (0.5301663, 'in order to serve offers and advertisements that may be interest to our users we may display targeted advertisements on the services based on personal information provided by our users including zip code and profile', 'POPR', 13), (0.5237002, 'if you choose to submit an application to us for pre approved credit we will request that you provide personally identifiable information such as name address telephone number social security number date of birth employment information and gross monthly income', 'PUPR', 42), (0.52093816, 'to prevent unauthorized electronic access to personal information the company maintains information collected online behind a firewall protected server and uses ssl encryption for purchases made through our online store', 'POC', 5), (0.5199323, 'if you are a member of an online service you may use that service is account and privacy settings to personalize the collection use and or display of your data via that service', 'PUPR', 52), (0.50084466, 'because we serve advertisements on our own web sites as well as those of our advertising and publisher partners we are able to compile information over time about the types of pages you visit on microsoft and other sites content and ads you or others who are using your computer visited or viewed', 'POPR', 12)]\n",
            "We also may track how many recipients of our e-mail newsletters click through to other sites.\n",
            "Extracting features...\n",
            "INFO:tensorflow:Saver not created because there are no variables in the graph to restore\n"
          ],
          "name": "stdout"
        },
        {
          "output_type": "stream",
          "text": [
            "INFO:tensorflow:Saver not created because there are no variables in the graph to restore\n"
          ],
          "name": "stderr"
        },
        {
          "output_type": "stream",
          "text": [
            "[(0.69420135, 'depending on your account settings multisite ids may also provide other information to us', 'PUPR', 45), (0.6746657, 'user registration with medianews web sites is completed and membership activated upon clicking a link e mailed to the address provided in registration', 'POC', 4), (0.6629365, 'our servers automatically record information that your browser sends whenever you visit the site s', 'POPR', 28), (0.65052223, 'in order to serve offers and advertisements that may be interest to our users we may display targeted advertisements on the services based on personal information provided by our users including zip code and profile', 'POPR', 13), (0.6441681, 'we may also work with other companies that advertise on microsoft sites to place web beacons on their sites or in their advertisements to let us develop statistics on how often clicking on an advertisement on a microsoft site results in a purchase or other action on the advertiser is site', 'POPR', 25), (0.61844176, 'web logging which enables us to collect the standard information your browser or application sends to every web site you visit such as your ip address browser type and language and the url of the site you came from as well as the pages you visit and the links you click while using our sites and services', 'POPR', 29), (0.6106731, 'if you are a member of an online service you may use that service is account and privacy settings to personalize the collection use and or display of your data via that service', 'PUPR', 52), (0.59893495, 'we may also combine your information with other information in a way that it is no longer associated with you and share that aggregated information', 'POPR', 20), (0.5968011, 'doing this allows the advertising network to recognize your computer each time they send you an advertisement in order to measure the effectiveness of their ads and to personalize advertising content', 'PUC', 32), (0.592443, 'to use certain features of the sites you will need a username and password which you will receive through the site is registration process', 'PUC', 31), (0.59188867, 'notmc and its agents use cookies so that we can improve your online experience for example by remembering you when you come back to visit the websites and making the content you see more relevant to you', 'POPR', 23), (0.5888932, 'when you register your caribou gift card on the site we ask for your name email address phone number and mailing address', 'PUC', 37), (0.5888696, 'because we serve advertisements on our own web sites as well as those of our advertising and publisher partners we are able to compile information over time about the types of pages you visit on microsoft and other sites content and ads you or others who are using your computer visited or viewed', 'POPR', 12), (0.5884711, 'we perform statistical demographic and marketing analyses of users of the nyt services and their subscribing and purchasing patterns for product development purposes and to generally inform advertisers about the nature of our subscriber base', 'POPR', 17), (0.5872608, 'we may aggregate and or anonymize information collected by the services or via other means so that the information does not identify you', 'POPR', 26), (0.5836763, 'we may collect certain information about your computer or other device that you use to access the sites including ip address geolocation information unique device identifiers browser type browser language and other transactional information', 'POPR', 30), (0.5832669, 'to do so we collect and share additional personal information like credit information so such third parties can provide the product or service you request', 'POPR', 14), (0.5821928, 'by visiting the site whether as a registered user or otherwise you acknowledge understand and hereby agree that you are giving us your consent to track your activities and your use of the site through these tracking technologies and that we may use tracking technologies in the emails we send to you', 'PUC', 33), (0.5785511, 'the website also provides information for healthcare professionals and offers opportunities for volunteering in food allergy research education fundraising events', 'POPR', 27), (0.56656855, 'imdb also displays personalized third party advertising based on personal information about users such as information you submit to us about movies you own or have watched', 'POPR', 22), (0.56322753, 'we may merge this with other data we collect about you from third parties to assist us in our ability to provide the services including without limitation to advertise and provide content to you', 'POPR', 18), (0.5629045, 'cookies kinja or third parties may use cookies web beacons html local storage java script and other similar technologies to help us understand how you use the services and help us provide the services and advertising to you', 'POPR', 24), (0.56290156, 'any personal information you submit in the course of interacting in these public activities can be read collected or used by other users', 'PUC', 36), (0.5615601, 'we use your ip address to help diagnose problems with our server and to administer our web site', 'POPR', 15), (0.560336, 'this website incorporates reasonable safeguards to protect the security integrity completeness accuracy and privacy of the personal information that we may collect and we have put into place reasonable precautions to protect such information from loss misuse and alteration', 'POPR', 19), (0.55539894, 'if we modify our privacy policy on how we handle your personal information we will post the revised information here with a revised effective date at the top of this privacy policy', 'POC', 3), (0.5501681, 'you may also prevent flash cookies from being placed by adjusting your preferences in the macromedia website privacy settings panel at', 'PUPR', 49), (0.54986787, 'if you choose to submit an application to us for pre approved credit we will request that you provide personally identifiable information such as name address telephone number social security number date of birth employment information and gross monthly income', 'PUPR', 42), (0.5381682, 'keep in mind that any information that you choose to post to blogs discussion forums or other community or social networking services that we offer can be seen collected and used by anyone who has access to the applicable service', 'PUPR', 46), (0.5220394, 'your use of our sites and services following any such change constitutes your agreement that allinformation collected from or about you through our sites and services after the revised privacy policy is posted will besubject to the terms of the revised privacy policy', 'PUC', 39), (0.5188667, 'you can use your browser settings to remove or block cookies on your computer', 'PUPR', 44), (0.51728475, 'this information will only be shared with third parties who perform tasks required to complete the purchase transaction', 'PUC', 40), (0.5109677, 'we will provide you the personal information requested if it is reasonably available unless it infringes on the privacy of other individuals and subject to reasonable limitations provided by law and internal procedures', 'POC', 10), (0.50623167, 'to protect your privacy and security we will also take reasonable steps to verify your identity before granting access or making corrections', 'POC', 9)]\n",
            "Web site URL : \n",
            "Extracting features...\n",
            "INFO:tensorflow:Saver not created because there are no variables in the graph to restore\n"
          ],
          "name": "stdout"
        },
        {
          "output_type": "stream",
          "text": [
            "INFO:tensorflow:Saver not created because there are no variables in the graph to restore\n"
          ],
          "name": "stderr"
        },
        {
          "output_type": "stream",
          "text": [
            "[(0.5634065, 'user registration with medianews web sites is completed and membership activated upon clicking a link e mailed to the address provided in registration', 'POC', 4), (0.51541835, 'to use certain features of the sites you will need a username and password which you will receive through the site is registration process', 'PUC', 31)]\n",
            "Do-Not-Track Signals and Similar Mechanisms.\n",
            "Extracting features...\n",
            "INFO:tensorflow:Saver not created because there are no variables in the graph to restore\n"
          ],
          "name": "stdout"
        },
        {
          "output_type": "stream",
          "text": [
            "INFO:tensorflow:Saver not created because there are no variables in the graph to restore\n"
          ],
          "name": "stderr"
        },
        {
          "output_type": "stream",
          "text": [
            "[]\n",
            "Governing Law & Notice to Non-U.S. Users\n",
            "Extracting features...\n",
            "INFO:tensorflow:Saver not created because there are no variables in the graph to restore\n"
          ],
          "name": "stdout"
        },
        {
          "output_type": "stream",
          "text": [
            "INFO:tensorflow:Saver not created because there are no variables in the graph to restore\n"
          ],
          "name": "stderr"
        },
        {
          "output_type": "stream",
          "text": [
            "[(0.5421442, 'your use of our sites and services following any such change constitutes your agreement that allinformation collected from or about you through our sites and services after the revised privacy policy is posted will besubject to the terms of the revised privacy policy', 'PUC', 39), (0.52384937, 'this website incorporates reasonable safeguards to protect the security integrity completeness accuracy and privacy of the personal information that we may collect and we have put into place reasonable precautions to protect such information from loss misuse and alteration', 'POPR', 19), (0.5221269, 'to protect your privacy and security we will also take reasonable steps to verify your identity before granting access or making corrections', 'POC', 9), (0.5038307, 'if we modify our privacy policy on how we handle your personal information we will post the revised information here with a revised effective date at the top of this privacy policy', 'POC', 3)]\n",
            "In order to use certain features of the Library's websites, you may need to submit personal information so we can respond appropriately.\n",
            "Extracting features...\n",
            "INFO:tensorflow:Saver not created because there are no variables in the graph to restore\n"
          ],
          "name": "stdout"
        },
        {
          "output_type": "stream",
          "text": [
            "INFO:tensorflow:Saver not created because there are no variables in the graph to restore\n"
          ],
          "name": "stderr"
        },
        {
          "output_type": "stream",
          "text": [
            "[(0.68839926, 'keep in mind that any information that you choose to post to blogs discussion forums or other community or social networking services that we offer can be seen collected and used by anyone who has access to the applicable service', 'PUPR', 46), (0.6345815, 'any personal information you submit in the course of interacting in these public activities can be read collected or used by other users', 'PUC', 36), (0.6148854, 'if you wish to review or delete any profile information that you have provided us regarding a child or ask that we stop using such information you may do so at any time through the settings area of your account or by contacting us using the information below', 'POC', 0), (0.57051533, 'we may collect certain information about your computer or other device that you use to access the sites including ip address geolocation information unique device identifiers browser type browser language and other transactional information', 'POPR', 30), (0.5673387, 'if you ask us to share your personal information with a third party for its marketing purposes we will only share information in connection with that specific promotion since we do not share information with any third party other than our service providers on an ongoing basis', 'POC', 1), (0.564353, 'however you may not without the prior written permission of medianews group inc medianews group interactive inc or medianews group affiliates frame any of the content of the sites or incorporate into another website any material from the sites', 'PUPR', 50), (0.5642798, 'if you are a member of an online service you may use that service is account and privacy settings to personalize the collection use and or display of your data via that service', 'PUPR', 52), (0.5636317, 'if you elect to publish your content via our nook press service we may ask you to provide your bank account and routing information so that we can direct payments to you', 'POPR', 11), (0.56026804, 'if we modify our privacy policy on how we handle your personal information we will post the revised information here with a revised effective date at the top of this privacy policy', 'POC', 3), (0.5440234, 'we will provide you the personal information requested if it is reasonably available unless it infringes on the privacy of other individuals and subject to reasonable limitations provided by law and internal procedures', 'POC', 10), (0.5375309, 'to use certain features of the sites you will need a username and password which you will receive through the site is registration process', 'PUC', 31), (0.5069046, 'if you choose to submit an application to us for pre approved credit we will request that you provide personally identifiable information such as name address telephone number social security number date of birth employment information and gross monthly income', 'PUPR', 42), (0.5033688, 'we may aggregate and or anonymize information collected by the services or via other means so that the information does not identify you', 'POPR', 26), (0.5005817, 'we may also combine your information with other information in a way that it is no longer associated with you and share that aggregated information', 'POPR', 20), (0.50053805, 'depending on your account settings multisite ids may also provide other information to us', 'PUPR', 45), (0.50040996, 'user registration with medianews web sites is completed and membership activated upon clicking a link e mailed to the address provided in registration', 'POC', 4)]\n",
            "You may also access, request deletion, and correct yours or your child's personal information and privacy preferences by contacting  or by emailing us at , or writing to us at:\n",
            "Extracting features...\n",
            "INFO:tensorflow:Saver not created because there are no variables in the graph to restore\n"
          ],
          "name": "stdout"
        },
        {
          "output_type": "stream",
          "text": [
            "INFO:tensorflow:Saver not created because there are no variables in the graph to restore\n"
          ],
          "name": "stderr"
        },
        {
          "output_type": "stream",
          "text": [
            "[(0.7717818, 'if you wish to review or delete any profile information that you have provided us regarding a child or ask that we stop using such information you may do so at any time through the settings area of your account or by contacting us using the information below', 'POC', 0), (0.6697674, 'any personal information you submit in the course of interacting in these public activities can be read collected or used by other users', 'PUC', 36), (0.6663856, 'we will provide you the personal information requested if it is reasonably available unless it infringes on the privacy of other individuals and subject to reasonable limitations provided by law and internal procedures', 'POC', 10), (0.66169137, 'if the changes represent a material departure from our current practice with respect to the use of children is personal information the changes will be posted on this page thirty days prior to taking effect and will not affect children is personal information previously collected', 'POC', 7), (0.65400255, 'if we modify our privacy policy on how we handle your personal information we will post the revised information here with a revised effective date at the top of this privacy policy', 'POC', 3), (0.62672144, 'if you authorize such a connection you permit us to share or publish information about your activity on our services with that social network and its users and to access certain of your social network information as disclosed by you at the time you consent to the connection', 'PUC', 35), (0.6228922, 'we may also combine your information with other information in a way that it is no longer associated with you and share that aggregated information', 'POPR', 20), (0.62274384, 'your use of our sites and services following any such change constitutes your agreement that allinformation collected from or about you through our sites and services after the revised privacy policy is posted will besubject to the terms of the revised privacy policy', 'PUC', 39), (0.6180997, 'keep in mind that any information that you choose to post to blogs discussion forums or other community or social networking services that we offer can be seen collected and used by anyone who has access to the applicable service', 'PUPR', 46), (0.6168609, 'to protect your privacy and security we will also take reasonable steps to verify your identity before granting access or making corrections', 'POC', 9), (0.6121917, 'if you choose to submit an application to us for pre approved credit we will request that you provide personally identifiable information such as name address telephone number social security number date of birth employment information and gross monthly income', 'PUPR', 42), (0.60154617, 'we may aggregate and or anonymize information collected by the services or via other means so that the information does not identify you', 'POPR', 26), (0.6015449, 'if medianews believes such information is untrue inaccurate not current or incomplete medianews has the right to suspend or terminate your account and refuse any and all current or future use of the sites by you', 'POPR', 16), (0.589727, 'to do so we collect and share additional personal information like credit information so such third parties can provide the product or service you request', 'POPR', 14), (0.5816834, 'if you are a member of an online service you may use that service is account and privacy settings to personalize the collection use and or display of your data via that service', 'PUPR', 52), (0.58120346, 'by visiting the site whether as a registered user or otherwise you acknowledge understand and hereby agree that you are giving us your consent to track your activities and your use of the site through these tracking technologies and that we may use tracking technologies in the emails we send to you', 'PUC', 33), (0.569299, 'in these cases we require validation of credit card information already on file with us and we will then e mail the master account holder to give notice that we have received such consent', 'POC', 6), (0.56392276, 'depending on your account settings multisite ids may also provide other information to us', 'PUPR', 45), (0.5425151, 'however you may not without the prior written permission of medianews group inc medianews group interactive inc or medianews group affiliates frame any of the content of the sites or incorporate into another website any material from the sites', 'PUPR', 50), (0.5396797, 'when you update information your old information is replaced by your new information', 'PUC', 41), (0.53925383, 'we may collect certain information about your computer or other device that you use to access the sites including ip address geolocation information unique device identifiers browser type browser language and other transactional information', 'POPR', 30), (0.5355002, 'this website incorporates reasonable safeguards to protect the security integrity completeness accuracy and privacy of the personal information that we may collect and we have put into place reasonable precautions to protect such information from loss misuse and alteration', 'POPR', 19), (0.5250439, 'user registration with medianews web sites is completed and membership activated upon clicking a link e mailed to the address provided in registration', 'POC', 4), (0.5164565, 'if you ask us to share your personal information with a third party for its marketing purposes we will only share information in connection with that specific promotion since we do not share information with any third party other than our service providers on an ongoing basis', 'POC', 1), (0.50026864, 'in order to serve offers and advertisements that may be interest to our users we may display targeted advertisements on the services based on personal information provided by our users including zip code and profile', 'POPR', 13)]\n",
            "To remove your name and postal address from postal lists that we sell or rent to third parties for their direct marketing purposes, please use the postal list opt-out form available  or send your request to us in a letter addressed to Meredith Corporation, Opt-Out Postal, Attn: Circulation, 1716 Locust Street, Des Moines, Iowa 50309).\n",
            "Extracting features...\n",
            "INFO:tensorflow:Saver not created because there are no variables in the graph to restore\n"
          ],
          "name": "stdout"
        },
        {
          "output_type": "stream",
          "text": [
            "INFO:tensorflow:Saver not created because there are no variables in the graph to restore\n"
          ],
          "name": "stderr"
        },
        {
          "output_type": "stream",
          "text": [
            "[(0.6348073, 'if you choose to submit an application to us for pre approved credit we will request that you provide personally identifiable information such as name address telephone number social security number date of birth employment information and gross monthly income', 'PUPR', 42), (0.60116166, 'in order to serve offers and advertisements that may be interest to our users we may display targeted advertisements on the services based on personal information provided by our users including zip code and profile', 'POPR', 13), (0.59189224, 'when you register your caribou gift card on the site we ask for your name email address phone number and mailing address', 'PUC', 37), (0.5847081, 'if we modify our privacy policy on how we handle your personal information we will post the revised information here with a revised effective date at the top of this privacy policy', 'POC', 3), (0.56752473, 'we will provide you the personal information requested if it is reasonably available unless it infringes on the privacy of other individuals and subject to reasonable limitations provided by law and internal procedures', 'POC', 10), (0.5600513, 'if you elect to publish your content via our nook press service we may ask you to provide your bank account and routing information so that we can direct payments to you', 'POPR', 11), (0.5489671, 'we will not disclose cardholder data to any third party except to facilitate and complete transactions submitted to us by merchants or otherwise in the course of providing services to our merchants or to comply with federal state and local laws or the rules and regulations of the respective card organizations or other payment entities e g', 'POC', 8), (0.53861696, 'we may aggregate and or anonymize information collected by the services or via other means so that the information does not identify you', 'POPR', 26), (0.5370433, 'if you ask us to share your personal information with a third party for its marketing purposes we will only share information in connection with that specific promotion since we do not share information with any third party other than our service providers on an ongoing basis', 'POC', 1), (0.535453, 'to do so we collect and share additional personal information like credit information so such third parties can provide the product or service you request', 'POPR', 14), (0.5204004, 'by visiting the site whether as a registered user or otherwise you acknowledge understand and hereby agree that you are giving us your consent to track your activities and your use of the site through these tracking technologies and that we may use tracking technologies in the emails we send to you', 'PUC', 33), (0.5134395, 'if you wish to review or delete any profile information that you have provided us regarding a child or ask that we stop using such information you may do so at any time through the settings area of your account or by contacting us using the information below', 'POC', 0), (0.51285714, 'any personal information you submit in the course of interacting in these public activities can be read collected or used by other users', 'PUC', 36), (0.5089874, 'however you may not without the prior written permission of medianews group inc medianews group interactive inc or medianews group affiliates frame any of the content of the sites or incorporate into another website any material from the sites', 'PUPR', 50), (0.50714433, 'this website incorporates reasonable safeguards to protect the security integrity completeness accuracy and privacy of the personal information that we may collect and we have put into place reasonable precautions to protect such information from loss misuse and alteration', 'POPR', 19), (0.50702375, 'user registration with medianews web sites is completed and membership activated upon clicking a link e mailed to the address provided in registration', 'POC', 4)]\n",
            "Information from Other Sources\n",
            "Extracting features...\n",
            "INFO:tensorflow:Saver not created because there are no variables in the graph to restore\n"
          ],
          "name": "stdout"
        },
        {
          "output_type": "stream",
          "text": [
            "INFO:tensorflow:Saver not created because there are no variables in the graph to restore\n"
          ],
          "name": "stderr"
        },
        {
          "output_type": "stream",
          "text": [
            "[]\n",
            "In your request, please provide a description of the material that you want removed and information reasonably sufficient to permit us to locate the material, and include your name, email address and/or Washington Post website user name, year of birth, mailing address (including city, state, and zip code), and the subject line \"California Removal Request\" so that we can process your request.\n",
            "Extracting features...\n",
            "INFO:tensorflow:Saver not created because there are no variables in the graph to restore\n"
          ],
          "name": "stdout"
        },
        {
          "output_type": "stream",
          "text": [
            "INFO:tensorflow:Saver not created because there are no variables in the graph to restore\n"
          ],
          "name": "stderr"
        },
        {
          "output_type": "stream",
          "text": [
            "[(0.6828605, 'if you wish to review or delete any profile information that you have provided us regarding a child or ask that we stop using such information you may do so at any time through the settings area of your account or by contacting us using the information below', 'POC', 0), (0.65540004, 'if we modify our privacy policy on how we handle your personal information we will post the revised information here with a revised effective date at the top of this privacy policy', 'POC', 3), (0.6379915, 'we will provide you the personal information requested if it is reasonably available unless it infringes on the privacy of other individuals and subject to reasonable limitations provided by law and internal procedures', 'POC', 10), (0.5880241, 'if you choose to submit an application to us for pre approved credit we will request that you provide personally identifiable information such as name address telephone number social security number date of birth employment information and gross monthly income', 'PUPR', 42), (0.5618121, 'if you ask us to share your personal information with a third party for its marketing purposes we will only share information in connection with that specific promotion since we do not share information with any third party other than our service providers on an ongoing basis', 'POC', 1), (0.5416657, 'any personal information you submit in the course of interacting in these public activities can be read collected or used by other users', 'PUC', 36), (0.5285841, 'we will not disclose cardholder data to any third party except to facilitate and complete transactions submitted to us by merchants or otherwise in the course of providing services to our merchants or to comply with federal state and local laws or the rules and regulations of the respective card organizations or other payment entities e g', 'POC', 8), (0.50329936, 'we may also combine your information with other information in a way that it is no longer associated with you and share that aggregated information', 'POPR', 20)]\n",
            "This information may be used to deliver advertising on our Sites and offline (for example, by phone, email and direct mail) that's customized to meet specific interests you may have.\n",
            "Extracting features...\n",
            "INFO:tensorflow:Saver not created because there are no variables in the graph to restore\n"
          ],
          "name": "stdout"
        },
        {
          "output_type": "stream",
          "text": [
            "INFO:tensorflow:Saver not created because there are no variables in the graph to restore\n"
          ],
          "name": "stderr"
        },
        {
          "output_type": "stream",
          "text": [
            "[(0.8062083, 'in order to serve offers and advertisements that may be interest to our users we may display targeted advertisements on the services based on personal information provided by our users including zip code and profile', 'POPR', 13), (0.7619754, 'because we serve advertisements on our own web sites as well as those of our advertising and publisher partners we are able to compile information over time about the types of pages you visit on microsoft and other sites content and ads you or others who are using your computer visited or viewed', 'POPR', 12), (0.748576, 'any personal information you submit in the course of interacting in these public activities can be read collected or used by other users', 'PUC', 36), (0.7431322, 'to do so we collect and share additional personal information like credit information so such third parties can provide the product or service you request', 'POPR', 14), (0.73057836, 'we may aggregate and or anonymize information collected by the services or via other means so that the information does not identify you', 'POPR', 26), (0.7197076, 'we may also work with other companies that advertise on microsoft sites to place web beacons on their sites or in their advertisements to let us develop statistics on how often clicking on an advertisement on a microsoft site results in a purchase or other action on the advertiser is site', 'POPR', 25), (0.71597356, 'if you ask us to share your personal information with a third party for its marketing purposes we will only share information in connection with that specific promotion since we do not share information with any third party other than our service providers on an ongoing basis', 'POC', 1), (0.7107501, 'keep in mind that any information that you choose to post to blogs discussion forums or other community or social networking services that we offer can be seen collected and used by anyone who has access to the applicable service', 'PUPR', 46), (0.7100561, 'we may also combine your information with other information in a way that it is no longer associated with you and share that aggregated information', 'POPR', 20), (0.7047683, 'doing this allows the advertising network to recognize your computer each time they send you an advertisement in order to measure the effectiveness of their ads and to personalize advertising content', 'PUC', 32), (0.69726723, 'notmc and its agents use cookies so that we can improve your online experience for example by remembering you when you come back to visit the websites and making the content you see more relevant to you', 'POPR', 23), (0.69437456, 'web logging which enables us to collect the standard information your browser or application sends to every web site you visit such as your ip address browser type and language and the url of the site you came from as well as the pages you visit and the links you click while using our sites and services', 'POPR', 29), (0.6941727, 'we may collect certain information about your computer or other device that you use to access the sites including ip address geolocation information unique device identifiers browser type browser language and other transactional information', 'POPR', 30), (0.68922746, 'we perform statistical demographic and marketing analyses of users of the nyt services and their subscribing and purchasing patterns for product development purposes and to generally inform advertisers about the nature of our subscriber base', 'POPR', 17), (0.67486256, 'by visiting the site whether as a registered user or otherwise you acknowledge understand and hereby agree that you are giving us your consent to track your activities and your use of the site through these tracking technologies and that we may use tracking technologies in the emails we send to you', 'PUC', 33), (0.6735905, 'we may merge this with other data we collect about you from third parties to assist us in our ability to provide the services including without limitation to advertise and provide content to you', 'POPR', 18), (0.6553617, 'cookies kinja or third parties may use cookies web beacons html local storage java script and other similar technologies to help us understand how you use the services and help us provide the services and advertising to you', 'POPR', 24), (0.6552982, 'imdb also displays personalized third party advertising based on personal information about users such as information you submit to us about movies you own or have watched', 'POPR', 22), (0.6535849, 'if you authorize such a connection you permit us to share or publish information about your activity on our services with that social network and its users and to access certain of your social network information as disclosed by you at the time you consent to the connection', 'PUC', 35), (0.64390546, 'user registration with medianews web sites is completed and membership activated upon clicking a link e mailed to the address provided in registration', 'POC', 4), (0.6411951, 'our servers automatically record information that your browser sends whenever you visit the site s', 'POPR', 28), (0.63714296, 'your use of our sites and services following any such change constitutes your agreement that allinformation collected from or about you through our sites and services after the revised privacy policy is posted will besubject to the terms of the revised privacy policy', 'PUC', 39), (0.63292307, 'if you are a member of an online service you may use that service is account and privacy settings to personalize the collection use and or display of your data via that service', 'PUPR', 52), (0.62248605, 'however you may not without the prior written permission of medianews group inc medianews group interactive inc or medianews group affiliates frame any of the content of the sites or incorporate into another website any material from the sites', 'PUPR', 50), (0.62153316, 'to use certain features of the sites you will need a username and password which you will receive through the site is registration process', 'PUC', 31), (0.62136596, 'we will provide you the personal information requested if it is reasonably available unless it infringes on the privacy of other individuals and subject to reasonable limitations provided by law and internal procedures', 'POC', 10), (0.61463445, 'depending on your account settings multisite ids may also provide other information to us', 'PUPR', 45), (0.59023696, 'the website also provides information for healthcare professionals and offers opportunities for volunteering in food allergy research education fundraising events', 'POPR', 27), (0.5879969, 'this information will only be shared with third parties who perform tasks required to complete the purchase transaction', 'PUC', 40), (0.5757689, 'this website incorporates reasonable safeguards to protect the security integrity completeness accuracy and privacy of the personal information that we may collect and we have put into place reasonable precautions to protect such information from loss misuse and alteration', 'POPR', 19), (0.5715159, 'if we modify our privacy policy on how we handle your personal information we will post the revised information here with a revised effective date at the top of this privacy policy', 'POC', 3), (0.5698501, 'we use your ip address to help diagnose problems with our server and to administer our web site', 'POPR', 15), (0.55821306, 'to prevent unauthorized electronic access to personal information the company maintains information collected online behind a firewall protected server and uses ssl encryption for purchases made through our online store', 'POC', 5), (0.5375059, 'if you choose to submit an application to us for pre approved credit we will request that you provide personally identifiable information such as name address telephone number social security number date of birth employment information and gross monthly income', 'PUPR', 42), (0.5371174, 'when you update information your old information is replaced by your new information', 'PUC', 41), (0.5327921, 'you may also prevent flash cookies from being placed by adjusting your preferences in the macromedia website privacy settings panel at', 'PUPR', 49), (0.5264273, 'if you elect to publish your content via our nook press service we may ask you to provide your bank account and routing information so that we can direct payments to you', 'POPR', 11), (0.5261619, 'we will not disclose cardholder data to any third party except to facilitate and complete transactions submitted to us by merchants or otherwise in the course of providing services to our merchants or to comply with federal state and local laws or the rules and regulations of the respective card organizations or other payment entities e g', 'POC', 8), (0.506454, 'if you wish to review or delete any profile information that you have provided us regarding a child or ask that we stop using such information you may do so at any time through the settings area of your account or by contacting us using the information below', 'POC', 0), (0.5027878, 'to protect your privacy and security we will also take reasonable steps to verify your identity before granting access or making corrections', 'POC', 9)]\n",
            "If your browser is enabled to allow pages to pre-load in the background for faster performance, Bing may use this functionality and your browser may preload page(s) in the background for faster results.\n",
            "Extracting features...\n",
            "INFO:tensorflow:Saver not created because there are no variables in the graph to restore\n"
          ],
          "name": "stdout"
        },
        {
          "output_type": "stream",
          "text": [
            "INFO:tensorflow:Saver not created because there are no variables in the graph to restore\n"
          ],
          "name": "stderr"
        },
        {
          "output_type": "stream",
          "text": [
            "[(0.6472696, 'you may also prevent flash cookies from being placed by adjusting your preferences in the macromedia website privacy settings panel at', 'PUPR', 49), (0.6137808, 'you may deactivate javascript via your browser settings or activate it the same way', 'PUPR', 43), (0.6041305, 'you can use your browser settings to remove or block cookies on your computer', 'PUPR', 44), (0.5992325, 'doing this allows the advertising network to recognize your computer each time they send you an advertisement in order to measure the effectiveness of their ads and to personalize advertising content', 'PUC', 32), (0.5938249, 'our servers automatically record information that your browser sends whenever you visit the site s', 'POPR', 28), (0.5800274, 'web logging which enables us to collect the standard information your browser or application sends to every web site you visit such as your ip address browser type and language and the url of the site you came from as well as the pages you visit and the links you click while using our sites and services', 'POPR', 29), (0.5310236, 'nevertheless you are able to control how and whether cookies will be accepted by your web browser or device', 'PUPR', 51), (0.5193284, 'notmc and its agents use cookies so that we can improve your online experience for example by remembering you when you come back to visit the websites and making the content you see more relevant to you', 'POPR', 23)]\n",
            "User Registration.\n",
            "Extracting features...\n",
            "INFO:tensorflow:Saver not created because there are no variables in the graph to restore\n"
          ],
          "name": "stdout"
        },
        {
          "output_type": "stream",
          "text": [
            "INFO:tensorflow:Saver not created because there are no variables in the graph to restore\n"
          ],
          "name": "stderr"
        },
        {
          "output_type": "stream",
          "text": [
            "[(0.65545195, 'user registration with medianews web sites is completed and membership activated upon clicking a link e mailed to the address provided in registration', 'POC', 4), (0.6440942, 'depending on your account settings multisite ids may also provide other information to us', 'PUPR', 45), (0.58968645, 'to use certain features of the sites you will need a username and password which you will receive through the site is registration process', 'PUC', 31), (0.5185556, 'web logging which enables us to collect the standard information your browser or application sends to every web site you visit such as your ip address browser type and language and the url of the site you came from as well as the pages you visit and the links you click while using our sites and services', 'POPR', 29), (0.51660335, 'this website incorporates reasonable safeguards to protect the security integrity completeness accuracy and privacy of the personal information that we may collect and we have put into place reasonable precautions to protect such information from loss misuse and alteration', 'POPR', 19), (0.50049376, 'to do so we collect and share additional personal information like credit information so such third parties can provide the product or service you request', 'POPR', 14)]\n",
            "Kinja Terms of Use\n",
            "Extracting features...\n",
            "INFO:tensorflow:Saver not created because there are no variables in the graph to restore\n"
          ],
          "name": "stdout"
        },
        {
          "output_type": "stream",
          "text": [
            "INFO:tensorflow:Saver not created because there are no variables in the graph to restore\n"
          ],
          "name": "stderr"
        },
        {
          "output_type": "stream",
          "text": [
            "[]\n",
            "Jefferson Lab Home |\n",
            "Extracting features...\n",
            "INFO:tensorflow:Saver not created because there are no variables in the graph to restore\n"
          ],
          "name": "stdout"
        },
        {
          "output_type": "stream",
          "text": [
            "INFO:tensorflow:Saver not created because there are no variables in the graph to restore\n"
          ],
          "name": "stderr"
        },
        {
          "output_type": "stream",
          "text": [
            "[]\n",
            "OUR COMMITMENTS TO YOUR FAMILY\n",
            "Extracting features...\n",
            "INFO:tensorflow:Saver not created because there are no variables in the graph to restore\n"
          ],
          "name": "stdout"
        },
        {
          "output_type": "stream",
          "text": [
            "INFO:tensorflow:Saver not created because there are no variables in the graph to restore\n"
          ],
          "name": "stderr"
        },
        {
          "output_type": "stream",
          "text": [
            "[]\n",
            "The CIN gathered by MediaNews generally includes cookies, specific Web site page requests, the domain name (e.g., www.medianewsgroup.com) and Internet Provider (e.g., Comcast, American Online, NetZero) from which you access the Internet, the Internet Protocol address of your computer, the browser software (e.g.\n",
            "Extracting features...\n",
            "INFO:tensorflow:Saver not created because there are no variables in the graph to restore\n"
          ],
          "name": "stdout"
        },
        {
          "output_type": "stream",
          "text": [
            "INFO:tensorflow:Saver not created because there are no variables in the graph to restore\n"
          ],
          "name": "stderr"
        },
        {
          "output_type": "stream",
          "text": [
            "[(0.6566661, 'we use your ip address to help diagnose problems with our server and to administer our web site', 'POPR', 15), (0.6545918, 'we may collect certain information about your computer or other device that you use to access the sites including ip address geolocation information unique device identifiers browser type browser language and other transactional information', 'POPR', 30), (0.64286935, 'cookies kinja or third parties may use cookies web beacons html local storage java script and other similar technologies to help us understand how you use the services and help us provide the services and advertising to you', 'POPR', 24), (0.6375038, 'our servers automatically record information that your browser sends whenever you visit the site s', 'POPR', 28), (0.63182867, 'web logging which enables us to collect the standard information your browser or application sends to every web site you visit such as your ip address browser type and language and the url of the site you came from as well as the pages you visit and the links you click while using our sites and services', 'POPR', 29), (0.625405, 'user registration with medianews web sites is completed and membership activated upon clicking a link e mailed to the address provided in registration', 'POC', 4), (0.6009119, 'notmc and its agents use cookies so that we can improve your online experience for example by remembering you when you come back to visit the websites and making the content you see more relevant to you', 'POPR', 23), (0.5913816, 'in order to serve offers and advertisements that may be interest to our users we may display targeted advertisements on the services based on personal information provided by our users including zip code and profile', 'POPR', 13), (0.58500105, 'you may also prevent flash cookies from being placed by adjusting your preferences in the macromedia website privacy settings panel at', 'PUPR', 49), (0.57966936, 'nevertheless you are able to control how and whether cookies will be accepted by your web browser or device', 'PUPR', 51), (0.57732177, 'because we serve advertisements on our own web sites as well as those of our advertising and publisher partners we are able to compile information over time about the types of pages you visit on microsoft and other sites content and ads you or others who are using your computer visited or viewed', 'POPR', 12), (0.5672524, 'to use certain features of the sites you will need a username and password which you will receive through the site is registration process', 'PUC', 31), (0.56263626, 'doing this allows the advertising network to recognize your computer each time they send you an advertisement in order to measure the effectiveness of their ads and to personalize advertising content', 'PUC', 32), (0.5608039, 'your use of our sites and services following any such change constitutes your agreement that allinformation collected from or about you through our sites and services after the revised privacy policy is posted will besubject to the terms of the revised privacy policy', 'PUC', 39), (0.5605485, 'by visiting the site whether as a registered user or otherwise you acknowledge understand and hereby agree that you are giving us your consent to track your activities and your use of the site through these tracking technologies and that we may use tracking technologies in the emails we send to you', 'PUC', 33), (0.5573924, 'to prevent unauthorized electronic access to personal information the company maintains information collected online behind a firewall protected server and uses ssl encryption for purchases made through our online store', 'POC', 5), (0.54768914, 'you can use your browser settings to remove or block cookies on your computer', 'PUPR', 44), (0.5416988, 'this website incorporates reasonable safeguards to protect the security integrity completeness accuracy and privacy of the personal information that we may collect and we have put into place reasonable precautions to protect such information from loss misuse and alteration', 'POPR', 19), (0.5414584, 'however you may not without the prior written permission of medianews group inc medianews group interactive inc or medianews group affiliates frame any of the content of the sites or incorporate into another website any material from the sites', 'PUPR', 50), (0.5408102, 'depending on your account settings multisite ids may also provide other information to us', 'PUPR', 45), (0.5382389, 'if you authorize such a connection you permit us to share or publish information about your activity on our services with that social network and its users and to access certain of your social network information as disclosed by you at the time you consent to the connection', 'PUC', 35), (0.52708703, 'we may aggregate and or anonymize information collected by the services or via other means so that the information does not identify you', 'POPR', 26)]\n"
          ],
          "name": "stdout"
        }
      ]
    }
  ]
}