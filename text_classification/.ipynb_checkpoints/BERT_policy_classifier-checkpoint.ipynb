{
 "cells": [
  {
   "cell_type": "code",
   "execution_count": 1,
   "metadata": {
    "colab": {
     "base_uri": "https://localhost:8080/",
     "height": 638
    },
    "colab_type": "code",
    "executionInfo": {
     "elapsed": 10710,
     "status": "ok",
     "timestamp": 1583411079171,
     "user": {
      "displayName": "Lahiru Manohara",
      "photoUrl": "https://lh3.googleusercontent.com/a-/AOh14GiGw3QUrn5SS6e6cppmksTwrnQq4Xwq1Hai0KmO6A=s64",
      "userId": "03480165537579501658"
     },
     "user_tz": 0
    },
    "id": "pKPeD4WGULpB",
    "outputId": "3c1c9c28-dce3-4184-ac4b-a0ef0f437173"
   },
   "outputs": [
    {
     "name": "stdout",
     "output_type": "stream",
     "text": [
      "Collecting transformers\n",
      "\u001b[?25l  Downloading https://files.pythonhosted.org/packages/13/33/ffb67897a6985a7b7d8e5e7878c3628678f553634bd3836404fef06ef19b/transformers-2.5.1-py3-none-any.whl (499kB)\n",
      "\r",
      "\u001b[K     |▋                               | 10kB 20.1MB/s eta 0:00:01\r",
      "\u001b[K     |█▎                              | 20kB 1.7MB/s eta 0:00:01\r",
      "\u001b[K     |██                              | 30kB 2.5MB/s eta 0:00:01\r",
      "\u001b[K     |██▋                             | 40kB 1.7MB/s eta 0:00:01\r",
      "\u001b[K     |███▎                            | 51kB 2.1MB/s eta 0:00:01\r",
      "\u001b[K     |████                            | 61kB 2.5MB/s eta 0:00:01\r",
      "\u001b[K     |████▋                           | 71kB 2.7MB/s eta 0:00:01\r",
      "\u001b[K     |█████▎                          | 81kB 3.1MB/s eta 0:00:01\r",
      "\u001b[K     |██████                          | 92kB 3.4MB/s eta 0:00:01\r",
      "\u001b[K     |██████▋                         | 102kB 2.8MB/s eta 0:00:01\r",
      "\u001b[K     |███████▏                        | 112kB 2.8MB/s eta 0:00:01\r",
      "\u001b[K     |███████▉                        | 122kB 2.8MB/s eta 0:00:01\r",
      "\u001b[K     |████████▌                       | 133kB 2.8MB/s eta 0:00:01\r",
      "\u001b[K     |█████████▏                      | 143kB 2.8MB/s eta 0:00:01\r",
      "\u001b[K     |█████████▉                      | 153kB 2.8MB/s eta 0:00:01\r",
      "\u001b[K     |██████████▌                     | 163kB 2.8MB/s eta 0:00:01\r",
      "\u001b[K     |███████████▏                    | 174kB 2.8MB/s eta 0:00:01\r",
      "\u001b[K     |███████████▉                    | 184kB 2.8MB/s eta 0:00:01\r",
      "\u001b[K     |████████████▌                   | 194kB 2.8MB/s eta 0:00:01\r",
      "\u001b[K     |█████████████▏                  | 204kB 2.8MB/s eta 0:00:01\r",
      "\u001b[K     |█████████████▉                  | 215kB 2.8MB/s eta 0:00:01\r",
      "\u001b[K     |██████████████▍                 | 225kB 2.8MB/s eta 0:00:01\r",
      "\u001b[K     |███████████████                 | 235kB 2.8MB/s eta 0:00:01\r",
      "\u001b[K     |███████████████▊                | 245kB 2.8MB/s eta 0:00:01\r",
      "\u001b[K     |████████████████▍               | 256kB 2.8MB/s eta 0:00:01\r",
      "\u001b[K     |█████████████████               | 266kB 2.8MB/s eta 0:00:01\r",
      "\u001b[K     |█████████████████▊              | 276kB 2.8MB/s eta 0:00:01\r",
      "\u001b[K     |██████████████████▍             | 286kB 2.8MB/s eta 0:00:01\r",
      "\u001b[K     |███████████████████             | 296kB 2.8MB/s eta 0:00:01\r",
      "\u001b[K     |███████████████████▊            | 307kB 2.8MB/s eta 0:00:01\r",
      "\u001b[K     |████████████████████▍           | 317kB 2.8MB/s eta 0:00:01\r",
      "\u001b[K     |█████████████████████           | 327kB 2.8MB/s eta 0:00:01\r",
      "\u001b[K     |█████████████████████▋          | 337kB 2.8MB/s eta 0:00:01\r",
      "\u001b[K     |██████████████████████▎         | 348kB 2.8MB/s eta 0:00:01\r",
      "\u001b[K     |███████████████████████         | 358kB 2.8MB/s eta 0:00:01\r",
      "\u001b[K     |███████████████████████▋        | 368kB 2.8MB/s eta 0:00:01\r",
      "\u001b[K     |████████████████████████▎       | 378kB 2.8MB/s eta 0:00:01\r",
      "\u001b[K     |█████████████████████████       | 389kB 2.8MB/s eta 0:00:01\r",
      "\u001b[K     |█████████████████████████▋      | 399kB 2.8MB/s eta 0:00:01\r",
      "\u001b[K     |██████████████████████████▎     | 409kB 2.8MB/s eta 0:00:01\r",
      "\u001b[K     |███████████████████████████     | 419kB 2.8MB/s eta 0:00:01\r",
      "\u001b[K     |███████████████████████████▋    | 430kB 2.8MB/s eta 0:00:01\r",
      "\u001b[K     |████████████████████████████▏   | 440kB 2.8MB/s eta 0:00:01\r",
      "\u001b[K     |████████████████████████████▉   | 450kB 2.8MB/s eta 0:00:01\r",
      "\u001b[K     |█████████████████████████████▌  | 460kB 2.8MB/s eta 0:00:01\r",
      "\u001b[K     |██████████████████████████████▏ | 471kB 2.8MB/s eta 0:00:01\r",
      "\u001b[K     |██████████████████████████████▉ | 481kB 2.8MB/s eta 0:00:01\r",
      "\u001b[K     |███████████████████████████████▌| 491kB 2.8MB/s eta 0:00:01\r",
      "\u001b[K     |████████████████████████████████| 501kB 2.8MB/s \n",
      "\u001b[?25hRequirement already satisfied: regex!=2019.12.17 in /usr/local/lib/python3.6/dist-packages (from transformers) (2019.12.20)\n",
      "Collecting sentencepiece\n",
      "\u001b[?25l  Downloading https://files.pythonhosted.org/packages/74/f4/2d5214cbf13d06e7cb2c20d84115ca25b53ea76fa1f0ade0e3c9749de214/sentencepiece-0.1.85-cp36-cp36m-manylinux1_x86_64.whl (1.0MB)\n",
      "\u001b[K     |████████████████████████████████| 1.0MB 52.5MB/s \n",
      "\u001b[?25hRequirement already satisfied: tqdm>=4.27 in /usr/local/lib/python3.6/dist-packages (from transformers) (4.28.1)\n",
      "Collecting sacremoses\n",
      "\u001b[?25l  Downloading https://files.pythonhosted.org/packages/a6/b4/7a41d630547a4afd58143597d5a49e07bfd4c42914d8335b2a5657efc14b/sacremoses-0.0.38.tar.gz (860kB)\n",
      "\u001b[K     |████████████████████████████████| 870kB 38.9MB/s \n",
      "\u001b[?25hCollecting tokenizers==0.5.2\n",
      "\u001b[?25l  Downloading https://files.pythonhosted.org/packages/d1/3f/73c881ea4723e43c1e9acf317cf407fab3a278daab3a69c98dcac511c04f/tokenizers-0.5.2-cp36-cp36m-manylinux1_x86_64.whl (3.7MB)\n",
      "\u001b[K     |████████████████████████████████| 3.7MB 26.1MB/s \n",
      "\u001b[?25hRequirement already satisfied: numpy in /usr/local/lib/python3.6/dist-packages (from transformers) (1.17.5)\n",
      "Requirement already satisfied: filelock in /usr/local/lib/python3.6/dist-packages (from transformers) (3.0.12)\n",
      "Requirement already satisfied: boto3 in /usr/local/lib/python3.6/dist-packages (from transformers) (1.11.15)\n",
      "Requirement already satisfied: requests in /usr/local/lib/python3.6/dist-packages (from transformers) (2.21.0)\n",
      "Requirement already satisfied: six in /usr/local/lib/python3.6/dist-packages (from sacremoses->transformers) (1.12.0)\n",
      "Requirement already satisfied: click in /usr/local/lib/python3.6/dist-packages (from sacremoses->transformers) (7.0)\n",
      "Requirement already satisfied: joblib in /usr/local/lib/python3.6/dist-packages (from sacremoses->transformers) (0.14.1)\n",
      "Requirement already satisfied: jmespath<1.0.0,>=0.7.1 in /usr/local/lib/python3.6/dist-packages (from boto3->transformers) (0.9.4)\n",
      "Requirement already satisfied: s3transfer<0.4.0,>=0.3.0 in /usr/local/lib/python3.6/dist-packages (from boto3->transformers) (0.3.3)\n",
      "Requirement already satisfied: botocore<1.15.0,>=1.14.15 in /usr/local/lib/python3.6/dist-packages (from boto3->transformers) (1.14.15)\n",
      "Requirement already satisfied: idna<2.9,>=2.5 in /usr/local/lib/python3.6/dist-packages (from requests->transformers) (2.8)\n",
      "Requirement already satisfied: urllib3<1.25,>=1.21.1 in /usr/local/lib/python3.6/dist-packages (from requests->transformers) (1.24.3)\n",
      "Requirement already satisfied: certifi>=2017.4.17 in /usr/local/lib/python3.6/dist-packages (from requests->transformers) (2019.11.28)\n",
      "Requirement already satisfied: chardet<3.1.0,>=3.0.2 in /usr/local/lib/python3.6/dist-packages (from requests->transformers) (3.0.4)\n",
      "Requirement already satisfied: python-dateutil<3.0.0,>=2.1 in /usr/local/lib/python3.6/dist-packages (from botocore<1.15.0,>=1.14.15->boto3->transformers) (2.6.1)\n",
      "Requirement already satisfied: docutils<0.16,>=0.10 in /usr/local/lib/python3.6/dist-packages (from botocore<1.15.0,>=1.14.15->boto3->transformers) (0.15.2)\n",
      "Building wheels for collected packages: sacremoses\n",
      "  Building wheel for sacremoses (setup.py) ... \u001b[?25l\u001b[?25hdone\n",
      "  Created wheel for sacremoses: filename=sacremoses-0.0.38-cp36-none-any.whl size=884628 sha256=87d49f758f9e243187716e3186b2da5306a07d078183078cb475da4bac2ca4bd\n",
      "  Stored in directory: /root/.cache/pip/wheels/6d/ec/1a/21b8912e35e02741306f35f66c785f3afe94de754a0eaf1422\n",
      "Successfully built sacremoses\n",
      "Installing collected packages: sentencepiece, sacremoses, tokenizers, transformers\n",
      "Successfully installed sacremoses-0.0.38 sentencepiece-0.1.85 tokenizers-0.5.2 transformers-2.5.1\n"
     ]
    }
   ],
   "source": [
    "!pip install transformers"
   ]
  },
  {
   "cell_type": "code",
   "execution_count": 2,
   "metadata": {
    "colab": {
     "base_uri": "https://localhost:8080/",
     "height": 121
    },
    "colab_type": "code",
    "executionInfo": {
     "elapsed": 43277,
     "status": "ok",
     "timestamp": 1583411111753,
     "user": {
      "displayName": "Lahiru Manohara",
      "photoUrl": "https://lh3.googleusercontent.com/a-/AOh14GiGw3QUrn5SS6e6cppmksTwrnQq4Xwq1Hai0KmO6A=s64",
      "userId": "03480165537579501658"
     },
     "user_tz": 0
    },
    "id": "Kl8y6M5vYg78",
    "outputId": "3727eaa1-89e0-4e6f-ce53-e2ee857f33d0"
   },
   "outputs": [
    {
     "name": "stdout",
     "output_type": "stream",
     "text": [
      "Go to this URL in a browser: https://accounts.google.com/o/oauth2/auth?client_id=947318989803-6bn6qk8qdgf4n4g3pfee6491hc0brc4i.apps.googleusercontent.com&redirect_uri=urn%3aietf%3awg%3aoauth%3a2.0%3aoob&response_type=code&scope=email%20https%3a%2f%2fwww.googleapis.com%2fauth%2fdocs.test%20https%3a%2f%2fwww.googleapis.com%2fauth%2fdrive%20https%3a%2f%2fwww.googleapis.com%2fauth%2fdrive.photos.readonly%20https%3a%2f%2fwww.googleapis.com%2fauth%2fpeopleapi.readonly\n",
      "\n",
      "Enter your authorization code:\n",
      "··········\n",
      "Mounted at /content/drive/\n"
     ]
    }
   ],
   "source": [
    "from google.colab import drive\n",
    "drive.mount('/content/drive/')"
   ]
  },
  {
   "cell_type": "code",
   "execution_count": 3,
   "metadata": {
    "colab": {
     "base_uri": "https://localhost:8080/",
     "height": 62
    },
    "colab_type": "code",
    "executionInfo": {
     "elapsed": 48186,
     "status": "ok",
     "timestamp": 1583411116673,
     "user": {
      "displayName": "Lahiru Manohara",
      "photoUrl": "https://lh3.googleusercontent.com/a-/AOh14GiGw3QUrn5SS6e6cppmksTwrnQq4Xwq1Hai0KmO6A=s64",
      "userId": "03480165537579501658"
     },
     "user_tz": 0
    },
    "id": "c7C4wAd2V38f",
    "outputId": "7d51a72b-8e0d-4ab9-ac10-53bd1e959100"
   },
   "outputs": [
    {
     "data": {
      "text/html": [
       "<p style=\"color: red;\">\n",
       "The default version of TensorFlow in Colab will soon switch to TensorFlow 2.x.<br>\n",
       "We recommend you <a href=\"https://www.tensorflow.org/guide/migrate\" target=\"_blank\">upgrade</a> now \n",
       "or ensure your notebook will continue to use TensorFlow 1.x via the <code>%tensorflow_version 1.x</code> magic:\n",
       "<a href=\"https://colab.research.google.com/notebooks/tensorflow_version.ipynb\" target=\"_blank\">more info</a>.</p>\n"
      ],
      "text/plain": [
       "<IPython.core.display.HTML object>"
      ]
     },
     "metadata": {
      "tags": []
     },
     "output_type": "display_data"
    }
   ],
   "source": [
    "import torch\n",
    "import numpy as np\n",
    "import pandas as pd\n",
    "from transformers import BertModel, BertTokenizer, BertForSequenceClassification\n",
    "from sklearn.model_selection import train_test_split\n",
    "from sklearn import preprocessing"
   ]
  },
  {
   "cell_type": "code",
   "execution_count": 4,
   "metadata": {
    "colab": {
     "base_uri": "https://localhost:8080/",
     "height": 163,
     "referenced_widgets": [
      "a4ebb325f6744fb395a9720e7cf38ab6",
      "578bd952d468462bb81529b0a8ff4194",
      "d2392ed73edb42c58d458a4ef0d9e50e",
      "2b12033a380343e18d709e170064064a",
      "6a1c60aa8c1e407ab5dcb6e3e498032f",
      "588de48cffb04756afc1b50e2c77830f",
      "5cd15ee9ddf94a54903e7178bdd776ce",
      "7075617e90af4443a0879829566a1bf7",
      "6e382e30c7e046008b4e694fbcb8fa24",
      "3ecebdb8e70c4a8db9059c9e7796aa32",
      "ddcaff150a0346c898ca631615af350c",
      "0c5073dea88f42e19dfff5afabb1fe05",
      "15b8dc01e2ff4d93b0036eed8da4ddf9",
      "46a34bfd57f64c548fded3f8797319ca",
      "de9990794f5d4605aa1f8ed1a9446719",
      "aa81fe9c38144f9e8282277c06318dbd",
      "19e4cf1f79b44c0e828ca55e2f385fa6",
      "2160947de6fd49139aed0a272fbb4d5b",
      "8db47d9177ca49188fcc9c77e25ab2fd",
      "1a1ee6c2cf574a61b231becd02762e88",
      "9ffd1c1cf1f14bd7999b775b0a9de874",
      "61fa628876d947c99fc18f4812dd092e",
      "2c3d300488ba477fa1a1569ee75290eb",
      "3b60020c884b43f38ee4fe84acd4a7c4"
     ]
    },
    "colab_type": "code",
    "executionInfo": {
     "elapsed": 94906,
     "status": "ok",
     "timestamp": 1583411163403,
     "user": {
      "displayName": "Lahiru Manohara",
      "photoUrl": "https://lh3.googleusercontent.com/a-/AOh14GiGw3QUrn5SS6e6cppmksTwrnQq4Xwq1Hai0KmO6A=s64",
      "userId": "03480165537579501658"
     },
     "user_tz": 0
    },
    "id": "AWSI-O1mV_ZA",
    "outputId": "877c709b-6eb3-4817-df3d-86de6e9f18f9"
   },
   "outputs": [
    {
     "data": {
      "application/vnd.jupyter.widget-view+json": {
       "model_id": "a4ebb325f6744fb395a9720e7cf38ab6",
       "version_major": 2,
       "version_minor": 0
      },
      "text/plain": [
       "HBox(children=(IntProgress(value=0, description='Downloading', max=361, style=ProgressStyle(description_width=…"
      ]
     },
     "metadata": {
      "tags": []
     },
     "output_type": "display_data"
    },
    {
     "name": "stdout",
     "output_type": "stream",
     "text": [
      "\n"
     ]
    },
    {
     "data": {
      "application/vnd.jupyter.widget-view+json": {
       "model_id": "6e382e30c7e046008b4e694fbcb8fa24",
       "version_major": 2,
       "version_minor": 0
      },
      "text/plain": [
       "HBox(children=(IntProgress(value=0, description='Downloading', max=440473133, style=ProgressStyle(description_…"
      ]
     },
     "metadata": {
      "tags": []
     },
     "output_type": "display_data"
    },
    {
     "name": "stdout",
     "output_type": "stream",
     "text": [
      "\n"
     ]
    },
    {
     "data": {
      "application/vnd.jupyter.widget-view+json": {
       "model_id": "19e4cf1f79b44c0e828ca55e2f385fa6",
       "version_major": 2,
       "version_minor": 0
      },
      "text/plain": [
       "HBox(children=(IntProgress(value=0, description='Downloading', max=231508, style=ProgressStyle(description_wid…"
      ]
     },
     "metadata": {
      "tags": []
     },
     "output_type": "display_data"
    },
    {
     "name": "stdout",
     "output_type": "stream",
     "text": [
      "\n"
     ]
    }
   ],
   "source": [
    "bert_model = BertModel.from_pretrained('bert-base-uncased')\n",
    "tokenizer = BertTokenizer.from_pretrained('bert-base-uncased')"
   ]
  },
  {
   "cell_type": "code",
   "execution_count": 0,
   "metadata": {
    "colab": {},
    "colab_type": "code",
    "id": "A_SXx1bfWA07"
   },
   "outputs": [],
   "source": [
    "from torch.utils.data import Dataset, DataLoader"
   ]
  },
  {
   "cell_type": "code",
   "execution_count": 0,
   "metadata": {
    "colab": {},
    "colab_type": "code",
    "id": "LleDhx0pWG29"
   },
   "outputs": [],
   "source": [
    "class LoadDataset(Dataset):\n",
    "\n",
    "    def __init__(self, data, maxlen):\n",
    "\n",
    "        # Store the contents of the file in a pandas dataframe\n",
    "        self.df = data\n",
    "\n",
    "        # Initialize the BERT tokenizer\n",
    "        self.tokenizer = BertTokenizer.from_pretrained('bert-base-uncased')\n",
    "\n",
    "        # Define the Maxlength for padding/truncating\n",
    "        self.maxlen = maxlen\n",
    "\n",
    "    def __len__(self):\n",
    "        return len(self.df)\n",
    "\n",
    "    def __getitem__(self, index):\n",
    "\n",
    "        # Selecting the sentence and label at the specified index in the data frame\n",
    "        sentence = self.df.loc[index, 'statement']\n",
    "        label = self.df.loc[index, 'label']\n",
    "\n",
    "\n",
    "        # Tokenize the sentence\n",
    "        tokens = self.tokenizer.tokenize(sentence)\n",
    "\n",
    "        # Inserting the CLS and SEP token at the beginning and end of the sentence\n",
    "        tokens = ['[CLS]'] + tokens + ['[SEP]']\n",
    "        \n",
    "        # Padding/truncating the sentences to the maximum length\n",
    "        if len(tokens) < self.maxlen:\n",
    "            tokens = tokens + ['[PAD]' for _ in range(self.maxlen - len(tokens))]\n",
    "        else:\n",
    "            tokens = tokens[:self.maxlen-1] + ['[SEP]']\n",
    "        \n",
    "        # Convert the sequence to ids with BERT Vocabulary\n",
    "        tokens_ids = self.tokenizer.convert_tokens_to_ids(tokens)\n",
    "        \n",
    "        # Converting the list to a pytorch tensor\n",
    "        tokens_ids_tensor = torch.tensor(tokens_ids)\n",
    "\n",
    "        # Obtaining the attention mask\n",
    "        attn_mask = (tokens_ids_tensor != 0).long()\n",
    "\n",
    "        return tokens_ids_tensor, attn_mask, label\n"
   ]
  },
  {
   "cell_type": "code",
   "execution_count": 0,
   "metadata": {
    "colab": {},
    "colab_type": "code",
    "id": "9Wde25NPYuXF"
   },
   "outputs": [],
   "source": [
    "df = pd.read_csv('/content/drive/My Drive/research_project/nlp_privacy_policy_analyze/data/processed_privacy_policy_segments_sample_2000_1_class.csv', encoding='utf-8')\n",
    "labels = list(df['slr_based_class'])\n",
    "\n",
    "le = preprocessing.LabelEncoder()\n",
    "le.fit(labels)\n",
    "list(le.classes_)\n",
    "lables_enc = le.transform(labels)\n",
    "df['label'] = lables_enc\n",
    "\n",
    "df_trn, df_val = train_test_split(df[['statement', 'label']], stratify = df['label'], test_size = 0.4, random_state = 12)\n",
    "df_trn = df_trn.reset_index(drop=True)\n",
    "df_val = df_val.reset_index(drop=True)"
   ]
  },
  {
   "cell_type": "code",
   "execution_count": 0,
   "metadata": {
    "colab": {},
    "colab_type": "code",
    "id": "c8Ys3sSKWZIT"
   },
   "outputs": [],
   "source": [
    "# Creating instances of training and validation set\n",
    "train_set = LoadDataset(data = df_trn, maxlen = 64)\n",
    "val_set = LoadDataset(data = df_val, maxlen = 64)"
   ]
  },
  {
   "cell_type": "code",
   "execution_count": 0,
   "metadata": {
    "colab": {},
    "colab_type": "code",
    "id": "gqhTHNW8WhzY"
   },
   "outputs": [],
   "source": [
    "# Creating intsances of training and validation dataloaders\n",
    "train_loader = DataLoader(train_set, batch_size = 32, num_workers = 5)\n",
    "val_loader = DataLoader(val_set, batch_size = 32, num_workers = 5)"
   ]
  },
  {
   "cell_type": "code",
   "execution_count": 0,
   "metadata": {
    "colab": {},
    "colab_type": "code",
    "id": "i9eL3-rYWl5e"
   },
   "outputs": [],
   "source": [
    "from torch import nn"
   ]
  },
  {
   "cell_type": "code",
   "execution_count": 0,
   "metadata": {
    "colab": {},
    "colab_type": "code",
    "id": "4EYwbNp-Wo98"
   },
   "outputs": [],
   "source": [
    "class SentimentClassifier(nn.Module):\n",
    "\n",
    "    def __init__(self, freeze_bert = True):\n",
    "        super(SentimentClassifier, self).__init__()\n",
    "\n",
    "        # Instantiating the BERT model object \n",
    "        self.bert_layer = BertModel.from_pretrained('bert-base-uncased')\n",
    "        \n",
    "        # Defining layers like dropout and linear\n",
    "        self.dropout = nn.Dropout(0.1)\n",
    "        self.classifier = nn.Linear(768, 1)\n",
    "\n",
    "    def forward(self, seq, attn_masks):\n",
    "        '''\n",
    "        Inputs:\n",
    "            -seq : Tensor of shape [B, T] containing token ids of sequences\n",
    "            -attn_masks : Tensor of shape [B, T] containing attention masks to be used to avoid contibution of PAD tokens\n",
    "        '''\n",
    "\n",
    "        # Getting contextualized representations from BERT Layer\n",
    "        cont_reps, _ = self.bert_layer(seq, attention_mask = attn_masks)\n",
    "\n",
    "        # Obtaining the representation of [CLS] head\n",
    "        cls_rep = cont_reps[:, 0]\n",
    "        # print('CLS shape: ',cls_rep.shape)\n",
    "\n",
    "        # Feeding cls_rep to the classifier layer\n",
    "        logits = self.classifier(cls_rep)\n",
    "        # print('Logits shape: ',logits.shape)\n",
    "\n",
    "        return logits"
   ]
  },
  {
   "cell_type": "code",
   "execution_count": 0,
   "metadata": {
    "colab": {},
    "colab_type": "code",
    "id": "y8y_UA8UWxVG"
   },
   "outputs": [],
   "source": [
    "model = SentimentClassifier()"
   ]
  },
  {
   "cell_type": "code",
   "execution_count": 0,
   "metadata": {
    "colab": {},
    "colab_type": "code",
    "id": "NNJGTs1LWyNa"
   },
   "outputs": [],
   "source": [
    "from torch.optim import Adam\n",
    "from torch.nn import BCEWithLogitsLoss\n",
    "\n",
    "criterion = BCEWithLogitsLoss()\n",
    "optimizer = Adam(model.parameters(), lr = 2e-5)"
   ]
  },
  {
   "cell_type": "code",
   "execution_count": 14,
   "metadata": {
    "colab": {
     "base_uri": "https://localhost:8080/",
     "height": 34
    },
    "colab_type": "code",
    "executionInfo": {
     "elapsed": 102703,
     "status": "ok",
     "timestamp": 1583411171231,
     "user": {
      "displayName": "Lahiru Manohara",
      "photoUrl": "https://lh3.googleusercontent.com/a-/AOh14GiGw3QUrn5SS6e6cppmksTwrnQq4Xwq1Hai0KmO6A=s64",
      "userId": "03480165537579501658"
     },
     "user_tz": 0
    },
    "id": "hZvJUks-XClB",
    "outputId": "a2fa5f03-3656-4190-af5b-3a9bb4a02475"
   },
   "outputs": [
    {
     "name": "stdout",
     "output_type": "stream",
     "text": [
      "cuda\n"
     ]
    }
   ],
   "source": [
    "if torch.cuda.is_available():\n",
    "  device = 'cuda'\n",
    "else:\n",
    "  device = 'cpu'\n",
    "\n",
    "print(device)\n"
   ]
  },
  {
   "cell_type": "code",
   "execution_count": 0,
   "metadata": {
    "colab": {},
    "colab_type": "code",
    "id": "ZBPtDyvuXF-e"
   },
   "outputs": [],
   "source": [
    "# Defining a function for calculating accuracy\n",
    "def logits_accuracy(logits, labels):\n",
    "    probs = torch.sigmoid(logits.unsqueeze(-1))\n",
    "    preds = (probs > 0.5).long()\n",
    "    acc = (preds.squeeze() == labels).float().mean()\n",
    "    return acc"
   ]
  },
  {
   "cell_type": "code",
   "execution_count": 0,
   "metadata": {
    "colab": {},
    "colab_type": "code",
    "id": "yxOh_tSVXI8t"
   },
   "outputs": [],
   "source": [
    "# Defining an evaluation function for training \n",
    "def evaluate(net, criterion, val_loader, device):\n",
    "  \n",
    "    losses, accuracies = 0, 0\n",
    "    \n",
    "    # Setting model to evaluation mode\n",
    "    net.eval()\n",
    "\n",
    "    count = 0\n",
    "    for (seq, attn_masks, labels) in val_loader:\n",
    "        count += 1\n",
    "\n",
    "        # Move inputs and targets to device\n",
    "        seq, attn_masks, labels = seq.to(device), attn_masks.to(device), labels.to(device)\n",
    "\n",
    "        # Get logit predictions\n",
    "        val_logits = net(seq, attn_masks)\n",
    "\n",
    "        # Calculate loss\n",
    "        val_loss = criterion(val_logits.squeeze(-1), labels.float())\n",
    "        losses += val_loss.item()\n",
    "\n",
    "        # Calculate validation accuracy\n",
    "        accuracies += logits_accuracy(val_logits, labels)\n",
    "\n",
    "    return losses / count, accuracies / count"
   ]
  },
  {
   "cell_type": "code",
   "execution_count": 0,
   "metadata": {
    "colab": {},
    "colab_type": "code",
    "id": "widCWovtXMBf"
   },
   "outputs": [],
   "source": [
    "# from time import time"
   ]
  },
  {
   "cell_type": "code",
   "execution_count": 0,
   "metadata": {
    "colab": {},
    "colab_type": "code",
    "id": "l9dWnpX3XPX1"
   },
   "outputs": [],
   "source": [
    "def train(net, criterion, optimizer, train_loader, val_loader, device, epochs=4, print_every=100):\n",
    "    \n",
    "    # Move model to device\n",
    "    net.to(device)\n",
    "    # Setting model to training mode\n",
    "    net.train()\n",
    "\n",
    "    print('========== ========== STARTING TRAINING ========== ==========')\n",
    "\n",
    "    for epoch in range(epochs):\n",
    "\n",
    "        print('\\n\\n========== EPOCH {} =========='.format(epoch))        \n",
    "        # t1 = time()\n",
    "\n",
    "        print(train_loader)\n",
    "        for i, (seq, attn_masks, labels) in enumerate(train_loader):\n",
    "\n",
    "            # Clear gradients\n",
    "            optimizer.zero_grad()  \n",
    "\n",
    "            # Moving tensors to device\n",
    "            seq, attn_masks, labels = seq.to(device), attn_masks.to(device), labels.to(device)\n",
    "\n",
    "            # Obtaining the logits from the model\n",
    "            logits = net(seq,attn_masks)\n",
    "\n",
    "            # Calculating the loss\n",
    "            loss = criterion(logits.squeeze(-1), labels.float())\n",
    "\n",
    "            # Backpropagating the gradients\n",
    "            loss.backward()\n",
    "\n",
    "            # Clipping gradients to tackle exploding gradients\n",
    "            nn.utils.clip_grad_norm_(net.parameters(), 1)\n",
    "\n",
    "            # Optimization step\n",
    "            optimizer.step()\n",
    "\n",
    "            if (i + 1) % print_every == 0:\n",
    "                print(\"Iteration {} ==== Loss: {}\".format(i+1, loss.item()))\n",
    "\n",
    "        # t2 = time()\n",
    "        # print('Time Taken for Epoch: {}'.format(t2-t1))\n",
    "        print('\\n========== Validating ==========')\n",
    "        mean_val_loss, mean_val_acc = evaluate(net, criterion, val_loader, device)\n",
    "        print(\"Validation Loss: {}\\nValidation Accuracy: {}\".format(mean_val_loss, mean_val_acc))\n"
   ]
  },
  {
   "cell_type": "code",
   "execution_count": 19,
   "metadata": {
    "colab": {
     "base_uri": "https://localhost:8080/",
     "height": 571
    },
    "colab_type": "code",
    "executionInfo": {
     "elapsed": 148983,
     "status": "ok",
     "timestamp": 1583411217526,
     "user": {
      "displayName": "Lahiru Manohara",
      "photoUrl": "https://lh3.googleusercontent.com/a-/AOh14GiGw3QUrn5SS6e6cppmksTwrnQq4Xwq1Hai0KmO6A=s64",
      "userId": "03480165537579501658"
     },
     "user_tz": 0
    },
    "id": "oC2Ry1A9XU0B",
    "outputId": "fd890c7f-3124-40b9-de8f-7f3559e66dac"
   },
   "outputs": [
    {
     "name": "stdout",
     "output_type": "stream",
     "text": [
      "========== ========== STARTING TRAINING ========== ==========\n",
      "\n",
      "\n",
      "========== EPOCH 0 ==========\n",
      "<torch.utils.data.dataloader.DataLoader object at 0x7f22862c96d8>\n",
      "\n",
      "========== Validating ==========\n",
      "Validation Loss: -2.3385675475001335\n",
      "Validation Accuracy: 0.532031238079071\n",
      "\n",
      "\n",
      "========== EPOCH 1 ==========\n",
      "<torch.utils.data.dataloader.DataLoader object at 0x7f22862c96d8>\n",
      "\n",
      "========== Validating ==========\n",
      "Validation Loss: -3.680683881044388\n",
      "Validation Accuracy: 0.532031238079071\n",
      "\n",
      "\n",
      "========== EPOCH 2 ==========\n",
      "<torch.utils.data.dataloader.DataLoader object at 0x7f22862c96d8>\n",
      "\n",
      "========== Validating ==========\n",
      "Validation Loss: -4.519296646118164\n",
      "Validation Accuracy: 0.532031238079071\n",
      "\n",
      "\n",
      "========== EPOCH 3 ==========\n",
      "<torch.utils.data.dataloader.DataLoader object at 0x7f22862c96d8>\n",
      "\n",
      "========== Validating ==========\n",
      "Validation Loss: -5.127998769283295\n",
      "Validation Accuracy: 0.532031238079071\n"
     ]
    }
   ],
   "source": [
    "# %%time\n",
    "# starting training\n",
    "train(model, criterion, optimizer, train_loader, val_loader, device, epochs=4, print_every=100)"
   ]
  }
 ],
 "metadata": {
  "accelerator": "GPU",
  "colab": {
   "authorship_tag": "ABX9TyNnormkLoFDE1oCu/jC5/In",
   "collapsed_sections": [],
   "name": "BERT_policy_classifier.ipynb",
   "provenance": []
  },
  "kernelspec": {
   "display_name": "Python 3",
   "language": "python",
   "name": "python3"
  },
  "language_info": {
   "codemirror_mode": {
    "name": "ipython",
    "version": 3
   },
   "file_extension": ".py",
   "mimetype": "text/x-python",
   "name": "python",
   "nbconvert_exporter": "python",
   "pygments_lexer": "ipython3",
   "version": "3.6.10"
  },
  "widgets": {
   "application/vnd.jupyter.widget-state+json": {
    "0c5073dea88f42e19dfff5afabb1fe05": {
     "model_module": "@jupyter-widgets/controls",
     "model_name": "HTMLModel",
     "state": {
      "_dom_classes": [],
      "_model_module": "@jupyter-widgets/controls",
      "_model_module_version": "1.5.0",
      "_model_name": "HTMLModel",
      "_view_count": null,
      "_view_module": "@jupyter-widgets/controls",
      "_view_module_version": "1.5.0",
      "_view_name": "HTMLView",
      "description": "",
      "description_tooltip": null,
      "layout": "IPY_MODEL_aa81fe9c38144f9e8282277c06318dbd",
      "placeholder": "​",
      "style": "IPY_MODEL_de9990794f5d4605aa1f8ed1a9446719",
      "value": "100% 440M/440M [00:39&lt;00:00, 11.2MB/s]"
     }
    },
    "15b8dc01e2ff4d93b0036eed8da4ddf9": {
     "model_module": "@jupyter-widgets/controls",
     "model_name": "ProgressStyleModel",
     "state": {
      "_model_module": "@jupyter-widgets/controls",
      "_model_module_version": "1.5.0",
      "_model_name": "ProgressStyleModel",
      "_view_count": null,
      "_view_module": "@jupyter-widgets/base",
      "_view_module_version": "1.2.0",
      "_view_name": "StyleView",
      "bar_color": null,
      "description_width": "initial"
     }
    },
    "19e4cf1f79b44c0e828ca55e2f385fa6": {
     "model_module": "@jupyter-widgets/controls",
     "model_name": "HBoxModel",
     "state": {
      "_dom_classes": [],
      "_model_module": "@jupyter-widgets/controls",
      "_model_module_version": "1.5.0",
      "_model_name": "HBoxModel",
      "_view_count": null,
      "_view_module": "@jupyter-widgets/controls",
      "_view_module_version": "1.5.0",
      "_view_name": "HBoxView",
      "box_style": "",
      "children": [
       "IPY_MODEL_8db47d9177ca49188fcc9c77e25ab2fd",
       "IPY_MODEL_1a1ee6c2cf574a61b231becd02762e88"
      ],
      "layout": "IPY_MODEL_2160947de6fd49139aed0a272fbb4d5b"
     }
    },
    "1a1ee6c2cf574a61b231becd02762e88": {
     "model_module": "@jupyter-widgets/controls",
     "model_name": "HTMLModel",
     "state": {
      "_dom_classes": [],
      "_model_module": "@jupyter-widgets/controls",
      "_model_module_version": "1.5.0",
      "_model_name": "HTMLModel",
      "_view_count": null,
      "_view_module": "@jupyter-widgets/controls",
      "_view_module_version": "1.5.0",
      "_view_name": "HTMLView",
      "description": "",
      "description_tooltip": null,
      "layout": "IPY_MODEL_3b60020c884b43f38ee4fe84acd4a7c4",
      "placeholder": "​",
      "style": "IPY_MODEL_2c3d300488ba477fa1a1569ee75290eb",
      "value": "100% 232k/232k [00:00&lt;00:00, 412kB/s]"
     }
    },
    "2160947de6fd49139aed0a272fbb4d5b": {
     "model_module": "@jupyter-widgets/base",
     "model_name": "LayoutModel",
     "state": {
      "_model_module": "@jupyter-widgets/base",
      "_model_module_version": "1.2.0",
      "_model_name": "LayoutModel",
      "_view_count": null,
      "_view_module": "@jupyter-widgets/base",
      "_view_module_version": "1.2.0",
      "_view_name": "LayoutView",
      "align_content": null,
      "align_items": null,
      "align_self": null,
      "border": null,
      "bottom": null,
      "display": null,
      "flex": null,
      "flex_flow": null,
      "grid_area": null,
      "grid_auto_columns": null,
      "grid_auto_flow": null,
      "grid_auto_rows": null,
      "grid_column": null,
      "grid_gap": null,
      "grid_row": null,
      "grid_template_areas": null,
      "grid_template_columns": null,
      "grid_template_rows": null,
      "height": null,
      "justify_content": null,
      "justify_items": null,
      "left": null,
      "margin": null,
      "max_height": null,
      "max_width": null,
      "min_height": null,
      "min_width": null,
      "object_fit": null,
      "object_position": null,
      "order": null,
      "overflow": null,
      "overflow_x": null,
      "overflow_y": null,
      "padding": null,
      "right": null,
      "top": null,
      "visibility": null,
      "width": null
     }
    },
    "2b12033a380343e18d709e170064064a": {
     "model_module": "@jupyter-widgets/controls",
     "model_name": "HTMLModel",
     "state": {
      "_dom_classes": [],
      "_model_module": "@jupyter-widgets/controls",
      "_model_module_version": "1.5.0",
      "_model_name": "HTMLModel",
      "_view_count": null,
      "_view_module": "@jupyter-widgets/controls",
      "_view_module_version": "1.5.0",
      "_view_name": "HTMLView",
      "description": "",
      "description_tooltip": null,
      "layout": "IPY_MODEL_7075617e90af4443a0879829566a1bf7",
      "placeholder": "​",
      "style": "IPY_MODEL_5cd15ee9ddf94a54903e7178bdd776ce",
      "value": "100% 361/361 [00:00&lt;00:00, 10.3kB/s]"
     }
    },
    "2c3d300488ba477fa1a1569ee75290eb": {
     "model_module": "@jupyter-widgets/controls",
     "model_name": "DescriptionStyleModel",
     "state": {
      "_model_module": "@jupyter-widgets/controls",
      "_model_module_version": "1.5.0",
      "_model_name": "DescriptionStyleModel",
      "_view_count": null,
      "_view_module": "@jupyter-widgets/base",
      "_view_module_version": "1.2.0",
      "_view_name": "StyleView",
      "description_width": ""
     }
    },
    "3b60020c884b43f38ee4fe84acd4a7c4": {
     "model_module": "@jupyter-widgets/base",
     "model_name": "LayoutModel",
     "state": {
      "_model_module": "@jupyter-widgets/base",
      "_model_module_version": "1.2.0",
      "_model_name": "LayoutModel",
      "_view_count": null,
      "_view_module": "@jupyter-widgets/base",
      "_view_module_version": "1.2.0",
      "_view_name": "LayoutView",
      "align_content": null,
      "align_items": null,
      "align_self": null,
      "border": null,
      "bottom": null,
      "display": null,
      "flex": null,
      "flex_flow": null,
      "grid_area": null,
      "grid_auto_columns": null,
      "grid_auto_flow": null,
      "grid_auto_rows": null,
      "grid_column": null,
      "grid_gap": null,
      "grid_row": null,
      "grid_template_areas": null,
      "grid_template_columns": null,
      "grid_template_rows": null,
      "height": null,
      "justify_content": null,
      "justify_items": null,
      "left": null,
      "margin": null,
      "max_height": null,
      "max_width": null,
      "min_height": null,
      "min_width": null,
      "object_fit": null,
      "object_position": null,
      "order": null,
      "overflow": null,
      "overflow_x": null,
      "overflow_y": null,
      "padding": null,
      "right": null,
      "top": null,
      "visibility": null,
      "width": null
     }
    },
    "3ecebdb8e70c4a8db9059c9e7796aa32": {
     "model_module": "@jupyter-widgets/base",
     "model_name": "LayoutModel",
     "state": {
      "_model_module": "@jupyter-widgets/base",
      "_model_module_version": "1.2.0",
      "_model_name": "LayoutModel",
      "_view_count": null,
      "_view_module": "@jupyter-widgets/base",
      "_view_module_version": "1.2.0",
      "_view_name": "LayoutView",
      "align_content": null,
      "align_items": null,
      "align_self": null,
      "border": null,
      "bottom": null,
      "display": null,
      "flex": null,
      "flex_flow": null,
      "grid_area": null,
      "grid_auto_columns": null,
      "grid_auto_flow": null,
      "grid_auto_rows": null,
      "grid_column": null,
      "grid_gap": null,
      "grid_row": null,
      "grid_template_areas": null,
      "grid_template_columns": null,
      "grid_template_rows": null,
      "height": null,
      "justify_content": null,
      "justify_items": null,
      "left": null,
      "margin": null,
      "max_height": null,
      "max_width": null,
      "min_height": null,
      "min_width": null,
      "object_fit": null,
      "object_position": null,
      "order": null,
      "overflow": null,
      "overflow_x": null,
      "overflow_y": null,
      "padding": null,
      "right": null,
      "top": null,
      "visibility": null,
      "width": null
     }
    },
    "46a34bfd57f64c548fded3f8797319ca": {
     "model_module": "@jupyter-widgets/base",
     "model_name": "LayoutModel",
     "state": {
      "_model_module": "@jupyter-widgets/base",
      "_model_module_version": "1.2.0",
      "_model_name": "LayoutModel",
      "_view_count": null,
      "_view_module": "@jupyter-widgets/base",
      "_view_module_version": "1.2.0",
      "_view_name": "LayoutView",
      "align_content": null,
      "align_items": null,
      "align_self": null,
      "border": null,
      "bottom": null,
      "display": null,
      "flex": null,
      "flex_flow": null,
      "grid_area": null,
      "grid_auto_columns": null,
      "grid_auto_flow": null,
      "grid_auto_rows": null,
      "grid_column": null,
      "grid_gap": null,
      "grid_row": null,
      "grid_template_areas": null,
      "grid_template_columns": null,
      "grid_template_rows": null,
      "height": null,
      "justify_content": null,
      "justify_items": null,
      "left": null,
      "margin": null,
      "max_height": null,
      "max_width": null,
      "min_height": null,
      "min_width": null,
      "object_fit": null,
      "object_position": null,
      "order": null,
      "overflow": null,
      "overflow_x": null,
      "overflow_y": null,
      "padding": null,
      "right": null,
      "top": null,
      "visibility": null,
      "width": null
     }
    },
    "578bd952d468462bb81529b0a8ff4194": {
     "model_module": "@jupyter-widgets/base",
     "model_name": "LayoutModel",
     "state": {
      "_model_module": "@jupyter-widgets/base",
      "_model_module_version": "1.2.0",
      "_model_name": "LayoutModel",
      "_view_count": null,
      "_view_module": "@jupyter-widgets/base",
      "_view_module_version": "1.2.0",
      "_view_name": "LayoutView",
      "align_content": null,
      "align_items": null,
      "align_self": null,
      "border": null,
      "bottom": null,
      "display": null,
      "flex": null,
      "flex_flow": null,
      "grid_area": null,
      "grid_auto_columns": null,
      "grid_auto_flow": null,
      "grid_auto_rows": null,
      "grid_column": null,
      "grid_gap": null,
      "grid_row": null,
      "grid_template_areas": null,
      "grid_template_columns": null,
      "grid_template_rows": null,
      "height": null,
      "justify_content": null,
      "justify_items": null,
      "left": null,
      "margin": null,
      "max_height": null,
      "max_width": null,
      "min_height": null,
      "min_width": null,
      "object_fit": null,
      "object_position": null,
      "order": null,
      "overflow": null,
      "overflow_x": null,
      "overflow_y": null,
      "padding": null,
      "right": null,
      "top": null,
      "visibility": null,
      "width": null
     }
    },
    "588de48cffb04756afc1b50e2c77830f": {
     "model_module": "@jupyter-widgets/base",
     "model_name": "LayoutModel",
     "state": {
      "_model_module": "@jupyter-widgets/base",
      "_model_module_version": "1.2.0",
      "_model_name": "LayoutModel",
      "_view_count": null,
      "_view_module": "@jupyter-widgets/base",
      "_view_module_version": "1.2.0",
      "_view_name": "LayoutView",
      "align_content": null,
      "align_items": null,
      "align_self": null,
      "border": null,
      "bottom": null,
      "display": null,
      "flex": null,
      "flex_flow": null,
      "grid_area": null,
      "grid_auto_columns": null,
      "grid_auto_flow": null,
      "grid_auto_rows": null,
      "grid_column": null,
      "grid_gap": null,
      "grid_row": null,
      "grid_template_areas": null,
      "grid_template_columns": null,
      "grid_template_rows": null,
      "height": null,
      "justify_content": null,
      "justify_items": null,
      "left": null,
      "margin": null,
      "max_height": null,
      "max_width": null,
      "min_height": null,
      "min_width": null,
      "object_fit": null,
      "object_position": null,
      "order": null,
      "overflow": null,
      "overflow_x": null,
      "overflow_y": null,
      "padding": null,
      "right": null,
      "top": null,
      "visibility": null,
      "width": null
     }
    },
    "5cd15ee9ddf94a54903e7178bdd776ce": {
     "model_module": "@jupyter-widgets/controls",
     "model_name": "DescriptionStyleModel",
     "state": {
      "_model_module": "@jupyter-widgets/controls",
      "_model_module_version": "1.5.0",
      "_model_name": "DescriptionStyleModel",
      "_view_count": null,
      "_view_module": "@jupyter-widgets/base",
      "_view_module_version": "1.2.0",
      "_view_name": "StyleView",
      "description_width": ""
     }
    },
    "61fa628876d947c99fc18f4812dd092e": {
     "model_module": "@jupyter-widgets/base",
     "model_name": "LayoutModel",
     "state": {
      "_model_module": "@jupyter-widgets/base",
      "_model_module_version": "1.2.0",
      "_model_name": "LayoutModel",
      "_view_count": null,
      "_view_module": "@jupyter-widgets/base",
      "_view_module_version": "1.2.0",
      "_view_name": "LayoutView",
      "align_content": null,
      "align_items": null,
      "align_self": null,
      "border": null,
      "bottom": null,
      "display": null,
      "flex": null,
      "flex_flow": null,
      "grid_area": null,
      "grid_auto_columns": null,
      "grid_auto_flow": null,
      "grid_auto_rows": null,
      "grid_column": null,
      "grid_gap": null,
      "grid_row": null,
      "grid_template_areas": null,
      "grid_template_columns": null,
      "grid_template_rows": null,
      "height": null,
      "justify_content": null,
      "justify_items": null,
      "left": null,
      "margin": null,
      "max_height": null,
      "max_width": null,
      "min_height": null,
      "min_width": null,
      "object_fit": null,
      "object_position": null,
      "order": null,
      "overflow": null,
      "overflow_x": null,
      "overflow_y": null,
      "padding": null,
      "right": null,
      "top": null,
      "visibility": null,
      "width": null
     }
    },
    "6a1c60aa8c1e407ab5dcb6e3e498032f": {
     "model_module": "@jupyter-widgets/controls",
     "model_name": "ProgressStyleModel",
     "state": {
      "_model_module": "@jupyter-widgets/controls",
      "_model_module_version": "1.5.0",
      "_model_name": "ProgressStyleModel",
      "_view_count": null,
      "_view_module": "@jupyter-widgets/base",
      "_view_module_version": "1.2.0",
      "_view_name": "StyleView",
      "bar_color": null,
      "description_width": "initial"
     }
    },
    "6e382e30c7e046008b4e694fbcb8fa24": {
     "model_module": "@jupyter-widgets/controls",
     "model_name": "HBoxModel",
     "state": {
      "_dom_classes": [],
      "_model_module": "@jupyter-widgets/controls",
      "_model_module_version": "1.5.0",
      "_model_name": "HBoxModel",
      "_view_count": null,
      "_view_module": "@jupyter-widgets/controls",
      "_view_module_version": "1.5.0",
      "_view_name": "HBoxView",
      "box_style": "",
      "children": [
       "IPY_MODEL_ddcaff150a0346c898ca631615af350c",
       "IPY_MODEL_0c5073dea88f42e19dfff5afabb1fe05"
      ],
      "layout": "IPY_MODEL_3ecebdb8e70c4a8db9059c9e7796aa32"
     }
    },
    "7075617e90af4443a0879829566a1bf7": {
     "model_module": "@jupyter-widgets/base",
     "model_name": "LayoutModel",
     "state": {
      "_model_module": "@jupyter-widgets/base",
      "_model_module_version": "1.2.0",
      "_model_name": "LayoutModel",
      "_view_count": null,
      "_view_module": "@jupyter-widgets/base",
      "_view_module_version": "1.2.0",
      "_view_name": "LayoutView",
      "align_content": null,
      "align_items": null,
      "align_self": null,
      "border": null,
      "bottom": null,
      "display": null,
      "flex": null,
      "flex_flow": null,
      "grid_area": null,
      "grid_auto_columns": null,
      "grid_auto_flow": null,
      "grid_auto_rows": null,
      "grid_column": null,
      "grid_gap": null,
      "grid_row": null,
      "grid_template_areas": null,
      "grid_template_columns": null,
      "grid_template_rows": null,
      "height": null,
      "justify_content": null,
      "justify_items": null,
      "left": null,
      "margin": null,
      "max_height": null,
      "max_width": null,
      "min_height": null,
      "min_width": null,
      "object_fit": null,
      "object_position": null,
      "order": null,
      "overflow": null,
      "overflow_x": null,
      "overflow_y": null,
      "padding": null,
      "right": null,
      "top": null,
      "visibility": null,
      "width": null
     }
    },
    "8db47d9177ca49188fcc9c77e25ab2fd": {
     "model_module": "@jupyter-widgets/controls",
     "model_name": "IntProgressModel",
     "state": {
      "_dom_classes": [],
      "_model_module": "@jupyter-widgets/controls",
      "_model_module_version": "1.5.0",
      "_model_name": "IntProgressModel",
      "_view_count": null,
      "_view_module": "@jupyter-widgets/controls",
      "_view_module_version": "1.5.0",
      "_view_name": "ProgressView",
      "bar_style": "success",
      "description": "Downloading",
      "description_tooltip": null,
      "layout": "IPY_MODEL_61fa628876d947c99fc18f4812dd092e",
      "max": 231508,
      "min": 0,
      "orientation": "horizontal",
      "style": "IPY_MODEL_9ffd1c1cf1f14bd7999b775b0a9de874",
      "value": 231508
     }
    },
    "9ffd1c1cf1f14bd7999b775b0a9de874": {
     "model_module": "@jupyter-widgets/controls",
     "model_name": "ProgressStyleModel",
     "state": {
      "_model_module": "@jupyter-widgets/controls",
      "_model_module_version": "1.5.0",
      "_model_name": "ProgressStyleModel",
      "_view_count": null,
      "_view_module": "@jupyter-widgets/base",
      "_view_module_version": "1.2.0",
      "_view_name": "StyleView",
      "bar_color": null,
      "description_width": "initial"
     }
    },
    "a4ebb325f6744fb395a9720e7cf38ab6": {
     "model_module": "@jupyter-widgets/controls",
     "model_name": "HBoxModel",
     "state": {
      "_dom_classes": [],
      "_model_module": "@jupyter-widgets/controls",
      "_model_module_version": "1.5.0",
      "_model_name": "HBoxModel",
      "_view_count": null,
      "_view_module": "@jupyter-widgets/controls",
      "_view_module_version": "1.5.0",
      "_view_name": "HBoxView",
      "box_style": "",
      "children": [
       "IPY_MODEL_d2392ed73edb42c58d458a4ef0d9e50e",
       "IPY_MODEL_2b12033a380343e18d709e170064064a"
      ],
      "layout": "IPY_MODEL_578bd952d468462bb81529b0a8ff4194"
     }
    },
    "aa81fe9c38144f9e8282277c06318dbd": {
     "model_module": "@jupyter-widgets/base",
     "model_name": "LayoutModel",
     "state": {
      "_model_module": "@jupyter-widgets/base",
      "_model_module_version": "1.2.0",
      "_model_name": "LayoutModel",
      "_view_count": null,
      "_view_module": "@jupyter-widgets/base",
      "_view_module_version": "1.2.0",
      "_view_name": "LayoutView",
      "align_content": null,
      "align_items": null,
      "align_self": null,
      "border": null,
      "bottom": null,
      "display": null,
      "flex": null,
      "flex_flow": null,
      "grid_area": null,
      "grid_auto_columns": null,
      "grid_auto_flow": null,
      "grid_auto_rows": null,
      "grid_column": null,
      "grid_gap": null,
      "grid_row": null,
      "grid_template_areas": null,
      "grid_template_columns": null,
      "grid_template_rows": null,
      "height": null,
      "justify_content": null,
      "justify_items": null,
      "left": null,
      "margin": null,
      "max_height": null,
      "max_width": null,
      "min_height": null,
      "min_width": null,
      "object_fit": null,
      "object_position": null,
      "order": null,
      "overflow": null,
      "overflow_x": null,
      "overflow_y": null,
      "padding": null,
      "right": null,
      "top": null,
      "visibility": null,
      "width": null
     }
    },
    "d2392ed73edb42c58d458a4ef0d9e50e": {
     "model_module": "@jupyter-widgets/controls",
     "model_name": "IntProgressModel",
     "state": {
      "_dom_classes": [],
      "_model_module": "@jupyter-widgets/controls",
      "_model_module_version": "1.5.0",
      "_model_name": "IntProgressModel",
      "_view_count": null,
      "_view_module": "@jupyter-widgets/controls",
      "_view_module_version": "1.5.0",
      "_view_name": "ProgressView",
      "bar_style": "success",
      "description": "Downloading",
      "description_tooltip": null,
      "layout": "IPY_MODEL_588de48cffb04756afc1b50e2c77830f",
      "max": 361,
      "min": 0,
      "orientation": "horizontal",
      "style": "IPY_MODEL_6a1c60aa8c1e407ab5dcb6e3e498032f",
      "value": 361
     }
    },
    "ddcaff150a0346c898ca631615af350c": {
     "model_module": "@jupyter-widgets/controls",
     "model_name": "IntProgressModel",
     "state": {
      "_dom_classes": [],
      "_model_module": "@jupyter-widgets/controls",
      "_model_module_version": "1.5.0",
      "_model_name": "IntProgressModel",
      "_view_count": null,
      "_view_module": "@jupyter-widgets/controls",
      "_view_module_version": "1.5.0",
      "_view_name": "ProgressView",
      "bar_style": "success",
      "description": "Downloading",
      "description_tooltip": null,
      "layout": "IPY_MODEL_46a34bfd57f64c548fded3f8797319ca",
      "max": 440473133,
      "min": 0,
      "orientation": "horizontal",
      "style": "IPY_MODEL_15b8dc01e2ff4d93b0036eed8da4ddf9",
      "value": 440473133
     }
    },
    "de9990794f5d4605aa1f8ed1a9446719": {
     "model_module": "@jupyter-widgets/controls",
     "model_name": "DescriptionStyleModel",
     "state": {
      "_model_module": "@jupyter-widgets/controls",
      "_model_module_version": "1.5.0",
      "_model_name": "DescriptionStyleModel",
      "_view_count": null,
      "_view_module": "@jupyter-widgets/base",
      "_view_module_version": "1.2.0",
      "_view_name": "StyleView",
      "description_width": ""
     }
    }
   }
  }
 },
 "nbformat": 4,
 "nbformat_minor": 1
}
