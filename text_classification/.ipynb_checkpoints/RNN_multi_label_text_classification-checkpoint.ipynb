{
 "cells": [
  {
   "cell_type": "code",
   "execution_count": 0,
   "metadata": {
    "colab": {
     "base_uri": "https://localhost:8080/",
     "height": 166
    },
    "colab_type": "code",
    "executionInfo": {
     "elapsed": 22569,
     "status": "ok",
     "timestamp": 1580464745322,
     "user": {
      "displayName": "Lahiru Manohara",
      "photoUrl": "https://lh3.googleusercontent.com/a-/AAuE7mCI-AJifHSePud6EDBiTvjaPYDpKOXY1zCIuEuCJg=s64",
      "userId": "03480165537579501658"
     },
     "user_tz": 0
    },
    "id": "DuajonnhyXhh",
    "outputId": "5d4a86a8-e05a-4f63-d715-ec40d0eef058"
   },
   "outputs": [
    {
     "data": {
      "text/html": [
       "<p style=\"color: red;\">\n",
       "The default version of TensorFlow in Colab will soon switch to TensorFlow 2.x.<br>\n",
       "We recommend you <a href=\"https://www.tensorflow.org/guide/migrate\" target=\"_blank\">upgrade</a> now \n",
       "or ensure your notebook will continue to use TensorFlow 1.x via the <code>%tensorflow_version 1.x</code> magic:\n",
       "<a href=\"https://colab.research.google.com/notebooks/tensorflow_version.ipynb\" target=\"_blank\">more info</a>.</p>\n"
      ],
      "text/plain": [
       "<IPython.core.display.HTML object>"
      ]
     },
     "metadata": {
      "tags": []
     },
     "output_type": "display_data"
    },
    {
     "name": "stdout",
     "output_type": "stream",
     "text": [
      "Go to this URL in a browser: https://accounts.google.com/o/oauth2/auth?client_id=947318989803-6bn6qk8qdgf4n4g3pfee6491hc0brc4i.apps.googleusercontent.com&redirect_uri=urn%3aietf%3awg%3aoauth%3a2.0%3aoob&response_type=code&scope=email%20https%3a%2f%2fwww.googleapis.com%2fauth%2fdocs.test%20https%3a%2f%2fwww.googleapis.com%2fauth%2fdrive%20https%3a%2f%2fwww.googleapis.com%2fauth%2fdrive.photos.readonly%20https%3a%2f%2fwww.googleapis.com%2fauth%2fpeopleapi.readonly\n",
      "\n",
      "Enter your authorization code:\n",
      "··········\n",
      "Mounted at /content/drive\n"
     ]
    }
   ],
   "source": [
    "import tensorflow as tf\n",
    "import numpy as np\n",
    "import pandas as pd\n",
    "from google.colab import drive\n",
    "drive.mount('/content/drive')"
   ]
  },
  {
   "cell_type": "code",
   "execution_count": 0,
   "metadata": {
    "colab": {},
    "colab_type": "code",
    "id": "K9HwKw_Oy99l"
   },
   "outputs": [],
   "source": [
    "train_data = '/content/drive/My Drive/research_project/nlp_privacy_policy_analyze/train.csv'\n",
    "glove_embedding = '/content/drive/My Drive/research_project/nlp_privacy_policy_analyze/glove.6B.100d.txt'"
   ]
  },
  {
   "cell_type": "code",
   "execution_count": 0,
   "metadata": {
    "colab": {
     "base_uri": "https://localhost:8080/",
     "height": 134
    },
    "colab_type": "code",
    "executionInfo": {
     "elapsed": 23882,
     "status": "ok",
     "timestamp": 1580464774894,
     "user": {
      "displayName": "Lahiru Manohara",
      "photoUrl": "https://lh3.googleusercontent.com/a-/AAuE7mCI-AJifHSePud6EDBiTvjaPYDpKOXY1zCIuEuCJg=s64",
      "userId": "03480165537579501658"
     },
     "user_tz": 0
    },
    "id": "9Ns7oPt35nTj",
    "outputId": "459d7ddc-41af-419b-d622-af6442f0bd92"
   },
   "outputs": [
    {
     "data": {
      "text/plain": [
       "array([[    0,     0,     0, ...,  4583,  2273,   985],\n",
       "       [    0,     0,     0, ...,   589,  8377,   182],\n",
       "       [    0,     0,     0, ...,     1,   737,   468],\n",
       "       ...,\n",
       "       [    0,     0,     0, ...,  3509, 13675,  4528],\n",
       "       [    0,     0,     0, ...,   151,    34,    11],\n",
       "       [    0,     0,     0, ...,  1627,  2056,    88]], dtype=int32)"
      ]
     },
     "execution_count": 4,
     "metadata": {
      "tags": []
     },
     "output_type": "execute_result"
    }
   ],
   "source": [
    "train = pd.read_csv(train_data)\n",
    "train[\"comment_text\"].fillna(\"fillna\")\n",
    "\n",
    "x_train = train[\"comment_text\"].str.lower()\n",
    "y_train = train[[\"toxic\", \"severe_toxic\", \"obscene\", \"threat\", \"insult\", \"identity_hate\"]].values\n",
    "\n",
    "max_words = 100000\n",
    "max_len = 150\n",
    "\n",
    "embed_size = 100\n",
    "\n",
    "tokenizer = tf.keras.preprocessing.text.Tokenizer(num_words=max_words, lower=True)\n",
    "tokenizer.fit_on_texts(x_train)\n",
    "x_train = tokenizer.texts_to_sequences(x_train)\n",
    "x_train = tf.keras.preprocessing.sequence.pad_sequences(x_train, maxlen=max_len)\n",
    "\n",
    "x_train"
   ]
  },
  {
   "cell_type": "code",
   "execution_count": 0,
   "metadata": {
    "colab": {
     "base_uri": "https://localhost:8080/",
     "height": 34
    },
    "colab_type": "code",
    "executionInfo": {
     "elapsed": 14547,
     "status": "ok",
     "timestamp": 1580464795057,
     "user": {
      "displayName": "Lahiru Manohara",
      "photoUrl": "https://lh3.googleusercontent.com/a-/AAuE7mCI-AJifHSePud6EDBiTvjaPYDpKOXY1zCIuEuCJg=s64",
      "userId": "03480165537579501658"
     },
     "user_tz": 0
    },
    "id": "O7XLDf8lMcUy",
    "outputId": "6aafe89f-2a81-4e0c-d2fb-3f784ac80040"
   },
   "outputs": [
    {
     "data": {
      "text/plain": [
       "(210337, 100)"
      ]
     },
     "execution_count": 5,
     "metadata": {
      "tags": []
     },
     "output_type": "execute_result"
    }
   ],
   "source": [
    "embeddings_index = {}\n",
    "with open(glove_embedding, encoding='utf8') as f:\n",
    "    for line in f:\n",
    "        values = line.rstrip().rsplit(' ')\n",
    "        word = values[0]\n",
    "        embed = np.asarray(values[1:], dtype='float32')\n",
    "        embeddings_index[word] = embed\n",
    "\n",
    "word_index = tokenizer.word_index\n",
    "\n",
    "#num_words = min(max_words, len(word_index) + 1)\n",
    "num_words = len(word_index)\n",
    "\n",
    "embedding_matrix = np.zeros((num_words, embed_size), dtype='float32')\n",
    "for word, i in word_index.items():\n",
    "\n",
    "    if i >= max_words:\n",
    "        continue\n",
    "\n",
    "    embedding_vector = embeddings_index.get(word)\n",
    "\n",
    "    if embedding_vector is not None:\n",
    "        embedding_matrix[i] = embedding_vector\n",
    "\n",
    "embedding_matrix.shape"
   ]
  },
  {
   "cell_type": "code",
   "execution_count": 0,
   "metadata": {
    "colab": {},
    "colab_type": "code",
    "id": "bsXw5JQOQqMm"
   },
   "outputs": [],
   "source": [
    "input = tf.keras.layers.Input(shape=(max_len,))\n",
    "x = tf.keras.layers.Embedding(num_words, embed_size, weights=[embedding_matrix], trainable=False)(input)"
   ]
  },
  {
   "cell_type": "code",
   "execution_count": 0,
   "metadata": {
    "colab": {
     "base_uri": "https://localhost:8080/",
     "height": 658
    },
    "colab_type": "code",
    "executionInfo": {
     "elapsed": 1264,
     "status": "ok",
     "timestamp": 1580464886913,
     "user": {
      "displayName": "Lahiru Manohara",
      "photoUrl": "https://lh3.googleusercontent.com/a-/AAuE7mCI-AJifHSePud6EDBiTvjaPYDpKOXY1zCIuEuCJg=s64",
      "userId": "03480165537579501658"
     },
     "user_tz": 0
    },
    "id": "QnS2soVUQ6Zc",
    "outputId": "7ddcedf6-a990-43c4-e8ea-b40acb3a3be1"
   },
   "outputs": [
    {
     "name": "stdout",
     "output_type": "stream",
     "text": [
      "WARNING:tensorflow:From /usr/local/lib/python3.6/dist-packages/tensorflow_core/python/ops/init_ops.py:97: calling GlorotUniform.__init__ (from tensorflow.python.ops.init_ops) with dtype is deprecated and will be removed in a future version.\n",
      "Instructions for updating:\n",
      "Call initializer instance with the dtype argument instead of passing it to the constructor\n",
      "WARNING:tensorflow:From /usr/local/lib/python3.6/dist-packages/tensorflow_core/python/ops/init_ops.py:97: calling Orthogonal.__init__ (from tensorflow.python.ops.init_ops) with dtype is deprecated and will be removed in a future version.\n",
      "Instructions for updating:\n",
      "Call initializer instance with the dtype argument instead of passing it to the constructor\n",
      "WARNING:tensorflow:From /usr/local/lib/python3.6/dist-packages/tensorflow_core/python/ops/init_ops.py:97: calling Zeros.__init__ (from tensorflow.python.ops.init_ops) with dtype is deprecated and will be removed in a future version.\n",
      "Instructions for updating:\n",
      "Call initializer instance with the dtype argument instead of passing it to the constructor\n",
      "Model: \"model\"\n",
      "__________________________________________________________________________________________________\n",
      "Layer (type)                    Output Shape         Param #     Connected to                     \n",
      "==================================================================================================\n",
      "input_2 (InputLayer)            [(None, 150)]        0                                            \n",
      "__________________________________________________________________________________________________\n",
      "embedding_1 (Embedding)         (None, 150, 100)     21033700    input_2[0][0]                    \n",
      "__________________________________________________________________________________________________\n",
      "bidirectional (Bidirectional)   (None, 150, 256)     175872      embedding_1[0][0]                \n",
      "__________________________________________________________________________________________________\n",
      "conv1d (Conv1D)                 (None, 148, 64)      49216       bidirectional[0][0]              \n",
      "__________________________________________________________________________________________________\n",
      "global_average_pooling1d (Globa (None, 64)           0           conv1d[0][0]                     \n",
      "__________________________________________________________________________________________________\n",
      "global_max_pooling1d (GlobalMax (None, 64)           0           conv1d[0][0]                     \n",
      "__________________________________________________________________________________________________\n",
      "concatenate (Concatenate)       (None, 128)          0           global_average_pooling1d[0][0]   \n",
      "                                                                 global_max_pooling1d[0][0]       \n",
      "__________________________________________________________________________________________________\n",
      "dense (Dense)                   (None, 6)            774         concatenate[0][0]                \n",
      "==================================================================================================\n",
      "Total params: 21,259,562\n",
      "Trainable params: 225,862\n",
      "Non-trainable params: 21,033,700\n",
      "__________________________________________________________________________________________________\n",
      "WARNING:tensorflow:From /usr/local/lib/python3.6/dist-packages/tensorflow_core/python/ops/nn_impl.py:183: where (from tensorflow.python.ops.array_ops) is deprecated and will be removed in a future version.\n",
      "Instructions for updating:\n",
      "Use tf.where in 2.0, which has the same broadcast rule as np.where\n"
     ]
    }
   ],
   "source": [
    "x = tf.keras.layers.Bidirectional(tf.keras.layers.GRU(128, return_sequences=True, dropout=0.1,recurrent_dropout=0.1))(x)\n",
    "x = tf.keras.layers.Conv1D(64, kernel_size=3, padding=\"valid\", kernel_initializer=\"glorot_uniform\")(x)\n",
    "\n",
    "avg_pool = tf.keras.layers.GlobalAveragePooling1D()(x)\n",
    "max_pool = tf.keras.layers.GlobalMaxPooling1D()(x)\n",
    "\n",
    "x = tf.keras.layers.concatenate([avg_pool, max_pool])\n",
    "\n",
    "preds = tf.keras.layers.Dense(6, activation=\"sigmoid\")(x)\n",
    "\n",
    "model = tf.keras.Model(input, preds)\n",
    "\n",
    "model.summary()\n",
    "\n",
    "model.compile(loss='binary_crossentropy', optimizer=tf.keras.optimizers.Adam(lr=1e-3), metrics=['accuracy'])"
   ]
  },
  {
   "cell_type": "code",
   "execution_count": 0,
   "metadata": {
    "colab": {
     "base_uri": "https://localhost:8080/",
     "height": 101
    },
    "colab_type": "code",
    "executionInfo": {
     "elapsed": 1266336,
     "status": "ok",
     "timestamp": 1580466156933,
     "user": {
      "displayName": "Lahiru Manohara",
      "photoUrl": "https://lh3.googleusercontent.com/a-/AAuE7mCI-AJifHSePud6EDBiTvjaPYDpKOXY1zCIuEuCJg=s64",
      "userId": "03480165537579501658"
     },
     "user_tz": 0
    },
    "id": "wVn-TBbkR8qB",
    "outputId": "220648b8-5b80-4cc1-d3d7-869fa341dc1f"
   },
   "outputs": [
    {
     "name": "stdout",
     "output_type": "stream",
     "text": [
      "Train on 127656 samples, validate on 31915 samples\n",
      "127616/127656 [============================>.] - ETA: 0s - loss: 0.0650 - acc: 0.9778\n",
      "Epoch 00001: saving model to /content/drive/My Drive/research_project/nlp_privacy_policy_analyze/cp.ckpt\n",
      "127656/127656 [==============================] - 1264s 10ms/sample - loss: 0.0650 - acc: 0.9778 - val_loss: 0.0576 - val_acc: 0.9798\n"
     ]
    },
    {
     "data": {
      "text/plain": [
       "<tensorflow.python.keras.callbacks.History at 0x7fe389e149e8>"
      ]
     },
     "execution_count": 10,
     "metadata": {
      "tags": []
     },
     "output_type": "execute_result"
    }
   ],
   "source": [
    "batch_size = 128\n",
    " \n",
    "cp_callback = tf.keras.callbacks.ModelCheckpoint('/content/drive/My Drive/research_project/nlp_privacy_policy_analyze/cp.ckpt',\n",
    "                                                 save_weights_only=True,\n",
    "                                                 verbose=1)\n",
    " \n",
    "callbacks = [\n",
    "    tf.keras.callbacks.EarlyStopping(patience=5, monitor='val_loss'),\n",
    "    tf.keras.callbacks.TensorBoard(log_dir='./logs'),\n",
    "    cp_callback\n",
    "]\n",
    " \n",
    "model.fit(x_train, y_train, validation_split=0.2, batch_size=batch_size,\n",
    "          epochs=1, callbacks=callbacks, verbose=1)"
   ]
  },
  {
   "cell_type": "code",
   "execution_count": 0,
   "metadata": {
    "colab": {
     "base_uri": "https://localhost:8080/",
     "height": 87
    },
    "colab_type": "code",
    "executionInfo": {
     "elapsed": 1043,
     "status": "ok",
     "timestamp": 1580466216741,
     "user": {
      "displayName": "Lahiru Manohara",
      "photoUrl": "https://lh3.googleusercontent.com/a-/AAuE7mCI-AJifHSePud6EDBiTvjaPYDpKOXY1zCIuEuCJg=s64",
      "userId": "03480165537579501658"
     },
     "user_tz": 0
    },
    "id": "-dMjOYjahgRU",
    "outputId": "8fdf269f-bdb3-45df-a2c6-481d1df7c356"
   },
   "outputs": [
    {
     "name": "stdout",
     "output_type": "stream",
     "text": [
      "[\"tfd i think we just eced i think we responded to each other without seeing each others responses i added something in response to yours but don't know if you saw mine t c wp chicago wp four\"]\n",
      "[0 0 0 0 0 0]\n",
      "[[0.00413106 0.00024349 0.00064855 0.00055654 0.00079537 0.00024647]]\n"
     ]
    }
   ],
   "source": [
    "latest = tf.train.latest_checkpoint('/content/drive/My Drive/research_project/nlp_privacy_policy_analyze')\n",
    " \n",
    "model.load_weights(latest)\n",
    " \n",
    "predictions = model.predict(np.expand_dims(x_train[41], 0))\n",
    " \n",
    "print(tokenizer.sequences_to_texts([x_train[41]]))\n",
    "print(y_train[41])\n",
    "print(predictions)"
   ]
  }
 ],
 "metadata": {
  "colab": {
   "authorship_tag": "ABX9TyMKf02Np/2EtmFa9J9C0yHO",
   "name": "RNN_multi_label_text_classification.ipynb",
   "provenance": []
  },
  "kernelspec": {
   "display_name": "Python 3",
   "language": "python",
   "name": "python3"
  },
  "language_info": {
   "codemirror_mode": {
    "name": "ipython",
    "version": 3
   },
   "file_extension": ".py",
   "mimetype": "text/x-python",
   "name": "python",
   "nbconvert_exporter": "python",
   "pygments_lexer": "ipython3",
   "version": "3.6.10"
  }
 },
 "nbformat": 4,
 "nbformat_minor": 1
}
